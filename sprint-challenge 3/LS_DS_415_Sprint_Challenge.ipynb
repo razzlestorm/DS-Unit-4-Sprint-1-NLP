{
 "cells": [
  {
   "cell_type": "markdown",
   "metadata": {},
   "source": [
    "<img align=\"left\" src=\"https://lever-client-logos.s3.amazonaws.com/864372b1-534c-480e-acd5-9711f850815c-1524247202159.png\" width=200>\n",
    "<br></br>\n",
    "<br></br>\n",
    "\n",
    "# Sprint Challenge\n",
    "## *Data Science Unit 4 Sprint 1*\n",
    "\n",
    "After a week of Natural Language Processing, you've learned some cool new stuff: how to process text, how turn text into vectors, and how to model topics from documents. Apply your newly acquired skills to one of the most famous NLP datasets out there: [Yelp](https://www.yelp.com/dataset/challenge). As part of the job selection process, some of my friends have been asked to create analysis of this dataset, so I want to empower you to have a head start.  \n",
    "\n",
    "The real dataset is massive (almost 8 gigs uncompressed). I've sampled the data for you to something more managable for the Sprint Challenge. You can analyze the full dataset as a stretch goal or after the sprint challenge. As you work on the challenge, I suggest adding notes about your findings and things you want to analyze in the future.\n",
    "\n",
    "## Challenge Objectives\n",
    "*Successfully complete these all these objectives to earn a 2. There are more details on each objective further down in the notebook.*\n",
    "* <a href=\"#p1\">Part 1</a>: Write a function to tokenize the yelp reviews\n",
    "* <a href=\"#p2\">Part 2</a>: Create a vector representation of those tokens\n",
    "* <a href=\"#p3\">Part 3</a>: Use your tokens in a classification model on yelp rating\n",
    "* <a href=\"#p4\">Part 4</a>: Estimate & Interpret a topic model of the Yelp reviews"
   ]
  },
  {
   "cell_type": "code",
   "execution_count": 81,
   "metadata": {},
   "outputs": [
    {
     "name": "stdout",
     "output_type": "stream",
     "text": [
      "Wall time: 9.18 s\n"
     ]
    }
   ],
   "source": [
    "%%time\n",
    "\n",
    "from gensim import corpora\n",
    "from gensim.corpora import Dictionary\n",
    "from gensim.models import LdaMulticore\n",
    "from gensim.parsing.preprocessing import STOPWORDS\n",
    "from gensim.parsing.preprocessing import remove_stopwords\n",
    "from gensim.utils import simple_preprocess\n",
    "\n",
    "\n",
    "import matplotlib.pyplot as plt\n",
    "\n",
    "import pandas as pd\n",
    "\n",
    "import pyLDAvis.gensim\n",
    "\n",
    "import re\n",
    "\n",
    "import seaborn as sns\n",
    "\n",
    "from sklearn.feature_extraction import text \n",
    "import spacy\n",
    "from spacy.tokenizer import Tokenizer\n",
    "\n",
    "from sklearn.feature_extraction.text import CountVectorizer, TfidfVectorizer\n",
    "from sklearn.linear_model import LogisticRegression\n",
    "from sklearn.linear_model import SGDClassifier\n",
    "from sklearn.model_selection import GridSearchCV\n",
    "from sklearn.neighbors import NearestNeighbors\n",
    "from sklearn.pipeline import Pipeline\n",
    "\n",
    "import squarify\n",
    "\n",
    "\n",
    "import warnings\n",
    "\n",
    "\n",
    "nlp = spacy.load(\"en_core_web_lg\")\n",
    "warnings.filterwarnings(\"ignore\",category=DeprecationWarning)\n",
    "nlp.Defaults.stop_words.add(\" \")"
   ]
  },
  {
   "cell_type": "code",
   "execution_count": 39,
   "metadata": {},
   "outputs": [],
   "source": [
    "# Import Dataset, drop non-English entries\n",
    "yelp = pd.read_json('./data/review_sample.json', lines=True)\n",
    "yelp = yelp.drop([9889, 6204,  469, 6311], axis=0)"
   ]
  },
  {
   "cell_type": "code",
   "execution_count": 40,
   "metadata": {},
   "outputs": [
    {
     "name": "stdout",
     "output_type": "stream",
     "text": [
      "(9996, 9)\n"
     ]
    },
    {
     "data": {
      "text/html": [
       "<div>\n",
       "<style scoped>\n",
       "    .dataframe tbody tr th:only-of-type {\n",
       "        vertical-align: middle;\n",
       "    }\n",
       "\n",
       "    .dataframe tbody tr th {\n",
       "        vertical-align: top;\n",
       "    }\n",
       "\n",
       "    .dataframe thead th {\n",
       "        text-align: right;\n",
       "    }\n",
       "</style>\n",
       "<table border=\"1\" class=\"dataframe\">\n",
       "  <thead>\n",
       "    <tr style=\"text-align: right;\">\n",
       "      <th></th>\n",
       "      <th>business_id</th>\n",
       "      <th>cool</th>\n",
       "      <th>date</th>\n",
       "      <th>funny</th>\n",
       "      <th>review_id</th>\n",
       "      <th>stars</th>\n",
       "      <th>text</th>\n",
       "      <th>useful</th>\n",
       "      <th>user_id</th>\n",
       "    </tr>\n",
       "  </thead>\n",
       "  <tbody>\n",
       "    <tr>\n",
       "      <th>0</th>\n",
       "      <td>nDuEqIyRc8YKS1q1fX0CZg</td>\n",
       "      <td>1</td>\n",
       "      <td>2015-03-31 16:50:30</td>\n",
       "      <td>0</td>\n",
       "      <td>eZs2tpEJtXPwawvHnHZIgQ</td>\n",
       "      <td>1</td>\n",
       "      <td>BEWARE!!! FAKE, FAKE, FAKE....We also own a sm...</td>\n",
       "      <td>10</td>\n",
       "      <td>n1LM36qNg4rqGXIcvVXv8w</td>\n",
       "    </tr>\n",
       "    <tr>\n",
       "      <th>1</th>\n",
       "      <td>eMYeEapscbKNqUDCx705hg</td>\n",
       "      <td>0</td>\n",
       "      <td>2015-12-16 05:31:03</td>\n",
       "      <td>0</td>\n",
       "      <td>DoQDWJsNbU0KL1O29l_Xug</td>\n",
       "      <td>4</td>\n",
       "      <td>Came here for lunch Togo. Service was quick. S...</td>\n",
       "      <td>0</td>\n",
       "      <td>5CgjjDAic2-FAvCtiHpytA</td>\n",
       "    </tr>\n",
       "    <tr>\n",
       "      <th>2</th>\n",
       "      <td>6Q7-wkCPc1KF75jZLOTcMw</td>\n",
       "      <td>1</td>\n",
       "      <td>2010-06-20 19:14:48</td>\n",
       "      <td>1</td>\n",
       "      <td>DDOdGU7zh56yQHmUnL1idQ</td>\n",
       "      <td>3</td>\n",
       "      <td>I've been to Vegas dozens of times and had nev...</td>\n",
       "      <td>2</td>\n",
       "      <td>BdV-cf3LScmb8kZ7iiBcMA</td>\n",
       "    </tr>\n",
       "    <tr>\n",
       "      <th>3</th>\n",
       "      <td>k3zrItO4l9hwfLRwHBDc9w</td>\n",
       "      <td>3</td>\n",
       "      <td>2010-07-13 00:33:45</td>\n",
       "      <td>4</td>\n",
       "      <td>LfTMUWnfGFMOfOIyJcwLVA</td>\n",
       "      <td>1</td>\n",
       "      <td>We went here on a night where they closed off ...</td>\n",
       "      <td>5</td>\n",
       "      <td>cZZnBqh4gAEy4CdNvJailQ</td>\n",
       "    </tr>\n",
       "    <tr>\n",
       "      <th>4</th>\n",
       "      <td>6hpfRwGlOzbNv7k5eP9rsQ</td>\n",
       "      <td>1</td>\n",
       "      <td>2018-06-30 02:30:01</td>\n",
       "      <td>0</td>\n",
       "      <td>zJSUdI7bJ8PNJAg4lnl_Gg</td>\n",
       "      <td>4</td>\n",
       "      <td>3.5 to 4 stars\\n\\nNot bad for the price, $12.9...</td>\n",
       "      <td>5</td>\n",
       "      <td>n9QO4ClYAS7h9fpQwa5bhA</td>\n",
       "    </tr>\n",
       "  </tbody>\n",
       "</table>\n",
       "</div>"
      ],
      "text/plain": [
       "              business_id  cool                date  funny  \\\n",
       "0  nDuEqIyRc8YKS1q1fX0CZg     1 2015-03-31 16:50:30      0   \n",
       "1  eMYeEapscbKNqUDCx705hg     0 2015-12-16 05:31:03      0   \n",
       "2  6Q7-wkCPc1KF75jZLOTcMw     1 2010-06-20 19:14:48      1   \n",
       "3  k3zrItO4l9hwfLRwHBDc9w     3 2010-07-13 00:33:45      4   \n",
       "4  6hpfRwGlOzbNv7k5eP9rsQ     1 2018-06-30 02:30:01      0   \n",
       "\n",
       "                review_id  stars  \\\n",
       "0  eZs2tpEJtXPwawvHnHZIgQ      1   \n",
       "1  DoQDWJsNbU0KL1O29l_Xug      4   \n",
       "2  DDOdGU7zh56yQHmUnL1idQ      3   \n",
       "3  LfTMUWnfGFMOfOIyJcwLVA      1   \n",
       "4  zJSUdI7bJ8PNJAg4lnl_Gg      4   \n",
       "\n",
       "                                                text  useful  \\\n",
       "0  BEWARE!!! FAKE, FAKE, FAKE....We also own a sm...      10   \n",
       "1  Came here for lunch Togo. Service was quick. S...       0   \n",
       "2  I've been to Vegas dozens of times and had nev...       2   \n",
       "3  We went here on a night where they closed off ...       5   \n",
       "4  3.5 to 4 stars\\n\\nNot bad for the price, $12.9...       5   \n",
       "\n",
       "                  user_id  \n",
       "0  n1LM36qNg4rqGXIcvVXv8w  \n",
       "1  5CgjjDAic2-FAvCtiHpytA  \n",
       "2  BdV-cf3LScmb8kZ7iiBcMA  \n",
       "3  cZZnBqh4gAEy4CdNvJailQ  \n",
       "4  n9QO4ClYAS7h9fpQwa5bhA  "
      ]
     },
     "execution_count": 40,
     "metadata": {},
     "output_type": "execute_result"
    }
   ],
   "source": [
    "print(yelp.shape)\n",
    "yelp.head()"
   ]
  },
  {
   "cell_type": "markdown",
   "metadata": {},
   "source": [
    "## Part 1: Tokenize Function\n",
    "<a id=\"#p1\"></a>\n",
    "\n",
    "Complete the function `tokenize`. Your function should\n",
    "- accept one document at a time\n",
    "- return a list of tokens\n",
    "\n",
    "You are free to use any method you have learned this week."
   ]
  },
  {
   "cell_type": "code",
   "execution_count": 41,
   "metadata": {},
   "outputs": [],
   "source": [
    "# Create tokenizer function, using nlp.tokenizer for sped up time\n",
    "\n",
    "def tokenize(doc):\n",
    "    doc = nlp.tokenizer(doc)\n",
    "    return [token.lemma_.strip() for token in doc if (token.is_stop != True) and (token.is_punct != True)]\n",
    "\n"
   ]
  },
  {
   "cell_type": "code",
   "execution_count": 42,
   "metadata": {},
   "outputs": [
    {
     "data": {
      "text/html": [
       "<div>\n",
       "<style scoped>\n",
       "    .dataframe tbody tr th:only-of-type {\n",
       "        vertical-align: middle;\n",
       "    }\n",
       "\n",
       "    .dataframe tbody tr th {\n",
       "        vertical-align: top;\n",
       "    }\n",
       "\n",
       "    .dataframe thead th {\n",
       "        text-align: right;\n",
       "    }\n",
       "</style>\n",
       "<table border=\"1\" class=\"dataframe\">\n",
       "  <thead>\n",
       "    <tr style=\"text-align: right;\">\n",
       "      <th></th>\n",
       "      <th>business_id</th>\n",
       "      <th>cool</th>\n",
       "      <th>date</th>\n",
       "      <th>funny</th>\n",
       "      <th>review_id</th>\n",
       "      <th>stars</th>\n",
       "      <th>text</th>\n",
       "      <th>useful</th>\n",
       "      <th>user_id</th>\n",
       "      <th>tokens</th>\n",
       "    </tr>\n",
       "  </thead>\n",
       "  <tbody>\n",
       "    <tr>\n",
       "      <th>0</th>\n",
       "      <td>nDuEqIyRc8YKS1q1fX0CZg</td>\n",
       "      <td>1</td>\n",
       "      <td>2015-03-31 16:50:30</td>\n",
       "      <td>0</td>\n",
       "      <td>eZs2tpEJtXPwawvHnHZIgQ</td>\n",
       "      <td>1</td>\n",
       "      <td>BEWARE!!! FAKE, FAKE, FAKE....We also own a sm...</td>\n",
       "      <td>10</td>\n",
       "      <td>n1LM36qNg4rqGXIcvVXv8w</td>\n",
       "      <td>[BEWARE, FAKE, FAKE, FAKE, small, business, Lo...</td>\n",
       "    </tr>\n",
       "    <tr>\n",
       "      <th>1</th>\n",
       "      <td>eMYeEapscbKNqUDCx705hg</td>\n",
       "      <td>0</td>\n",
       "      <td>2015-12-16 05:31:03</td>\n",
       "      <td>0</td>\n",
       "      <td>DoQDWJsNbU0KL1O29l_Xug</td>\n",
       "      <td>4</td>\n",
       "      <td>Came here for lunch Togo. Service was quick. S...</td>\n",
       "      <td>0</td>\n",
       "      <td>5CgjjDAic2-FAvCtiHpytA</td>\n",
       "      <td>[Came, lunch, Togo, Service, quick, Staff, fri...</td>\n",
       "    </tr>\n",
       "    <tr>\n",
       "      <th>2</th>\n",
       "      <td>6Q7-wkCPc1KF75jZLOTcMw</td>\n",
       "      <td>1</td>\n",
       "      <td>2010-06-20 19:14:48</td>\n",
       "      <td>1</td>\n",
       "      <td>DDOdGU7zh56yQHmUnL1idQ</td>\n",
       "      <td>3</td>\n",
       "      <td>I've been to Vegas dozens of times and had nev...</td>\n",
       "      <td>2</td>\n",
       "      <td>BdV-cf3LScmb8kZ7iiBcMA</td>\n",
       "      <td>[Vegas, dozen, time, step, foot, Circus, Circu...</td>\n",
       "    </tr>\n",
       "    <tr>\n",
       "      <th>3</th>\n",
       "      <td>k3zrItO4l9hwfLRwHBDc9w</td>\n",
       "      <td>3</td>\n",
       "      <td>2010-07-13 00:33:45</td>\n",
       "      <td>4</td>\n",
       "      <td>LfTMUWnfGFMOfOIyJcwLVA</td>\n",
       "      <td>1</td>\n",
       "      <td>We went here on a night where they closed off ...</td>\n",
       "      <td>5</td>\n",
       "      <td>cZZnBqh4gAEy4CdNvJailQ</td>\n",
       "      <td>[go, night, close, street, party, well, actual...</td>\n",
       "    </tr>\n",
       "    <tr>\n",
       "      <th>4</th>\n",
       "      <td>6hpfRwGlOzbNv7k5eP9rsQ</td>\n",
       "      <td>1</td>\n",
       "      <td>2018-06-30 02:30:01</td>\n",
       "      <td>0</td>\n",
       "      <td>zJSUdI7bJ8PNJAg4lnl_Gg</td>\n",
       "      <td>4</td>\n",
       "      <td>3.5 to 4 stars\\n\\nNot bad for the price, $12.9...</td>\n",
       "      <td>5</td>\n",
       "      <td>n9QO4ClYAS7h9fpQwa5bhA</td>\n",
       "      <td>[3.5, 4, star, , bad, price, $, 12.99, lunch, ...</td>\n",
       "    </tr>\n",
       "  </tbody>\n",
       "</table>\n",
       "</div>"
      ],
      "text/plain": [
       "              business_id  cool                date  funny  \\\n",
       "0  nDuEqIyRc8YKS1q1fX0CZg     1 2015-03-31 16:50:30      0   \n",
       "1  eMYeEapscbKNqUDCx705hg     0 2015-12-16 05:31:03      0   \n",
       "2  6Q7-wkCPc1KF75jZLOTcMw     1 2010-06-20 19:14:48      1   \n",
       "3  k3zrItO4l9hwfLRwHBDc9w     3 2010-07-13 00:33:45      4   \n",
       "4  6hpfRwGlOzbNv7k5eP9rsQ     1 2018-06-30 02:30:01      0   \n",
       "\n",
       "                review_id  stars  \\\n",
       "0  eZs2tpEJtXPwawvHnHZIgQ      1   \n",
       "1  DoQDWJsNbU0KL1O29l_Xug      4   \n",
       "2  DDOdGU7zh56yQHmUnL1idQ      3   \n",
       "3  LfTMUWnfGFMOfOIyJcwLVA      1   \n",
       "4  zJSUdI7bJ8PNJAg4lnl_Gg      4   \n",
       "\n",
       "                                                text  useful  \\\n",
       "0  BEWARE!!! FAKE, FAKE, FAKE....We also own a sm...      10   \n",
       "1  Came here for lunch Togo. Service was quick. S...       0   \n",
       "2  I've been to Vegas dozens of times and had nev...       2   \n",
       "3  We went here on a night where they closed off ...       5   \n",
       "4  3.5 to 4 stars\\n\\nNot bad for the price, $12.9...       5   \n",
       "\n",
       "                  user_id                                             tokens  \n",
       "0  n1LM36qNg4rqGXIcvVXv8w  [BEWARE, FAKE, FAKE, FAKE, small, business, Lo...  \n",
       "1  5CgjjDAic2-FAvCtiHpytA  [Came, lunch, Togo, Service, quick, Staff, fri...  \n",
       "2  BdV-cf3LScmb8kZ7iiBcMA  [Vegas, dozen, time, step, foot, Circus, Circu...  \n",
       "3  cZZnBqh4gAEy4CdNvJailQ  [go, night, close, street, party, well, actual...  \n",
       "4  n9QO4ClYAS7h9fpQwa5bhA  [3.5, 4, star, , bad, price, $, 12.99, lunch, ...  "
      ]
     },
     "execution_count": 42,
     "metadata": {},
     "output_type": "execute_result"
    }
   ],
   "source": [
    "# Create new column with tokens\n",
    "yelp['tokens'] = yelp['text'].apply(tokenize)\n",
    "yelp.head()"
   ]
  },
  {
   "cell_type": "markdown",
   "metadata": {},
   "source": [
    "## Part 2: Vector Representation\n",
    "<a id=\"#p2\"></a>\n",
    "1. Create a vector representation of the reviews\n",
    "2. Write a fake review and query for the 10 most similiar reviews, print the text of the reviews. Do you notice any patterns?\n",
    "    - Given the size of the dataset, it will probably be best to use a `NearestNeighbors` model for this. "
   ]
  },
  {
   "cell_type": "code",
   "execution_count": 43,
   "metadata": {},
   "outputs": [],
   "source": [
    "# Custom Stop Words\n",
    "added = [' ', \"\"]\n",
    "stop_words = text.ENGLISH_STOP_WORDS.union(added)\n",
    "\n",
    "# Fit+transforming tfidf vectorizer\n",
    "tfidf = TfidfVectorizer(stop_words=stop_words, max_df=0.99, min_df=0.01, ngram_range=(1,2))\n",
    "tfidf_matrix = tfidf.fit_transform(yelp['text'])"
   ]
  },
  {
   "cell_type": "code",
   "execution_count": 44,
   "metadata": {},
   "outputs": [
    {
     "name": "stdout",
     "output_type": "stream",
     "text": [
      "(9996, 847)\n"
     ]
    },
    {
     "data": {
      "text/html": [
       "<div>\n",
       "<style scoped>\n",
       "    .dataframe tbody tr th:only-of-type {\n",
       "        vertical-align: middle;\n",
       "    }\n",
       "\n",
       "    .dataframe tbody tr th {\n",
       "        vertical-align: top;\n",
       "    }\n",
       "\n",
       "    .dataframe thead th {\n",
       "        text-align: right;\n",
       "    }\n",
       "</style>\n",
       "<table border=\"1\" class=\"dataframe\">\n",
       "  <thead>\n",
       "    <tr style=\"text-align: right;\">\n",
       "      <th></th>\n",
       "      <th>00</th>\n",
       "      <th>10</th>\n",
       "      <th>10 minutes</th>\n",
       "      <th>100</th>\n",
       "      <th>11</th>\n",
       "      <th>12</th>\n",
       "      <th>15</th>\n",
       "      <th>15 minutes</th>\n",
       "      <th>20</th>\n",
       "      <th>20 minutes</th>\n",
       "      <th>...</th>\n",
       "      <th>wow</th>\n",
       "      <th>wrong</th>\n",
       "      <th>year</th>\n",
       "      <th>years</th>\n",
       "      <th>years ago</th>\n",
       "      <th>yelp</th>\n",
       "      <th>yes</th>\n",
       "      <th>young</th>\n",
       "      <th>yum</th>\n",
       "      <th>yummy</th>\n",
       "    </tr>\n",
       "  </thead>\n",
       "  <tbody>\n",
       "    <tr>\n",
       "      <th>0</th>\n",
       "      <td>0.0</td>\n",
       "      <td>0.0</td>\n",
       "      <td>0.0</td>\n",
       "      <td>0.0</td>\n",
       "      <td>0.0</td>\n",
       "      <td>0.000000</td>\n",
       "      <td>0.000000</td>\n",
       "      <td>0.0</td>\n",
       "      <td>0.166001</td>\n",
       "      <td>0.211225</td>\n",
       "      <td>...</td>\n",
       "      <td>0.0</td>\n",
       "      <td>0.0</td>\n",
       "      <td>0.000000</td>\n",
       "      <td>0.0</td>\n",
       "      <td>0.0</td>\n",
       "      <td>0.0</td>\n",
       "      <td>0.0</td>\n",
       "      <td>0.000000</td>\n",
       "      <td>0.0</td>\n",
       "      <td>0.0</td>\n",
       "    </tr>\n",
       "    <tr>\n",
       "      <th>1</th>\n",
       "      <td>0.0</td>\n",
       "      <td>0.0</td>\n",
       "      <td>0.0</td>\n",
       "      <td>0.0</td>\n",
       "      <td>0.0</td>\n",
       "      <td>0.000000</td>\n",
       "      <td>0.000000</td>\n",
       "      <td>0.0</td>\n",
       "      <td>0.000000</td>\n",
       "      <td>0.000000</td>\n",
       "      <td>...</td>\n",
       "      <td>0.0</td>\n",
       "      <td>0.0</td>\n",
       "      <td>0.000000</td>\n",
       "      <td>0.0</td>\n",
       "      <td>0.0</td>\n",
       "      <td>0.0</td>\n",
       "      <td>0.0</td>\n",
       "      <td>0.000000</td>\n",
       "      <td>0.0</td>\n",
       "      <td>0.0</td>\n",
       "    </tr>\n",
       "    <tr>\n",
       "      <th>2</th>\n",
       "      <td>0.0</td>\n",
       "      <td>0.0</td>\n",
       "      <td>0.0</td>\n",
       "      <td>0.0</td>\n",
       "      <td>0.0</td>\n",
       "      <td>0.000000</td>\n",
       "      <td>0.000000</td>\n",
       "      <td>0.0</td>\n",
       "      <td>0.000000</td>\n",
       "      <td>0.000000</td>\n",
       "      <td>...</td>\n",
       "      <td>0.0</td>\n",
       "      <td>0.0</td>\n",
       "      <td>0.122784</td>\n",
       "      <td>0.0</td>\n",
       "      <td>0.0</td>\n",
       "      <td>0.0</td>\n",
       "      <td>0.0</td>\n",
       "      <td>0.154766</td>\n",
       "      <td>0.0</td>\n",
       "      <td>0.0</td>\n",
       "    </tr>\n",
       "    <tr>\n",
       "      <th>3</th>\n",
       "      <td>0.0</td>\n",
       "      <td>0.0</td>\n",
       "      <td>0.0</td>\n",
       "      <td>0.0</td>\n",
       "      <td>0.0</td>\n",
       "      <td>0.000000</td>\n",
       "      <td>0.000000</td>\n",
       "      <td>0.0</td>\n",
       "      <td>0.000000</td>\n",
       "      <td>0.000000</td>\n",
       "      <td>...</td>\n",
       "      <td>0.0</td>\n",
       "      <td>0.0</td>\n",
       "      <td>0.000000</td>\n",
       "      <td>0.0</td>\n",
       "      <td>0.0</td>\n",
       "      <td>0.0</td>\n",
       "      <td>0.0</td>\n",
       "      <td>0.000000</td>\n",
       "      <td>0.0</td>\n",
       "      <td>0.0</td>\n",
       "    </tr>\n",
       "    <tr>\n",
       "      <th>4</th>\n",
       "      <td>0.0</td>\n",
       "      <td>0.0</td>\n",
       "      <td>0.0</td>\n",
       "      <td>0.0</td>\n",
       "      <td>0.0</td>\n",
       "      <td>0.206155</td>\n",
       "      <td>0.184696</td>\n",
       "      <td>0.0</td>\n",
       "      <td>0.000000</td>\n",
       "      <td>0.000000</td>\n",
       "      <td>...</td>\n",
       "      <td>0.0</td>\n",
       "      <td>0.0</td>\n",
       "      <td>0.000000</td>\n",
       "      <td>0.0</td>\n",
       "      <td>0.0</td>\n",
       "      <td>0.0</td>\n",
       "      <td>0.0</td>\n",
       "      <td>0.000000</td>\n",
       "      <td>0.0</td>\n",
       "      <td>0.0</td>\n",
       "    </tr>\n",
       "  </tbody>\n",
       "</table>\n",
       "<p>5 rows × 847 columns</p>\n",
       "</div>"
      ],
      "text/plain": [
       "    00   10  10 minutes  100   11        12        15  15 minutes        20  \\\n",
       "0  0.0  0.0         0.0  0.0  0.0  0.000000  0.000000         0.0  0.166001   \n",
       "1  0.0  0.0         0.0  0.0  0.0  0.000000  0.000000         0.0  0.000000   \n",
       "2  0.0  0.0         0.0  0.0  0.0  0.000000  0.000000         0.0  0.000000   \n",
       "3  0.0  0.0         0.0  0.0  0.0  0.000000  0.000000         0.0  0.000000   \n",
       "4  0.0  0.0         0.0  0.0  0.0  0.206155  0.184696         0.0  0.000000   \n",
       "\n",
       "   20 minutes  ...  wow  wrong      year  years  years ago  yelp  yes  \\\n",
       "0    0.211225  ...  0.0    0.0  0.000000    0.0        0.0   0.0  0.0   \n",
       "1    0.000000  ...  0.0    0.0  0.000000    0.0        0.0   0.0  0.0   \n",
       "2    0.000000  ...  0.0    0.0  0.122784    0.0        0.0   0.0  0.0   \n",
       "3    0.000000  ...  0.0    0.0  0.000000    0.0        0.0   0.0  0.0   \n",
       "4    0.000000  ...  0.0    0.0  0.000000    0.0        0.0   0.0  0.0   \n",
       "\n",
       "      young  yum  yummy  \n",
       "0  0.000000  0.0    0.0  \n",
       "1  0.000000  0.0    0.0  \n",
       "2  0.154766  0.0    0.0  \n",
       "3  0.000000  0.0    0.0  \n",
       "4  0.000000  0.0    0.0  \n",
       "\n",
       "[5 rows x 847 columns]"
      ]
     },
     "execution_count": 44,
     "metadata": {},
     "output_type": "execute_result"
    }
   ],
   "source": [
    "tfidf_df = pd.DataFrame(tfidf_matrix.todense(), columns=tfidf.get_feature_names())\n",
    "print(tfidf_df.shape)\n",
    "tfidf_df.head()\n",
    "# Only 847 columns... Not much to work with"
   ]
  },
  {
   "cell_type": "code",
   "execution_count": 45,
   "metadata": {},
   "outputs": [
    {
     "data": {
      "text/plain": [
       "NearestNeighbors(algorithm='kd_tree', leaf_size=30, metric='minkowski',\n",
       "                 metric_params=None, n_jobs=None, n_neighbors=5, p=2,\n",
       "                 radius=1.0)"
      ]
     },
     "execution_count": 45,
     "metadata": {},
     "output_type": "execute_result"
    }
   ],
   "source": [
    "# fitting NN model on our tfidf\n",
    "nn = NearestNeighbors(n_neighbors=5, algorithm=\"kd_tree\")\n",
    "nn.fit(tfidf_df)"
   ]
  },
  {
   "cell_type": "code",
   "execution_count": 46,
   "metadata": {},
   "outputs": [],
   "source": [
    "fake_review = ['''\n",
    "This product is the WORST! I bought it to replace the one I bought at Harbor Freight, and I tried to use it and it broke after the second use! It's complete garbage, DO NOT BUY!\n",
    "''']"
   ]
  },
  {
   "cell_type": "code",
   "execution_count": 47,
   "metadata": {},
   "outputs": [],
   "source": [
    "new_matrix = tfidf.transform(fake_review)\n",
    "neighbors = nn.kneighbors(new_matrix.todense(), n_neighbors=10)"
   ]
  },
  {
   "cell_type": "code",
   "execution_count": 48,
   "metadata": {},
   "outputs": [
    {
     "name": "stdout",
     "output_type": "stream",
     "text": [
      "My second home. Of course you have to be careful what you buy because the stuff is made very cheaply but for home use most everything is great. I have bent their hand wrenches with my hands. The ends opened up but I have yet to break or even scar one of their impact sockets. My expensive airless paint sprayer died so I figured I would try theirs. At a $160 bucks not only was it just as good or better than my high dollar one cleaning the Harbor freight one was much easier. Granted if I tried to u\n",
      "-----------\n",
      "Huge collection of clothes. Especially for the fur coat! I bought nothing but suggest you to come and take a look if you are a vintage lover.\n",
      "-----------\n",
      "Talia was so helpful! I love my new bathing suit and I even bought the cutest romper! In love.\n",
      "-----------\n",
      "One day last week, I arrived at school (ASU) early, but needed to use the restroom, so I drove to the closest Starbucks (since I was still in my car) to find that it was only a drive thru. Luckily I saw Essence Bakery Café right next to it, and I went in there. I was surprisingly ecstatic to find that they sell MACAROONS! I've been looking for these everywhere in the valley! I bought a half dozen minis and they were heavenly! I even went back a couple days ago and bought another half dozen. The \n",
      "-----------\n",
      "Updated: great service! I bought a new box and it was leaking. Dave was nice enough to offer a replacement but it was just a cracked O seal. Brandon was awesome and remembered me second time I was in.\n",
      "-----------\n",
      "I just tried Einstein Bagels for the first time today. I got the lunch ham & swiss to go. It was so delicious that I wish that I had bought a second one. I can't wait to try other options on the menu. It's definitely worth a try if you're in the area.\n",
      "-----------\n",
      "As an RVer, I love this store.  I've bought numerous rugs for our RV that have been the incorrect size for the space I wanted to cover, because that was all I could find.  I then found Mesa Sales & Supply, bought a carpet remnant, and had rugs bound to the exact size I wanted.  I even bought new foam for our dog crate, which they cut to the appropriate size.  Once finding a sales person who could help me, service was great, and the rugs were the size I specified.  Great job!\n",
      "-----------\n",
      "Went here for the first time today, bought some sweets for Diwali. Lovely service. The sweets were good.\n",
      "-----------\n",
      "You could throw a rock and hit a real estate agent or broker in Phoenix, and I don't recommend that for several reasons, one of them being that you've found yourself at the page of the agent and team I've been recommending since we bought our first house with them 7 years ago. Jason is a stellar professional, I enjoy working with him and everyone on his team, and have had 3 easy-breezy transactions with them. We bought and later sold a bank-owned property (remember 2008's housing market? Good ti\n",
      "-----------\n",
      "Bought a dozen roses and they were beautiful.  Service was quick and the product was amazing.  Price wasn't too bad either.\n",
      "-----------\n"
     ]
    }
   ],
   "source": [
    "\n",
    "for ii in neighbors[1][0]:\n",
    "    print(yelp['text'].iloc[ii][:500])\n",
    "    print(\"-----------\")"
   ]
  },
  {
   "cell_type": "code",
   "execution_count": 49,
   "metadata": {},
   "outputs": [],
   "source": [
    "# Certainly an interesting range of reviews... Some I see being similar, but others are completely the opposite...\n",
    "# Will test later, perhaps adding specific product names or places"
   ]
  },
  {
   "cell_type": "markdown",
   "metadata": {},
   "source": [
    "## Part 3: Classification\n",
    "<a id=\"#p3\"></a>\n",
    "Your goal in this section will be to predict `stars` from the review dataset. \n",
    "\n",
    "1. Create a piepline object with a sklearn `CountVectorizer` or `TfidfVector` and any sklearn classifier. Use that pipeline to estimate a model to predict `stars`. Use the Pipeline to predict a star rating for your fake review from Part 2. \n",
    "2. Tune the entire pipeline with a GridSearch"
   ]
  },
  {
   "cell_type": "code",
   "execution_count": 50,
   "metadata": {},
   "outputs": [
    {
     "name": "stdout",
     "output_type": "stream",
     "text": [
      "9996 9996\n"
     ]
    }
   ],
   "source": [
    "target = yelp['stars']\n",
    "X_train = yelp['text']\n",
    "print(len(X_train), len(target))"
   ]
  },
  {
   "cell_type": "code",
   "execution_count": 51,
   "metadata": {},
   "outputs": [],
   "source": [
    "\n",
    "\n",
    "vect = TfidfVectorizer(stop_words='english', ngram_range=(1,2))\n",
    "# clf = LogisticRegression(random_state=42)   # Score in 50s\n",
    "clf = SGDClassifier(random_state=42)   # Score 0.62\n",
    "\n",
    "pipe = Pipeline([('vect', vect), ('clf', clf)])\n"
   ]
  },
  {
   "cell_type": "code",
   "execution_count": 52,
   "metadata": {},
   "outputs": [
    {
     "name": "stdout",
     "output_type": "stream",
     "text": [
      "Fitting 5 folds for each of 4 candidates, totalling 20 fits\n"
     ]
    },
    {
     "name": "stderr",
     "output_type": "stream",
     "text": [
      "[Parallel(n_jobs=-1)]: Using backend LokyBackend with 8 concurrent workers.\n",
      "[Parallel(n_jobs=-1)]: Done  20 out of  20 | elapsed:   19.7s finished\n"
     ]
    },
    {
     "data": {
      "text/plain": [
       "GridSearchCV(cv=5, error_score=nan,\n",
       "             estimator=Pipeline(memory=None,\n",
       "                                steps=[('vect',\n",
       "                                        TfidfVectorizer(analyzer='word',\n",
       "                                                        binary=False,\n",
       "                                                        decode_error='strict',\n",
       "                                                        dtype=<class 'numpy.float64'>,\n",
       "                                                        encoding='utf-8',\n",
       "                                                        input='content',\n",
       "                                                        lowercase=True,\n",
       "                                                        max_df=1.0,\n",
       "                                                        max_features=None,\n",
       "                                                        min_df=1,\n",
       "                                                        ngram_range=(1, 2),\n",
       "                                                        norm='l2',\n",
       "                                                        preprocessor=None,\n",
       "                                                        smooth_idf=True,\n",
       "                                                        stop_words='english',\n",
       "                                                        strip...\n",
       "                                                      learning_rate='optimal',\n",
       "                                                      loss='hinge',\n",
       "                                                      max_iter=1000,\n",
       "                                                      n_iter_no_change=5,\n",
       "                                                      n_jobs=None, penalty='l2',\n",
       "                                                      power_t=0.5,\n",
       "                                                      random_state=42,\n",
       "                                                      shuffle=True, tol=0.001,\n",
       "                                                      validation_fraction=0.1,\n",
       "                                                      verbose=0,\n",
       "                                                      warm_start=False))],\n",
       "                                verbose=False),\n",
       "             iid='deprecated', n_jobs=-1,\n",
       "             param_grid={'vect__max_df': (0.75, 0.9, 0.95, 1.0)},\n",
       "             pre_dispatch='2*n_jobs', refit=True, return_train_score=False,\n",
       "             scoring=None, verbose=1)"
      ]
     },
     "execution_count": 52,
     "metadata": {},
     "output_type": "execute_result"
    }
   ],
   "source": [
    "parameters = {\n",
    "    'vect__max_df': (0.75, 0.90, 0.95, 1.0),\n",
    "    #'vect__solver': ('newton-cg', 'lbfgs', 'sag', 'saga')\n",
    "}\n",
    "\n",
    "grid_search = GridSearchCV(pipe, parameters, cv=5, n_jobs=-1, verbose=1)\n",
    "grid_search.fit(X_train, target)"
   ]
  },
  {
   "cell_type": "code",
   "execution_count": 53,
   "metadata": {},
   "outputs": [
    {
     "name": "stdout",
     "output_type": "stream",
     "text": [
      "{'vect__max_df': 0.75}\n",
      "0.621548524262131\n"
     ]
    }
   ],
   "source": [
    "print(grid_search.best_params_)\n",
    "print(grid_search.best_score_)"
   ]
  },
  {
   "cell_type": "code",
   "execution_count": 82,
   "metadata": {},
   "outputs": [
    {
     "name": "stdout",
     "output_type": "stream",
     "text": [
      "Fitting 5 folds for each of 4 candidates, totalling 20 fits\n"
     ]
    },
    {
     "name": "stderr",
     "output_type": "stream",
     "text": [
      "[Parallel(n_jobs=-1)]: Using backend LokyBackend with 8 concurrent workers.\n",
      "[Parallel(n_jobs=-1)]: Done  20 out of  20 | elapsed:   15.8s finished\n"
     ]
    },
    {
     "data": {
      "text/plain": [
       "GridSearchCV(cv=5, error_score=nan,\n",
       "             estimator=Pipeline(memory=None,\n",
       "                                steps=[('vect',\n",
       "                                        CountVectorizer(analyzer='word',\n",
       "                                                        binary=False,\n",
       "                                                        decode_error='strict',\n",
       "                                                        dtype=<class 'numpy.int64'>,\n",
       "                                                        encoding='utf-8',\n",
       "                                                        input='content',\n",
       "                                                        lowercase=True,\n",
       "                                                        max_df=1.0,\n",
       "                                                        max_features=None,\n",
       "                                                        min_df=1,\n",
       "                                                        ngram_range=(1, 2),\n",
       "                                                        preprocessor=None,\n",
       "                                                        stop_words='english',\n",
       "                                                        strip_accents=None,\n",
       "                                                        token_pattern=...\n",
       "                                                      learning_rate='optimal',\n",
       "                                                      loss='hinge',\n",
       "                                                      max_iter=1000,\n",
       "                                                      n_iter_no_change=5,\n",
       "                                                      n_jobs=None, penalty='l2',\n",
       "                                                      power_t=0.5,\n",
       "                                                      random_state=42,\n",
       "                                                      shuffle=True, tol=0.001,\n",
       "                                                      validation_fraction=0.1,\n",
       "                                                      verbose=0,\n",
       "                                                      warm_start=False))],\n",
       "                                verbose=False),\n",
       "             iid='deprecated', n_jobs=-1,\n",
       "             param_grid={'vect__max_df': (0.75, 0.9, 0.95, 1.0)},\n",
       "             pre_dispatch='2*n_jobs', refit=True, return_train_score=False,\n",
       "             scoring=None, verbose=1)"
      ]
     },
     "execution_count": 82,
     "metadata": {},
     "output_type": "execute_result"
    }
   ],
   "source": [
    "cvect = CountVectorizer(stop_words='english', ngram_range=(1,2))\n",
    "# clf = LogisticRegression(random_state=42)   # Score in 50s\n",
    "clf2 = SGDClassifier(random_state=42)   # Score 0.62\n",
    "\n",
    "pipe2 = Pipeline([('vect', cvect), ('clf', clf2)])\n",
    "grid_search2 = GridSearchCV(pipe2, parameters, cv=5, n_jobs=-1, verbose=1)\n",
    "grid_search2.fit(X_train, target)\n"
   ]
  },
  {
   "cell_type": "code",
   "execution_count": 84,
   "metadata": {},
   "outputs": [
    {
     "name": "stdout",
     "output_type": "stream",
     "text": [
      "Score With Count Vectorizer: 0.5990389694847424\n"
     ]
    }
   ],
   "source": [
    "#Cvect score is worse\n",
    "print(f'Score With Count Vectorizer: {grid_search2.best_score_}')"
   ]
  },
  {
   "cell_type": "markdown",
   "metadata": {},
   "source": [
    "## Part 4: Topic Modeling\n",
    "\n",
    "Let's find out what those yelp reviews are saying! :D\n",
    "\n",
    "1. Estimate a LDA topic model of the review text\n",
    "    - Keep the `iterations` parameter at or below 5 to reduce run time\n",
    "    - The `workers` parameter should match the number of physical cores on your machine.\n",
    "2. Create 1-2 visualizations of the results\n",
    "    - You can use the most important 3 words of a topic in relevant visualizations. Refer to yesterday's notebook to extract. \n",
    "3. In markdown, write 1-2 paragraphs of analysis on the results of your topic model\n",
    "\n",
    "__*Note*__: You can pass the DataFrame column of text reviews to gensim. You do not have to use a generator."
   ]
  },
  {
   "cell_type": "code",
   "execution_count": 66,
   "metadata": {
    "collapsed": false,
    "inputHidden": false,
    "jupyter": {
     "outputs_hidden": false
    },
    "outputHidden": false
   },
   "outputs": [],
   "source": [
    "df = pd.DataFrame()\n",
    "df['tokens'] = yelp['text'].apply(tokenize)\n"
   ]
  },
  {
   "cell_type": "markdown",
   "metadata": {},
   "source": [
    "Learn the vocubalary of the yelp data:"
   ]
  },
  {
   "cell_type": "code",
   "execution_count": 67,
   "metadata": {},
   "outputs": [],
   "source": [
    "id2word = corpora.Dictionary(df['tokens'])"
   ]
  },
  {
   "cell_type": "markdown",
   "metadata": {},
   "source": [
    "Create a bag of words representation of the entire corpus"
   ]
  },
  {
   "cell_type": "code",
   "execution_count": 68,
   "metadata": {
    "collapsed": false,
    "inputHidden": false,
    "jupyter": {
     "outputs_hidden": false
    },
    "outputHidden": false
   },
   "outputs": [],
   "source": [
    "corpus = [id2word.doc2bow(text) for text in df['tokens']]"
   ]
  },
  {
   "cell_type": "markdown",
   "metadata": {},
   "source": [
    "Your LDA model should be ready for estimation: "
   ]
  },
  {
   "cell_type": "code",
   "execution_count": 73,
   "metadata": {
    "collapsed": false,
    "inputHidden": false,
    "jupyter": {
     "outputs_hidden": false
    },
    "outputHidden": false
   },
   "outputs": [],
   "source": [
    "lda = LdaMulticore(corpus=corpus,\n",
    "                   id2word=id2word,\n",
    "                   iterations=5,\n",
    "                   workers=4,\n",
    "                   num_topics = 7 # You can change this parameter\n",
    "                  )"
   ]
  },
  {
   "cell_type": "code",
   "execution_count": 74,
   "metadata": {},
   "outputs": [
    {
     "data": {
      "text/plain": [
       "[(0,\n",
       "  '0.051*\"\" + 0.012*\"place\" + 0.011*\"food\" + 0.011*\"good\" + 0.010*\"come\" + 0.007*\"time\" + 0.007*\"order\" + 0.007*\"go\" + 0.007*\"service\" + 0.006*\"great\"'),\n",
       " (1,\n",
       "  '0.053*\"\" + 0.011*\"place\" + 0.009*\"time\" + 0.008*\"great\" + 0.007*\"food\" + 0.007*\"good\" + 0.007*\"service\" + 0.007*\"come\" + 0.007*\"like\" + 0.006*\"order\"'),\n",
       " (2,\n",
       "  '0.042*\"\" + 0.008*\"place\" + 0.007*\"time\" + 0.007*\"food\" + 0.007*\"order\" + 0.007*\"come\" + 0.007*\"great\" + 0.006*\"like\" + 0.006*\"service\" + 0.006*\"want\"'),\n",
       " (3,\n",
       "  '0.050*\"\" + 0.009*\"place\" + 0.009*\"food\" + 0.007*\"good\" + 0.007*\"get\" + 0.007*\"time\" + 0.006*\"come\" + 0.005*\"like\" + 0.005*\"go\" + 0.005*\"great\"'),\n",
       " (4,\n",
       "  '0.055*\"\" + 0.009*\"like\" + 0.009*\"food\" + 0.007*\"place\" + 0.007*\"good\" + 0.006*\"time\" + 0.006*\"come\" + 0.006*\"well\" + 0.006*\"order\" + 0.005*\"great\"'),\n",
       " (5,\n",
       "  '0.051*\"\" + 0.011*\"place\" + 0.010*\"good\" + 0.009*\"time\" + 0.008*\"like\" + 0.008*\"great\" + 0.007*\"service\" + 0.007*\"food\" + 0.006*\"go\" + 0.005*\"come\"'),\n",
       " (6,\n",
       "  '0.052*\"\" + 0.009*\"time\" + 0.009*\"good\" + 0.009*\"place\" + 0.009*\"food\" + 0.008*\"like\" + 0.007*\"order\" + 0.007*\"great\" + 0.006*\"come\" + 0.006*\"go\"')]"
      ]
     },
     "execution_count": 74,
     "metadata": {},
     "output_type": "execute_result"
    }
   ],
   "source": [
    "lda.print_topics()"
   ]
  },
  {
   "cell_type": "markdown",
   "metadata": {},
   "source": [
    "Create 1-2 visualizations of the results"
   ]
  },
  {
   "cell_type": "code",
   "execution_count": 75,
   "metadata": {
    "collapsed": false,
    "inputHidden": false,
    "jupyter": {
     "outputs_hidden": false
    },
    "outputHidden": false
   },
   "outputs": [],
   "source": [
    "\n",
    "words = [re.findall(r'\"([^\"]*)\"',t[1]) for t in lda.print_topics()]\n",
    "topics = [' '.join(t[0:7]) for t in words]"
   ]
  },
  {
   "cell_type": "code",
   "execution_count": 76,
   "metadata": {},
   "outputs": [
    {
     "name": "stdout",
     "output_type": "stream",
     "text": [
      "[' place food good come time order', ' place time great food good service', ' place time food order come great', ' place food good get time come', ' like food place good time come', ' place good time like great service', ' time good place food like order']\n"
     ]
    }
   ],
   "source": [
    "print(topics)"
   ]
  },
  {
   "cell_type": "code",
   "execution_count": 77,
   "metadata": {},
   "outputs": [
    {
     "name": "stdout",
     "output_type": "stream",
     "text": [
      "------ Topic 0 ------\n",
      " place food good come time order\n",
      "\n",
      "------ Topic 1 ------\n",
      " place time great food good service\n",
      "\n",
      "------ Topic 2 ------\n",
      " place time food order come great\n",
      "\n",
      "------ Topic 3 ------\n",
      " place food good get time come\n",
      "\n",
      "------ Topic 4 ------\n",
      " like food place good time come\n",
      "\n",
      "------ Topic 5 ------\n",
      " place good time like great service\n",
      "\n",
      "------ Topic 6 ------\n",
      " time good place food like order\n",
      "\n"
     ]
    }
   ],
   "source": [
    "for id, t in enumerate(topics): \n",
    "    print(f\"------ Topic {id} ------\")\n",
    "    print(t, end=\"\\n\\n\")"
   ]
  },
  {
   "cell_type": "code",
   "execution_count": 79,
   "metadata": {},
   "outputs": [],
   "source": [
    "pyLDAvis.enable_notebook()"
   ]
  },
  {
   "cell_type": "code",
   "execution_count": 80,
   "metadata": {},
   "outputs": [
    {
     "name": "stdout",
     "output_type": "stream",
     "text": [
      "Wall time: 7min 21s\n"
     ]
    },
    {
     "name": "stderr",
     "output_type": "stream",
     "text": [
      "d:\\csfiles\\lambda\\git\\nlp\\venv\\lib\\site-packages\\pyLDAvis\\_prepare.py:257: FutureWarning: Sorting because non-concatenation axis is not aligned. A future version\n",
      "of pandas will change to not sort by default.\n",
      "\n",
      "To accept the future behavior, pass 'sort=False'.\n",
      "\n",
      "To retain the current behavior and silence the warning, pass 'sort=True'.\n",
      "\n",
      "  return pd.concat([default_term_info] + list(topic_dfs))\n"
     ]
    },
    {
     "data": {
      "text/html": [
       "\n",
       "<link rel=\"stylesheet\" type=\"text/css\" href=\"https://cdn.rawgit.com/bmabey/pyLDAvis/files/ldavis.v1.0.0.css\">\n",
       "\n",
       "\n",
       "<div id=\"ldavis_el558028305057797123207197105\"></div>\n",
       "<script type=\"text/javascript\">\n",
       "\n",
       "var ldavis_el558028305057797123207197105_data = {\"mdsDat\": {\"x\": [-0.003668331878598925, 0.0005587522978514966, -1.7069485693366516e-05, 0.0002988157528284288, -0.001888772270842635, -0.0007719180627079372, 0.005488523647162923], \"y\": [0.0032910203700792814, 0.001410303735210918, -0.003734608016412144, -0.0028580081399371855, -0.0004229672443529637, 0.00022777005800004264, 0.002086489237412047], \"topics\": [1, 2, 3, 4, 5, 6, 7], \"cluster\": [1, 1, 1, 1, 1, 1, 1], \"Freq\": [15.041788101196289, 14.5234375, 14.390010833740234, 14.156953811645508, 14.042289733886719, 13.987472534179688, 13.858053207397461]}, \"tinfo\": {\"Category\": [\"Default\", \"Default\", \"Default\", \"Default\", \"Default\", \"Default\", \"Default\", \"Default\", \"Default\", \"Default\", \"Default\", \"Default\", \"Default\", \"Default\", \"Default\", \"Default\", \"Default\", \"Default\", \"Default\", \"Default\", \"Default\", \"Default\", \"Default\", \"Default\", \"Default\", \"Default\", \"Default\", \"Default\", \"Default\", \"Default\", \"Topic1\", \"Topic1\", \"Topic1\", \"Topic1\", \"Topic1\", \"Topic1\", \"Topic1\", \"Topic1\", \"Topic1\", \"Topic1\", \"Topic1\", \"Topic1\", \"Topic1\", \"Topic1\", \"Topic1\", \"Topic1\", \"Topic1\", \"Topic1\", \"Topic1\", \"Topic1\", \"Topic1\", \"Topic1\", \"Topic1\", \"Topic1\", \"Topic1\", \"Topic1\", \"Topic1\", \"Topic1\", \"Topic1\", \"Topic1\", \"Topic1\", \"Topic1\", \"Topic1\", \"Topic1\", \"Topic1\", \"Topic1\", \"Topic1\", \"Topic1\", \"Topic1\", \"Topic1\", \"Topic1\", \"Topic1\", \"Topic1\", \"Topic1\", \"Topic1\", \"Topic1\", \"Topic1\", \"Topic1\", \"Topic1\", \"Topic1\", \"Topic1\", \"Topic1\", \"Topic1\", \"Topic1\", \"Topic1\", \"Topic1\", \"Topic1\", \"Topic1\", \"Topic1\", \"Topic1\", \"Topic1\", \"Topic1\", \"Topic1\", \"Topic1\", \"Topic1\", \"Topic1\", \"Topic1\", \"Topic1\", \"Topic1\", \"Topic1\", \"Topic1\", \"Topic1\", \"Topic1\", \"Topic1\", \"Topic1\", \"Topic1\", \"Topic1\", \"Topic1\", \"Topic1\", \"Topic1\", \"Topic1\", \"Topic1\", \"Topic1\", \"Topic1\", \"Topic1\", \"Topic1\", \"Topic2\", \"Topic2\", \"Topic2\", \"Topic2\", \"Topic2\", \"Topic2\", \"Topic2\", \"Topic2\", \"Topic2\", \"Topic2\", \"Topic2\", \"Topic2\", \"Topic2\", \"Topic2\", \"Topic2\", \"Topic2\", \"Topic2\", \"Topic2\", \"Topic2\", \"Topic2\", \"Topic2\", \"Topic2\", \"Topic2\", \"Topic2\", \"Topic2\", \"Topic2\", \"Topic2\", \"Topic2\", \"Topic2\", \"Topic2\", \"Topic2\", \"Topic2\", \"Topic2\", \"Topic2\", \"Topic2\", \"Topic2\", \"Topic2\", \"Topic2\", \"Topic2\", \"Topic2\", \"Topic2\", \"Topic2\", \"Topic2\", \"Topic2\", \"Topic2\", \"Topic2\", \"Topic2\", \"Topic2\", \"Topic2\", \"Topic2\", \"Topic2\", \"Topic2\", \"Topic2\", \"Topic2\", \"Topic2\", \"Topic2\", \"Topic2\", \"Topic2\", \"Topic2\", \"Topic2\", \"Topic2\", \"Topic2\", \"Topic2\", \"Topic2\", \"Topic2\", \"Topic2\", \"Topic2\", \"Topic2\", \"Topic2\", \"Topic2\", \"Topic2\", \"Topic2\", \"Topic2\", \"Topic2\", \"Topic2\", \"Topic2\", \"Topic2\", \"Topic2\", \"Topic2\", \"Topic2\", \"Topic2\", \"Topic2\", \"Topic2\", \"Topic2\", \"Topic2\", \"Topic2\", \"Topic3\", \"Topic3\", \"Topic3\", \"Topic3\", \"Topic3\", \"Topic3\", \"Topic3\", \"Topic3\", \"Topic3\", \"Topic3\", \"Topic3\", \"Topic3\", \"Topic3\", \"Topic3\", \"Topic3\", \"Topic3\", \"Topic3\", \"Topic3\", \"Topic3\", \"Topic3\", \"Topic3\", \"Topic3\", \"Topic3\", \"Topic3\", \"Topic3\", \"Topic3\", \"Topic3\", \"Topic3\", \"Topic3\", \"Topic3\", \"Topic3\", \"Topic3\", \"Topic3\", \"Topic3\", \"Topic3\", \"Topic3\", \"Topic3\", \"Topic3\", \"Topic3\", \"Topic3\", \"Topic3\", \"Topic3\", \"Topic3\", \"Topic3\", \"Topic3\", \"Topic3\", \"Topic3\", \"Topic3\", \"Topic3\", \"Topic3\", \"Topic3\", \"Topic3\", \"Topic3\", \"Topic3\", \"Topic3\", \"Topic3\", \"Topic3\", \"Topic3\", \"Topic3\", \"Topic3\", \"Topic3\", \"Topic3\", \"Topic3\", \"Topic3\", \"Topic3\", \"Topic3\", \"Topic3\", \"Topic3\", \"Topic3\", \"Topic3\", \"Topic3\", \"Topic3\", \"Topic3\", \"Topic3\", \"Topic3\", \"Topic3\", \"Topic3\", \"Topic3\", \"Topic3\", \"Topic3\", \"Topic3\", \"Topic3\", \"Topic4\", \"Topic4\", \"Topic4\", \"Topic4\", \"Topic4\", \"Topic4\", \"Topic4\", \"Topic4\", \"Topic4\", \"Topic4\", \"Topic4\", \"Topic4\", \"Topic4\", \"Topic4\", \"Topic4\", \"Topic4\", \"Topic4\", \"Topic4\", \"Topic4\", \"Topic4\", \"Topic4\", \"Topic4\", \"Topic4\", \"Topic4\", \"Topic4\", \"Topic4\", \"Topic4\", \"Topic4\", \"Topic4\", \"Topic4\", \"Topic4\", \"Topic4\", \"Topic4\", \"Topic4\", \"Topic4\", \"Topic4\", \"Topic4\", \"Topic4\", \"Topic4\", \"Topic4\", \"Topic4\", \"Topic4\", \"Topic4\", \"Topic4\", \"Topic4\", \"Topic4\", \"Topic4\", \"Topic4\", \"Topic4\", \"Topic4\", \"Topic4\", \"Topic4\", \"Topic4\", \"Topic4\", \"Topic4\", \"Topic4\", \"Topic4\", \"Topic4\", \"Topic4\", \"Topic4\", \"Topic4\", \"Topic4\", \"Topic4\", \"Topic4\", \"Topic4\", \"Topic4\", \"Topic4\", \"Topic4\", \"Topic4\", \"Topic4\", \"Topic4\", \"Topic4\", \"Topic4\", \"Topic4\", \"Topic4\", \"Topic4\", \"Topic4\", \"Topic4\", \"Topic4\", \"Topic4\", \"Topic4\", \"Topic4\", \"Topic4\", \"Topic4\", \"Topic4\", \"Topic4\", \"Topic4\", \"Topic4\", \"Topic4\", \"Topic4\", \"Topic4\", \"Topic5\", \"Topic5\", \"Topic5\", \"Topic5\", \"Topic5\", \"Topic5\", \"Topic5\", \"Topic5\", \"Topic5\", \"Topic5\", \"Topic5\", \"Topic5\", \"Topic5\", \"Topic5\", \"Topic5\", \"Topic5\", \"Topic5\", \"Topic5\", \"Topic5\", \"Topic5\", \"Topic5\", \"Topic5\", \"Topic5\", \"Topic5\", \"Topic5\", \"Topic5\", \"Topic5\", \"Topic5\", \"Topic5\", \"Topic5\", \"Topic5\", \"Topic5\", \"Topic5\", \"Topic5\", \"Topic5\", \"Topic5\", \"Topic5\", \"Topic5\", \"Topic5\", \"Topic5\", \"Topic5\", \"Topic5\", \"Topic5\", \"Topic5\", \"Topic5\", \"Topic5\", \"Topic5\", \"Topic5\", \"Topic5\", \"Topic5\", \"Topic5\", \"Topic5\", \"Topic5\", \"Topic5\", \"Topic5\", \"Topic5\", \"Topic5\", \"Topic5\", \"Topic5\", \"Topic5\", \"Topic5\", \"Topic5\", \"Topic5\", \"Topic5\", \"Topic5\", \"Topic5\", \"Topic5\", \"Topic5\", \"Topic5\", \"Topic5\", \"Topic5\", \"Topic5\", \"Topic5\", \"Topic5\", \"Topic5\", \"Topic5\", \"Topic5\", \"Topic5\", \"Topic5\", \"Topic5\", \"Topic5\", \"Topic5\", \"Topic5\", \"Topic6\", \"Topic6\", \"Topic6\", \"Topic6\", \"Topic6\", \"Topic6\", \"Topic6\", \"Topic6\", \"Topic6\", \"Topic6\", \"Topic6\", \"Topic6\", \"Topic6\", \"Topic6\", \"Topic6\", \"Topic6\", \"Topic6\", \"Topic6\", \"Topic6\", \"Topic6\", \"Topic6\", \"Topic6\", \"Topic6\", \"Topic6\", \"Topic6\", \"Topic6\", \"Topic6\", \"Topic6\", \"Topic6\", \"Topic6\", \"Topic6\", \"Topic6\", \"Topic6\", \"Topic6\", \"Topic6\", \"Topic6\", \"Topic6\", \"Topic6\", \"Topic6\", \"Topic6\", \"Topic6\", \"Topic6\", \"Topic6\", \"Topic6\", \"Topic6\", \"Topic6\", \"Topic6\", \"Topic6\", \"Topic6\", \"Topic6\", \"Topic6\", \"Topic6\", \"Topic6\", \"Topic6\", \"Topic6\", \"Topic6\", \"Topic6\", \"Topic6\", \"Topic6\", \"Topic6\", \"Topic6\", \"Topic6\", \"Topic6\", \"Topic6\", \"Topic6\", \"Topic6\", \"Topic6\", \"Topic6\", \"Topic6\", \"Topic6\", \"Topic6\", \"Topic6\", \"Topic6\", \"Topic6\", \"Topic6\", \"Topic6\", \"Topic6\", \"Topic6\", \"Topic6\", \"Topic6\", \"Topic6\", \"Topic6\", \"Topic6\", \"Topic6\", \"Topic6\", \"Topic6\", \"Topic7\", \"Topic7\", \"Topic7\", \"Topic7\", \"Topic7\", \"Topic7\", \"Topic7\", \"Topic7\", \"Topic7\", \"Topic7\", \"Topic7\", \"Topic7\", \"Topic7\", \"Topic7\", \"Topic7\", \"Topic7\", \"Topic7\", \"Topic7\", \"Topic7\", \"Topic7\", \"Topic7\", \"Topic7\", \"Topic7\", \"Topic7\", \"Topic7\", \"Topic7\", \"Topic7\", \"Topic7\", \"Topic7\", \"Topic7\", \"Topic7\", \"Topic7\", \"Topic7\", \"Topic7\", \"Topic7\", \"Topic7\", \"Topic7\", \"Topic7\", \"Topic7\", \"Topic7\", \"Topic7\", \"Topic7\", \"Topic7\", \"Topic7\", \"Topic7\", \"Topic7\", \"Topic7\", \"Topic7\", \"Topic7\", \"Topic7\", \"Topic7\", \"Topic7\", \"Topic7\", \"Topic7\", \"Topic7\", \"Topic7\", \"Topic7\", \"Topic7\", \"Topic7\", \"Topic7\", \"Topic7\", \"Topic7\", \"Topic7\", \"Topic7\", \"Topic7\", \"Topic7\", \"Topic7\", \"Topic7\", \"Topic7\", \"Topic7\", \"Topic7\", \"Topic7\", \"Topic7\", \"Topic7\", \"Topic7\", \"Topic7\", \"Topic7\", \"Topic7\", \"Topic7\", \"Topic7\", \"Topic7\", \"Topic7\", \"Topic7\", \"Topic7\", \"Topic7\", \"Topic7\"], \"Freq\": [1727.0, 3559.0, 4171.0, 5005.0, 26398.0, 3532.0, 3170.0, 1409.0, 963.0, 1617.0, 941.0, 4427.0, 1500.0, 2733.0, 2700.0, 4099.0, 1394.0, 1333.0, 1345.0, 3383.0, 1274.0, 1474.0, 845.0, 1235.0, 1370.0, 836.0, 3194.0, 449.0, 1618.0, 631.0, 1.0759387016296387, 1.0218864679336548, 1.2067186832427979, 0.512050986289978, 0.9781427383422852, 0.5092247128486633, 1.6524882316589355, 0.9100168943405151, 2.305584192276001, 0.45701467990875244, 0.8577020764350891, 0.8535777926445007, 0.6221650242805481, 0.8456898927688599, 1.4101653099060059, 0.4346769154071808, 71.797607421875, 0.6095061898231506, 1.0016497373580933, 1.7336891889572144, 0.8171668648719788, 1.1648792028427124, 1.3319355249404907, 0.42329826951026917, 0.8092936277389526, 0.8102267384529114, 1.8456201553344727, 0.420232892036438, 0.41651079058647156, 0.5836470127105713, 61.13645935058594, 10.030773162841797, 60.477054595947266, 82.51372528076172, 769.739013671875, 13.94437313079834, 7.851228713989258, 22.941463470458984, 153.46910095214844, 838.080078125, 882.4154663085938, 103.05213928222656, 69.0314712524414, 17.438379287719727, 532.419189453125, 938.9324340820312, 36.92810821533203, 92.23194122314453, 101.73680877685547, 131.2138671875, 4030.73388671875, 569.2875366210938, 134.16567993164062, 141.6739044189453, 290.15948486328125, 195.1292266845703, 264.5744934082031, 190.2503204345703, 451.3999328613281, 512.1300048828125, 117.41971588134766, 214.46917724609375, 105.41561889648438, 161.09788513183594, 239.9290313720703, 152.30213928222656, 388.972412109375, 576.2181396484375, 478.1220703125, 232.9491424560547, 253.74415588378906, 223.33226013183594, 233.7329864501953, 322.6676025390625, 250.92935180664062, 224.64593505859375, 263.20660400390625, 218.7445068359375, 191.8212890625, 285.91741943359375, 216.86593627929688, 372.6867370605469, 231.60064697265625, 209.68392944335938, 220.21009826660156, 217.32186889648438, 1.110406517982483, 0.5337392091751099, 1.762272596359253, 0.9220620393753052, 0.9162046909332275, 0.47625207901000977, 0.47199103236198425, 0.8991870284080505, 0.46384450793266296, 0.8817205429077148, 0.45734748244285583, 0.44942569732666016, 2.6370129585266113, 1.2189233303070068, 0.848979115486145, 1.4997040033340454, 2.8728725910186768, 1.8665813207626343, 3.7975637912750244, 0.8120288252830505, 1.1124045848846436, 1.484650731086731, 0.8003687262535095, 0.7943687438964844, 0.7927382588386536, 1.8388525247573853, 0.4104878604412079, 1.3246982097625732, 0.40692761540412903, 0.4008442759513855, 0.7626883387565613, 79.69437408447266, 8.753870964050293, 204.38290405273438, 11.654595375061035, 43.20002746582031, 148.4659881591797, 33.995697021484375, 236.06033325195312, 78.32671356201172, 164.7858123779297, 23.879405975341797, 4045.262451171875, 248.15426635742188, 155.6697998046875, 141.95516967773438, 83.28192901611328, 35.36510467529297, 686.3341674804688, 824.4783325195312, 572.9559936523438, 154.89649963378906, 157.85397338867188, 69.34962463378906, 246.3460235595703, 111.66657257080078, 527.9107055664062, 89.77711486816406, 61.714447021484375, 183.1133270263672, 190.18850708007812, 72.45098876953125, 80.71086120605469, 180.72071838378906, 219.80075073242188, 267.9904479980469, 201.2281494140625, 359.2590637207031, 513.8964233398438, 260.9881896972656, 397.5684814453125, 499.917236328125, 266.39971923828125, 550.5067749023438, 435.9167785644531, 561.3557739257812, 362.2641906738281, 251.77249145507812, 229.40283203125, 258.5471496582031, 276.8540344238281, 297.98089599609375, 203.71051025390625, 225.82888793945312, 203.28271484375, 202.59230041503906, 9.671202659606934, 1.4348318576812744, 0.5605826377868652, 1.0324293375015259, 1.0118690729141235, 2.0080292224884033, 1.8581441640853882, 0.5026925206184387, 1.1241555213928223, 0.9039583206176758, 0.8976268768310547, 0.8247952461242676, 1.7488328218460083, 0.4499400556087494, 0.4431055784225464, 0.8507618308067322, 1.602310061454773, 1.0214874744415283, 0.4387519061565399, 0.8374200463294983, 0.786150336265564, 1.942350149154663, 0.8147605061531067, 0.8136848211288452, 0.8138085603713989, 0.8136312365531921, 1.1587285995483398, 2.447352409362793, 0.8053286075592041, 1.3601233959197998, 1.6915569305419922, 29.93419647216797, 77.06973266601562, 183.10479736328125, 280.3205871582031, 18.65856170654297, 56.30345153808594, 8.517417907714844, 28.682308197021484, 149.7164764404297, 63.006290435791016, 33.53551483154297, 32.869415283203125, 193.0032196044922, 84.6700210571289, 49.247344970703125, 19.414196014404297, 3911.012451171875, 694.096435546875, 537.2843627929688, 688.3006591796875, 96.9070816040039, 252.28782653808594, 249.8081512451172, 207.1642303466797, 577.009765625, 178.85801696777344, 120.54234313964844, 671.538330078125, 436.6423645019531, 76.06013488769531, 505.7020263671875, 261.2939453125, 150.06690979003906, 112.08003234863281, 677.1795043945312, 232.1381072998047, 260.1430969238281, 226.2890625, 433.8784484863281, 358.69976806640625, 225.57028198242188, 443.1613464355469, 302.1852722167969, 212.7717742919922, 206.61398315429688, 235.25042724609375, 297.85711669921875, 248.60516357421875, 298.95574951171875, 218.1136016845703, 209.9734649658203, 1.1402782201766968, 0.698375940322876, 0.9189032316207886, 0.9031342267990112, 0.6640271544456482, 0.45992472767829895, 0.8656895756721497, 0.8499308228492737, 0.4425704777240753, 0.8400986194610596, 0.43300092220306396, 0.8263015747070312, 1.3922783136367798, 0.602415919303894, 1.951430320739746, 0.8168252110481262, 1.3780862092971802, 0.9839655160903931, 0.765032947063446, 0.7968148589134216, 0.7954806685447693, 0.7907559275627136, 0.7879551649093628, 0.7815908789634705, 0.574164867401123, 0.9406070113182068, 1.06593918800354, 0.7728631496429443, 1.0980384349822998, 0.7289692163467407, 8.496559143066406, 60.22671890258789, 323.7958679199219, 49.38636779785156, 2.265591621398926, 65.12085723876953, 71.5261459350586, 89.30511474609375, 11.114957809448242, 645.858642578125, 42.24938201904297, 38.96489715576172, 94.8348617553711, 18.081790924072266, 13.312103271484375, 4026.735107421875, 264.9245910644531, 151.32395935058594, 44.5405387878418, 229.63534545898438, 71.9071273803711, 34.101253509521484, 429.965087890625, 244.33828735351562, 119.91927337646484, 43.83798599243164, 143.92063903808594, 246.60101318359375, 274.0348815917969, 180.34397888183594, 44.56172180175781, 177.86349487304688, 186.30816650390625, 112.36265563964844, 273.495849609375, 236.8443603515625, 631.1106567382812, 289.6010437011719, 400.28033447265625, 326.30743408203125, 161.64218139648438, 180.22406005859375, 460.6249694824219, 160.45997619628906, 414.5931091308594, 150.4383087158203, 215.1104736328125, 220.2077178955078, 493.2120056152344, 475.3018798828125, 183.55978393554688, 233.8781280517578, 303.8893737792969, 400.52716064453125, 377.1168212890625, 505.5742492675781, 322.2330322265625, 224.24395751953125, 218.89266967773438, 197.96682739257812, 204.32054138183594, 1.3225040435791016, 1.2701971530914307, 1.1641052961349487, 2.2118356227874756, 1.0527242422103882, 2.3099803924560547, 0.9913568496704102, 0.5071130990982056, 0.9591778516769409, 0.9533041715621948, 0.9310790300369263, 1.1249980926513672, 1.866504430770874, 0.861768901348114, 1.4562606811523438, 0.8567816019058228, 1.5814740657806396, 0.8485825061798096, 0.6220003366470337, 3.0979793071746826, 0.8431162238121033, 0.6175626516342163, 0.820915937423706, 0.9521042704582214, 0.6026886701583862, 0.8039857745170593, 0.968351423740387, 0.9674427509307861, 0.7933729887008667, 0.9223463535308838, 106.36394500732422, 3.147611379623413, 116.43416595458984, 19.01881980895996, 36.99109649658203, 117.44184112548828, 244.26927185058594, 25.192745208740234, 40.80708694458008, 831.6976928710938, 604.7821044921875, 695.73046875, 565.4440307617188, 3712.09765625, 69.88699340820312, 521.6756591796875, 194.7113800048828, 646.2808227539062, 120.11207580566406, 44.36124801635742, 238.3328094482422, 62.58234405517578, 426.2110595703125, 178.81910705566406, 94.78424072265625, 264.1464538574219, 218.1641082763672, 62.12743377685547, 330.3355712890625, 96.2635498046875, 348.6706848144531, 191.7765655517578, 229.17318725585938, 190.13015747070312, 227.76348876953125, 234.70570373535156, 177.9225616455078, 202.46697998046875, 182.47589111328125, 150.2497100830078, 172.86000061035156, 514.3775024414062, 335.76568603515625, 232.298095703125, 381.86309814453125, 397.12933349609375, 230.8419189453125, 297.57122802734375, 209.65789794921875, 236.46229553222656, 228.9969024658203, 218.52442932128906, 204.1851806640625, 1.2515333890914917, 0.7875934839248657, 1.0014982223510742, 2.8993711471557617, 0.4959121346473694, 0.46211591362953186, 1.870888590812683, 0.4600007236003876, 0.6158601641654968, 0.8365330696105957, 0.4257469177246094, 1.1560373306274414, 0.4164099097251892, 2.0246381759643555, 0.5830678939819336, 0.7934703826904297, 1.5070327520370483, 0.5781402587890625, 1.331061601638794, 2.0320799350738525, 0.7800397872924805, 2.1738181114196777, 0.7710772752761841, 1.259574055671692, 0.3998713791370392, 5.287130355834961, 1.2914810180664062, 0.8847891688346863, 7.83085823059082, 0.7546989917755127, 1.3881319761276245, 35.620506286621094, 8.014666557312012, 6.37748908996582, 190.83401489257812, 101.04180908203125, 278.7686462402344, 119.6799545288086, 72.98297882080078, 92.01546478271484, 109.75408935546875, 55.030860900878906, 164.71109008789062, 484.843017578125, 267.6144104003906, 76.26847839355469, 43.8680534362793, 20.81808853149414, 148.09323120117188, 100.94467163085938, 3625.619384765625, 233.59243774414062, 160.7074432373047, 115.60277557373047, 154.77366638183594, 89.5694351196289, 147.28125, 194.62513732910156, 104.9967041015625, 356.3538513183594, 633.2720336914062, 333.45526123046875, 148.6659698486328, 252.3051300048828, 655.4932861328125, 390.7742919921875, 250.37803649902344, 246.3875732421875, 276.5015869140625, 455.14263916015625, 220.99917602539062, 237.5830841064453, 493.7377624511719, 484.5404357910156, 215.00323486328125, 391.8779602050781, 361.9051818847656, 311.7142028808594, 372.9057922363281, 233.3521728515625, 192.9231719970703, 207.2095947265625, 306.9713439941406, 219.6415557861328, 211.502685546875, 194.64346313476562, 0.5142285823822021, 0.9435839056968689, 0.9346433281898499, 0.9350255727767944, 0.9126542210578918, 0.9009897112846375, 1.496444582939148, 0.8860085606575012, 0.8805316090583801, 1.0600963830947876, 1.6365656852722168, 0.8585668802261353, 2.2225804328918457, 0.6299746632575989, 1.0334339141845703, 1.432213306427002, 0.8309205770492554, 459.5809326171875, 0.8192691802978516, 1.1220169067382812, 0.8112188577651978, 0.801351010799408, 0.7977866530418396, 0.7954726815223694, 22.04159164428711, 5.082797527313232, 0.7834914922714233, 3.3617091178894043, 0.780795156955719, 0.7812195420265198, 2.1900246143341064, 4.604422092437744, 110.65364074707031, 5.856560707092285, 3.1478350162506104, 20.09221649169922, 24.348583221435547, 19.31402587890625, 269.9861145019531, 257.3124084472656, 179.6435546875, 181.9599609375, 98.52025604248047, 126.77001953125, 24.31690788269043, 178.42605590820312, 102.29389953613281, 120.1119613647461, 185.060302734375, 291.03814697265625, 56.2206916809082, 524.9857788085938, 79.33749389648438, 94.7192611694336, 242.1306915283203, 273.5457458496094, 150.4881591796875, 42.296531677246094, 17.568941116333008, 187.32913208007812, 205.35008239746094, 48.757179260253906, 43.9140510559082, 3047.415283203125, 235.63717651367188, 487.6443786621094, 459.896484375, 146.9462127685547, 375.60406494140625, 218.36196899414062, 492.6356201171875, 537.1643676757812, 467.3617248535156, 369.51556396484375, 533.2216796875, 572.5106201171875, 316.8949890136719, 300.1509094238281, 261.5832824707031, 245.6384735107422, 327.45806884765625, 411.93487548828125, 216.72543334960938, 205.36094665527344, 207.62677001953125, 204.1172637939453], \"Term\": [\"want\", \"like\", \"good\", \"place\", \"\", \"come\", \"order\", \"staff\", \"lot\", \"wait\", \"give\", \"food\", \"find\", \"go\", \"get\", \"time\", \"drink\", \"recommend\", \"little\", \"great\", \"friendly\", \"say\", \"check\", \"menu\", \"take\", \"enjoy\", \"service\", \"sushi\", \"know\", \"care\", \"BB\", \"Falcon\", \"Rating\", \"abiance\", \"Roomtastic\", \"everrrrr\", \"cartridge\", \"ridgeville\", \"LOTS\", \"Towner\", \"fridendly\", \"Mmmmmm\", \"glutinous\", \"shipper\", \"squishies\", \"nyf\", \"Love\", \"helpless\", \"Male\", \"hk\", \"Shakshuka\", \"Pittsburg\", \"Wtf\", \"Unlimited\", \"Daaayyuuummm\", \"essay\", \"unimpressed\", \"Kiki\", \"Dinosaur\", \"Uncomfortable\", \"beautiful\", \"consist\", \"Las\", \"arrive\", \"come\", \"cupcake\", \"flower\", \"greasy\", \"pizza\", \"good\", \"food\", \"soup\", \"wife\", \"tough\", \"go\", \"place\", \"terrible\", \"breakfast\", \"spot\", \"big\", \"\", \"order\", \"dinner\", \"Great\", \"nice\", \"customer\", \"work\", \"friend\", \"get\", \"service\", \"guy\", \"menu\", \"disappoint\", \"location\", \"tell\", \"visit\", \"well\", \"time\", \"great\", \"think\", \"wait\", \"take\", \"eat\", \"try\", \"price\", \"day\", \"look\", \"ask\", \"amaze\", \"$\", \"experience\", \"like\", \"love\", \"little\", \"know\", \"restaurant\", \"Courteous\", \"shoooz\", \"Ihop\", \"Aryon\", \"intelligently\", \"WTF???closing\", \"shoots.but\", \"rendevouz\", \"whoopers\", \"service.don't\", \"really??all\", \"eat.defiantly\", \"Schwarts\", \"Foot\", \"Kitsch\", \"escrow\", \"Schwartz\", \"Low\", \"Cali\", \"Riaz\", \"Death\", \"vend\", \"Cure\", \"TOWN\", \"Brookline\", \"Kabab\", \"Cromeans\", \"gps\", \"Patronizing\", \"tryed\", \"donts\", \"Food\", \"maintain\", \"lot\", \"diner\", \"salsa\", \"cheese\", \"authentic\", \"menu\", \"plate\", \"3\", \"heat\", \"\", \"recommend\", \"Vegas\", \"home\", \"manager\", \"exactly\", \"time\", \"place\", \"great\", \"walk\", \"long\", \"spend\", \"take\", \"cook\", \"service\", \"hotel\", \"waiter\", \"fry\", \"room\", \"add\", \"huge\", \"friend\", \"friendly\", \"restaurant\", \"definitely\", \"try\", \"come\", \"wait\", \"get\", \"like\", \"love\", \"good\", \"order\", \"food\", \"well\", \"price\", \"say\", \"look\", \"$\", \"go\", \"people\", \"want\", \"tell\", \"eat\", \"yuk\", \"Purolator\", \"YC\", \"Victor\", \"imcomplete\", \"Yuk\", \"woot\", \"PNW\", \"diesel\", \"picante\", \"grump\", \"FAKE\", \"RAC\", \"Diwali\", \"luv\", \"Merest\", \"intelligent\", \"Lexus\", \"yuckie\", \"Greulich\", \"Parsanko\", \"Keri\", \"Ricketts\", \"Prompt\", \"40mins\", \"Erika\", \"Fatty\", \"fingernail\", \"alpine\", \"Serenity\", \"glorify\", \"vegetarian\", \"extremely\", \"check\", \"recommend\", \"1/2\", \"pool\", \"signature\", \"lamb\", \"call\", \"office\", \"Chinese\", \"recently\", \"bar\", \"drive\", \"ready\", \"fabulous\", \"\", \"time\", \"order\", \"good\", \"ice\", \"ask\", \"drink\", \"feel\", \"like\", \"night\", \"close\", \"food\", \"go\", \"helpful\", \"great\", \"know\", \"meal\", \"shop\", \"place\", \"say\", \"love\", \"think\", \"service\", \"well\", \"work\", \"come\", \"$\", \"take\", \"people\", \"nice\", \"try\", \"look\", \"get\", \"price\", \"restaurant\", \"golfweek.com\", \"Vetter\", \"Talia\", \"Greater\", \"Brianna\", \"Precious\", \"romper\", \"ahve\", \"Tia\", \"Aptive\", \"Woolf\", \"Pimpin\", \"Motorsports\", \"SAUCE\", \"gnat\", \"conception\", \"Root\", \"Devin\", \"Nicest\", \"CUTEST\", \"xi\", \"Lupies\", \"Delivary\", \"Apache\", \"Elaine\", \"Stampede\", \"Rudy\", \"Char\", \"Wor\", \"Pound\", \"collection\", \"move\", \"find\", \"man\", \"170\", \"dry\", \"nail\", \"will\", \"Cleveland\", \"like\", \"cocktail\", \"rate\", \"perfect\", \"n\", \"Joe\", \"\", \"eat\", \"server\", \"salon\", \"2\", \"egg\", \"Italian\", \"well\", \"drink\", \"wrong\", \"prepare\", \"area\", \"tell\", \"know\", \"leave\", \"past\", \"fry\", \"bite\", \"week\", \"love\", \"day\", \"food\", \"look\", \"get\", \"$\", \"pretty\", \"delicious\", \"come\", \"lot\", \"order\", \"sure\", \"ask\", \"work\", \"good\", \"time\", \"feel\", \"restaurant\", \"try\", \"great\", \"service\", \"place\", \"go\", \"nice\", \"want\", \"people\", \"price\", \"clinical\", \"browbeat\", \"Unpleasant\", \"zombie\", \"drizzly\", \"machaca\", \"delicious\\u200b\", \"guacamolie\", \"Underrated\", \"Merest\", \"Volcom\", \"diesel\", \"chore\", \"servis\", \"ceux\", \"translucide\", \"tataki\", \"Chair\", \"Melinda\", \"flair\", \"Delivary\", \"arse\", \"extreamly\", \"bahn\", \"swordfish\", \"Londres\", \"Supper\", \"Matthew\", \"F&C\", \"halo\", \"sushi\", \"Resort\", \"sandwich\", \"kick\", \"pleasant\", \"favorite\", \"friendly\", \"gym\", \"yummy\", \"place\", \"like\", \"good\", \"great\", \"\", \"light\", \"service\", \"table\", \"time\", \"happy\", \"glad\", \"staff\", \"finish\", \"go\", \"customer\", \"selection\", \"wait\", \"people\", \"treat\", \"$\", \"hot\", \"try\", \"definitely\", \"tell\", \"taste\", \"think\", \"find\", \"delicious\", \"need\", \"chicken\", \"location\", \"way\", \"food\", \"well\", \"restaurant\", \"order\", \"come\", \"know\", \"get\", \"eat\", \"look\", \"want\", \"price\", \"love\", \"Darlene\", \"SLOW\", \"Ppl\", \"Yo\", \"Sick\", \"Filthy\", \"wtf\", \"Mold\", \"Checkout\", \"Telling\", \"Pruitt\", \"pesky\", \"DEFINITE\", \"institution\", \"shore\", \"dahl\", \"exhibition\", \"Ally\", \"fukien\", \"Ivan\", \"Antony\", \"Mystere\", \"shameless\", \"ummm\", \"cigarets\", \"physician\", \"Theater\", \"Detailz\", \"Stay\", \"Stope\", \"recomend\", \"burgers\", \"breath\", \"layout\", \"give\", \"kind\", \"staff\", \"make\", \"choose\", \"money\", \"10\", \"hope\", \"visit\", \"get\", \"say\", \"half\", \"grill\", \"truck\", \"pay\", \"awesome\", \"\", \"little\", \"star\", \"late\", \"sauce\", \"job\", \"enjoy\", \"chicken\", \"favorite\", \"try\", \"food\", \"$\", \"review\", \"know\", \"place\", \"go\", \"wait\", \"nice\", \"look\", \"come\", \"work\", \"restaurant\", \"good\", \"time\", \"think\", \"like\", \"service\", \"well\", \"great\", \"want\", \"friendly\", \"eat\", \"order\", \"price\", \"love\", \"ask\", \"Convent\", \"Whimsical\", \"Manchego\", \"couture\", \"service.maybe\", \"Nationwide\", \"Styles\", \"insectarium\", \"Kendel\", \"costumers\", \"woot\", \"walkthrough\", \"Joy\", \"cage\", \"Thoroughly\", \"Pavers\", \"CHOP\", \"want\", \"Ricketts\", \"Bed\", \"Deliverance\", \"12:45pm\", \"Klavon\", \"TACOS\", \"strawberry\", \"military\", \"Dots\", \"lap\", \"UMAMI\", \"menudazo\", \"del\", \"Christina\", \"business\", \"backyard\", \"tapioca\", \"flight\", \"heat\", \"bike\", \"experience\", \"little\", \"hour\", \"give\", \"ice\", \"car\", \"limit\", \"lot\", \"old\", \"care\", \"right\", \"price\", \"fan\", \"order\", \"cut\", \"busy\", \"drink\", \"wait\", \"enjoy\", \"lack\", \"Friendly\", \"thing\", \"menu\", \"maybe\", \"patio\", \"\", \"say\", \"great\", \"service\", \"clean\", \"well\", \"take\", \"come\", \"time\", \"like\", \"get\", \"food\", \"place\", \"try\", \"$\", \"look\", \"love\", \"go\", \"good\", \"know\", \"day\", \"nice\", \"restaurant\"], \"Total\": [1727.0, 3559.0, 4171.0, 5005.0, 26398.0, 3532.0, 3170.0, 1409.0, 963.0, 1617.0, 941.0, 4427.0, 1500.0, 2733.0, 2700.0, 4099.0, 1394.0, 1333.0, 1345.0, 3383.0, 1274.0, 1474.0, 845.0, 1235.0, 1370.0, 836.0, 3194.0, 449.0, 1618.0, 631.0, 3.075955629348755, 3.0778234004974365, 3.7302052974700928, 1.60689115524292, 3.075235605239868, 1.602980136871338, 5.207454204559326, 3.0822699069976807, 7.825968265533447, 1.605394721031189, 3.0795230865478516, 3.0761361122131348, 2.2655282020568848, 3.0797550678253174, 5.2011237144470215, 1.6078126430511475, 265.76702880859375, 2.2654361724853516, 3.7376160621643066, 6.524438381195068, 3.0813093185424805, 4.3966803550720215, 5.056680679321289, 1.608182668685913, 3.0779495239257812, 3.081753969192505, 7.020149230957031, 1.6079182624816895, 1.6089930534362793, 2.264798164367676, 242.57786560058594, 39.843528747558594, 249.18997192382812, 346.8517761230469, 3532.32958984375, 56.650386810302734, 31.494705200195312, 97.7457504272461, 709.9586181640625, 4171.5029296875, 4427.291015625, 474.14019775390625, 311.38836669921875, 73.86334991455078, 2733.71875, 5005.8662109375, 164.645263671875, 438.44000244140625, 487.8017578125, 651.8883056640625, 26398.876953125, 3170.90234375, 672.658935546875, 714.7432250976562, 1594.73828125, 1031.909423828125, 1449.292236328125, 1018.3553466796875, 2700.13427734375, 3194.513427734375, 613.3329467773438, 1235.9036865234375, 557.2288818359375, 903.5242309570312, 1431.3853759765625, 849.2940673828125, 2562.985107421875, 4099.9365234375, 3383.301513671875, 1444.1651611328125, 1617.0726318359375, 1370.7816162109375, 1460.8258056640625, 2305.592529296875, 1654.340087890625, 1447.4375, 1834.507080078125, 1405.6087646484375, 1152.98828125, 2155.205810546875, 1406.433837890625, 3559.494140625, 1692.965576171875, 1345.656982421875, 1618.3311767578125, 1603.162353515625, 3.0769476890563965, 1.6071081161499023, 5.867114067077637, 3.075761318206787, 3.075413942337036, 1.6070283651351929, 1.6068661212921143, 3.077166795730591, 1.604920744895935, 3.0747430324554443, 1.6073620319366455, 1.6065336465835571, 9.457714080810547, 4.396447658538818, 3.0768864154815674, 5.5474700927734375, 10.777313232421875, 7.028504848480225, 14.398246765136719, 3.0806596279144287, 4.238595008850098, 5.705989837646484, 3.079087734222412, 3.0843639373779297, 3.083069086074829, 7.18343448638916, 1.6080697774887085, 5.201803207397461, 1.6069586277008057, 1.6066430807113647, 3.079468250274658, 359.3202209472656, 37.21453094482422, 963.023681640625, 50.549217224121094, 199.2150421142578, 732.4246215820312, 157.57960510253906, 1235.9036865234375, 383.4604797363281, 856.4149780273438, 109.71250915527344, 26398.876953125, 1333.890869140625, 808.3175659179688, 732.0833740234375, 419.0447998046875, 166.9226837158203, 4099.9365234375, 5005.8662109375, 3383.301513671875, 817.1279296875, 837.9878540039062, 344.9122619628906, 1370.7816162109375, 580.5322875976562, 3194.513427734375, 460.1687316894531, 307.35986328125, 1016.2400512695312, 1064.71044921875, 367.3613586425781, 414.63677978515625, 1018.3553466796875, 1274.1246337890625, 1603.162353515625, 1162.8642578125, 2305.592529296875, 3532.32958984375, 1617.0726318359375, 2700.13427734375, 3559.494140625, 1692.965576171875, 4171.5029296875, 3170.90234375, 4427.291015625, 2562.985107421875, 1654.340087890625, 1474.9774169921875, 1834.507080078125, 2155.205810546875, 2733.71875, 1321.264404296875, 1727.8934326171875, 1431.3853759765625, 1460.8258056640625, 24.679611206054688, 3.7536537647247314, 1.6118335723876953, 3.0864365100860596, 3.0953598022460938, 6.227908611297607, 5.890804290771484, 1.6126652956008911, 3.753199577331543, 3.089967727661133, 3.087184429168701, 2.925624370574951, 6.217079162597656, 1.6098511219024658, 1.6121412515640259, 3.0959982872009277, 5.868832588195801, 3.744211435317993, 1.6121718883514404, 3.086812973022461, 2.932363748550415, 7.36569881439209, 3.0912680625915527, 3.087750196456909, 3.0882973670959473, 3.089750289916992, 4.402344703674316, 9.338123321533203, 3.086366891860962, 5.213220119476318, 6.53619909286499, 124.83702087402344, 341.2301025390625, 845.2977294921875, 1333.890869140625, 79.3587875366211, 257.698486328125, 35.57200241088867, 128.23434448242188, 731.6311645507812, 294.99542236328125, 151.8056182861328, 149.3701171875, 985.2194213867188, 414.3065490722656, 233.55621337890625, 85.91838073730469, 26398.876953125, 4099.9365234375, 3170.90234375, 4171.5029296875, 496.1675720214844, 1405.6087646484375, 1394.3079833984375, 1153.669189453125, 3559.494140625, 993.6372680664062, 638.0316162109375, 4427.291015625, 2733.71875, 391.798828125, 3383.301513671875, 1618.3311767578125, 859.45751953125, 612.4012451171875, 5005.8662109375, 1474.9774169921875, 1692.965576171875, 1444.1651611328125, 3194.513427734375, 2562.985107421875, 1449.292236328125, 3532.32958984375, 2155.205810546875, 1370.7816162109375, 1321.264404296875, 1594.73828125, 2305.592529296875, 1834.507080078125, 2700.13427734375, 1654.340087890625, 1603.162353515625, 3.084761381149292, 2.2723214626312256, 3.0897316932678223, 3.082939386367798, 2.272343873977661, 1.612221360206604, 3.0890562534332275, 3.090348720550537, 1.6131969690322876, 3.0845608711242676, 1.6120147705078125, 3.0909972190856934, 5.227156639099121, 2.271864414215088, 7.363196849822998, 3.0898499488830566, 5.225893020629883, 3.7432048320770264, 2.9253039360046387, 3.0923101902008057, 3.09202241897583, 3.0873749256134033, 3.0981686115264893, 3.0900871753692627, 2.2715835571289062, 3.746417284011841, 4.248379707336426, 3.0896668434143066, 4.398889064788818, 2.9300594329833984, 35.30738830566406, 262.42584228515625, 1500.028076171875, 228.58090209960938, 9.347877502441406, 314.123046875, 347.893798828125, 439.9154052734375, 49.41386413574219, 3559.494140625, 203.57606506347656, 187.04000854492188, 482.24322509765625, 83.12349700927734, 60.33885192871094, 26398.876953125, 1460.8258056640625, 808.1303100585938, 218.77964782714844, 1276.5550537109375, 368.54144287109375, 165.28126525878906, 2562.985107421875, 1394.3079833984375, 645.5408935546875, 217.35870361328125, 792.4674072265625, 1431.3853759765625, 1618.3311767578125, 1027.093994140625, 221.84512329101562, 1016.2400512695312, 1070.112060546875, 616.438720703125, 1692.965576171875, 1447.4375, 4427.291015625, 1834.507080078125, 2700.13427734375, 2155.205810546875, 963.3692016601562, 1095.6820068359375, 3532.32958984375, 963.023681640625, 3170.90234375, 889.7562866210938, 1405.6087646484375, 1449.292236328125, 4171.5029296875, 4099.9365234375, 1153.669189453125, 1603.162353515625, 2305.592529296875, 3383.301513671875, 3194.513427734375, 5005.8662109375, 2733.71875, 1594.73828125, 1727.8934326171875, 1321.264404296875, 1654.340087890625, 3.0968852043151855, 3.0945684909820557, 3.094559907913208, 6.389786720275879, 3.093388795852661, 7.048452854156494, 3.092507839202881, 1.6118673086166382, 3.096282958984375, 3.0959982872009277, 3.094270944595337, 3.753199577331543, 6.387242794036865, 3.0900826454162598, 5.225839138031006, 3.091036081314087, 5.723937511444092, 3.089128255844116, 2.2706263065338135, 11.32253646850586, 3.0981686115264893, 2.2729780673980713, 3.088590383529663, 3.58293080329895, 2.271758794784546, 3.0875561237335205, 3.7525007724761963, 3.750040054321289, 3.0892369747161865, 3.5934271812438965, 449.9372863769531, 12.622304916381836, 535.7991943359375, 82.86000061035156, 166.112060546875, 580.7156982421875, 1274.1246337890625, 115.11521911621094, 193.10549926757812, 5005.8662109375, 3559.494140625, 4171.5029296875, 3383.301513671875, 26398.876953125, 354.8107604980469, 3194.513427734375, 1092.5615234375, 4099.9365234375, 655.3312377929688, 217.44090270996094, 1409.8009033203125, 319.4936218261719, 2733.71875, 1031.909423828125, 509.07012939453125, 1617.0726318359375, 1321.264404296875, 318.0433349609375, 2155.205810546875, 524.267578125, 2305.592529296875, 1162.8642578125, 1431.3853759765625, 1155.4586181640625, 1444.1651611328125, 1500.028076171875, 1095.6820068359375, 1293.8150634765625, 1145.301025390625, 903.5242309570312, 1075.380615234375, 4427.291015625, 2562.985107421875, 1603.162353515625, 3170.90234375, 3532.32958984375, 1618.3311767578125, 2700.13427734375, 1460.8258056640625, 1834.507080078125, 1727.8934326171875, 1654.340087890625, 1692.965576171875, 3.0966432094573975, 2.272164821624756, 3.0905470848083496, 9.333220481872559, 1.6129659414291382, 1.6136199235916138, 6.548254489898682, 1.6135141849517822, 2.272653341293335, 3.08975887298584, 1.6115304231643677, 4.401122093200684, 1.612271785736084, 7.868317127227783, 2.2701289653778076, 3.093249797821045, 5.884024143218994, 2.268068552017212, 5.2233734130859375, 8.023524284362793, 3.093256711959839, 8.679043769836426, 3.0918304920196533, 5.071195602416992, 1.61244535446167, 21.324806213378906, 5.23069429397583, 3.5878500938415527, 32.03635787963867, 3.0930612087249756, 5.714113712310791, 155.31033325195312, 34.51814651489258, 27.43536949157715, 941.5162353515625, 487.6210021972656, 1409.8009033203125, 586.9834594726562, 353.86865234375, 455.4710998535156, 552.67138671875, 267.520751953125, 849.2940673828125, 2700.13427734375, 1474.9774169921875, 385.32989501953125, 217.03610229492188, 97.41398620605469, 806.0336303710938, 536.0099487304688, 26398.876953125, 1345.656982421875, 899.707275390625, 630.8515014648438, 872.1284790039062, 478.3411560058594, 836.7413940429688, 1145.301025390625, 580.7156982421875, 2305.592529296875, 4427.291015625, 2155.205810546875, 870.27587890625, 1618.3311767578125, 5005.8662109375, 2733.71875, 1617.0726318359375, 1594.73828125, 1834.507080078125, 3532.32958984375, 1449.292236328125, 1603.162353515625, 4171.5029296875, 4099.9365234375, 1444.1651611328125, 3559.494140625, 3194.513427734375, 2562.985107421875, 3383.301513671875, 1727.8934326171875, 1274.1246337890625, 1460.8258056640625, 3170.90234375, 1654.340087890625, 1692.965576171875, 1405.6087646484375, 1.6149948835372925, 3.096670389175415, 3.0912833213806152, 3.0941176414489746, 3.097780227661133, 3.0893454551696777, 5.228503227233887, 3.096930742263794, 3.0921802520751953, 3.757420539855957, 5.890804290771484, 3.0956497192382812, 8.02459716796875, 2.274684190750122, 3.7428195476531982, 5.2266387939453125, 3.092846393585205, 1727.8934326171875, 3.0912680625915527, 4.251677513122559, 3.0925979614257812, 3.095966100692749, 3.092925548553467, 3.0866732597351074, 85.75679016113281, 19.88610076904297, 3.0896430015563965, 13.302835464477539, 3.0911200046539307, 3.0947771072387695, 8.68702220916748, 18.527748107910156, 499.96453857421875, 24.327247619628906, 12.799925804138184, 88.94733428955078, 109.71250915527344, 86.2134780883789, 1406.433837890625, 1345.656982421875, 924.9562377929688, 941.5162353515625, 496.1675720214844, 653.8032836914062, 111.81977844238281, 963.023681640625, 529.9238891601562, 631.0699462890625, 1010.6219482421875, 1654.340087890625, 279.4001770019531, 3170.90234375, 407.5390930175781, 496.4054260253906, 1394.3079833984375, 1617.0726318359375, 836.7413940429688, 206.88330078125, 79.71134185791016, 1112.7493896484375, 1235.9036865234375, 249.6842041015625, 222.0515594482422, 26398.876953125, 1474.9774169921875, 3383.301513671875, 3194.513427734375, 868.3964233398438, 2562.985107421875, 1370.7816162109375, 3532.32958984375, 4099.9365234375, 3559.494140625, 2700.13427734375, 4427.291015625, 5005.8662109375, 2305.592529296875, 2155.205810546875, 1834.507080078125, 1692.965576171875, 2733.71875, 4171.5029296875, 1618.3311767578125, 1447.4375, 1594.73828125, 1603.162353515625], \"loglift\": [30.0, 29.0, 28.0, 27.0, 26.0, 25.0, 24.0, 23.0, 22.0, 21.0, 20.0, 19.0, 18.0, 17.0, 16.0, 15.0, 14.0, 13.0, 12.0, 11.0, 10.0, 9.0, 8.0, 7.0, 6.0, 5.0, 4.0, 3.0, 2.0, 1.0, 0.8439000248908997, 0.7918000221252441, 0.7657999992370605, 0.7506999969482422, 0.7488999962806702, 0.7476000189781189, 0.7465000152587891, 0.6743999719619751, 0.6722000241279602, 0.6378999948501587, 0.616100013256073, 0.6122999787330627, 0.6019999980926514, 0.6018999814987183, 0.5892000198364258, 0.5863000154495239, 0.5856000185012817, 0.5814999938011169, 0.5774999856948853, 0.5690000057220459, 0.5670999884605408, 0.566100001335144, 0.5602999925613403, 0.5595999956130981, 0.5584999918937683, 0.5583999752998352, 0.5583999752998352, 0.5525000095367432, 0.542900025844574, 0.5383999943733215, 0.5160999894142151, 0.5149999856948853, 0.47839999198913574, 0.45840001106262207, 0.37070000171661377, 0.4925000071525574, 0.5052000284194946, 0.4449000060558319, 0.3625999987125397, 0.28940001130104065, 0.2815000116825104, 0.36809998750686646, 0.3878999948501587, 0.45080000162124634, 0.25839999318122864, 0.2206999957561493, 0.3995000123977661, 0.3353999853134155, 0.32679998874664307, 0.2912999987602234, 0.014999999664723873, 0.1770000010728836, 0.28220000863075256, 0.2759000062942505, 0.19030000269412994, 0.2287999987602234, 0.19359999895095825, 0.2167000025510788, 0.10559999942779541, 0.06369999796152115, 0.24120000004768372, 0.1429000049829483, 0.22930000722408295, 0.17000000178813934, 0.10830000042915344, 0.17579999566078186, 0.008899999782443047, -0.06790000200271606, -0.06239999830722809, 0.06989999860525131, 0.04230000078678131, 0.07989999651908875, 0.061799999326467514, -0.07209999859333038, 0.00839999970048666, 0.031300000846385956, -0.04729999974370003, 0.03400000184774399, 0.10080000013113022, -0.12559999525547028, 0.024800000712275505, -0.36230000853538513, -0.09489999711513519, 0.03530000150203705, -0.10019999742507935, -0.10400000214576721, 0.9101999998092651, 0.8270999789237976, 0.7265999913215637, 0.7246999740600586, 0.718500018119812, 0.7131999731063843, 0.7042999863624573, 0.6991000175476074, 0.6880999803543091, 0.6802999973297119, 0.6725000143051147, 0.6554999947547913, 0.6521999835968018, 0.6466000080108643, 0.6417999863624573, 0.6212999820709229, 0.6072999835014343, 0.6035000085830688, 0.5967000126838684, 0.5960000157356262, 0.59170001745224, 0.5831000208854675, 0.582099974155426, 0.5728999972343445, 0.5712000131607056, 0.5667999982833862, 0.5640000104904175, 0.5616000294685364, 0.555899977684021, 0.541100025177002, 0.5336999893188477, 0.42340001463890076, 0.4821999967098236, 0.37929999828338623, 0.46219998598098755, 0.4009000062942505, 0.33340001106262207, 0.39570000767707825, 0.27390000224113464, 0.3411000072956085, 0.28130000829696655, 0.40459999442100525, 0.053599998354911804, 0.2476000040769577, 0.28220000863075256, 0.289000004529953, 0.31369999051094055, 0.3776000142097473, 0.1420000046491623, 0.1257999986410141, 0.15360000729560852, 0.266400009393692, 0.26010000705718994, 0.325300008058548, 0.21299999952316284, 0.2809999883174896, 0.1290999948978424, 0.29510000348091125, 0.3239000141620636, 0.21559999883174896, 0.2070000022649765, 0.3059999942779541, 0.2928999960422516, 0.2003999948501587, 0.1720999926328659, 0.14059999585151672, 0.17520000040531158, 0.07039999961853027, 0.0017000000225380063, 0.1054999977350235, 0.013700000010430813, -0.03350000083446503, 0.08020000159740448, -0.0957999974489212, -0.05490000173449516, -0.13580000400543213, -0.02710000053048134, 0.046799998730421066, 0.06849999725818634, -0.029999999329447746, -0.12269999831914902, -0.28700000047683716, 0.05979999899864197, -0.1054999977350235, -0.02239999920129776, -0.04619999974966049, 1.0017999410629272, 0.9769999980926514, 0.8824999928474426, 0.843500018119812, 0.8205000162124634, 0.8066999912261963, 0.7847999930381775, 0.7730000019073486, 0.7330999970436096, 0.7095000147819519, 0.7034000158309937, 0.6725000143051147, 0.6703000068664551, 0.6639000177383423, 0.6470999717712402, 0.6468999981880188, 0.6403999924659729, 0.6396999955177307, 0.6371999979019165, 0.6341000199317932, 0.6222000122070312, 0.6057000160217285, 0.6051999926567078, 0.6050000190734863, 0.6050000190734863, 0.6043000221252441, 0.6037999987602234, 0.5995000004768372, 0.5950999855995178, 0.5950000286102295, 0.586899995803833, 0.5105999708175659, 0.45080000162124634, 0.4090000092983246, 0.37869998812675476, 0.4909999966621399, 0.41760000586509705, 0.5091999769210815, 0.44110000133514404, 0.3521000146865845, 0.39489999413490295, 0.428600013256073, 0.42480000853538513, 0.3084999918937683, 0.3508000075817108, 0.382099986076355, 0.451200008392334, 0.029100000858306885, 0.16249999403953552, 0.16339999437332153, 0.13680000603199005, 0.30550000071525574, 0.22100000083446503, 0.219200000166893, 0.22139999270439148, 0.11909999698400497, 0.22390000522136688, 0.27219998836517334, 0.05270000174641609, 0.10429999977350235, 0.2994000017642975, 0.03799999877810478, 0.11509999632835388, 0.19339999556541443, 0.24050000309944153, -0.061799999326467514, 0.08959999680519104, 0.06560000032186508, 0.0851999968290329, -0.05779999867081642, -0.027799999341368675, 0.07840000092983246, -0.1370999962091446, -0.026000000536441803, 0.07569999992847443, 0.08309999853372574, 0.024800000712275505, -0.10779999941587448, -0.05999999865889549, -0.2621000111103058, -0.08749999850988388, -0.0940999984741211, 0.9598000049591064, 0.7752000093460083, 0.7422999739646912, 0.7271999716758728, 0.7246999740600586, 0.7006999850273132, 0.6829000115394592, 0.6640999913215637, 0.6615999937057495, 0.6542999744415283, 0.640500009059906, 0.635699987411499, 0.6320000290870667, 0.6276000142097473, 0.6269999742507935, 0.6244999766349792, 0.621999979019165, 0.6189000010490417, 0.6136999726295471, 0.5989000201225281, 0.5972999930381775, 0.5928999781608582, 0.5857999920845032, 0.580299973487854, 0.5795999765396118, 0.5728999972343445, 0.5723000168800354, 0.5691999793052673, 0.5670999884605408, 0.5637999773025513, 0.5304999947547913, 0.4830999970436096, 0.42179998755455017, 0.4226999878883362, 0.5376999974250793, 0.3813999891281128, 0.37310001254081726, 0.36039999127388, 0.46299999952316284, 0.24819999933242798, 0.3824999928474426, 0.3862999975681305, 0.3287000060081482, 0.429500013589859, 0.44369998574256897, 0.07460000365972519, 0.24770000576972961, 0.27970001101493835, 0.36329999566078186, 0.2395000010728836, 0.3208000063896179, 0.3765999972820282, 0.1696999967098236, 0.2134000062942505, 0.271699994802475, 0.3538999855518341, 0.249099999666214, 0.19629999995231628, 0.17910000681877136, 0.21529999375343323, 0.3499000072479248, 0.21209999918937683, 0.20679999887943268, 0.25270000100135803, 0.13199999928474426, 0.14480000734329224, 0.006899999920278788, 0.10890000313520432, 0.04610000178217888, 0.06719999760389328, 0.16990000009536743, 0.15000000596046448, -0.08219999819993973, 0.16290000081062317, -0.0794999971985817, 0.17759999632835388, 0.0778999999165535, 0.07069999724626541, -0.1800999939441681, -0.19979999959468842, 0.11680000275373459, 0.029999999329447746, -0.07150000333786011, -0.17890000343322754, -0.18170000612735748, -0.3377000093460083, -0.18320000171661377, -0.006800000090152025, -0.11110000312328339, 0.056699998676776886, -0.13650000095367432, 1.1122000217437744, 1.07260000705719, 0.9854000210762024, 0.9021999835968018, 0.885200023651123, 0.8475000262260437, 0.8253999948501587, 0.8066999912261963, 0.7911999821662903, 0.7851999998092651, 0.7620999813079834, 0.7583000063896179, 0.7329000234603882, 0.6861000061035156, 0.6854000091552734, 0.6800000071525574, 0.676800012588501, 0.6710000038146973, 0.6682000160217285, 0.6671000123023987, 0.6615999937057495, 0.6600000262260437, 0.6380000114440918, 0.6377999782562256, 0.6362000107765198, 0.6175000071525574, 0.6085000038146973, 0.6082000136375427, 0.6036999821662903, 0.6032000184059143, 0.5209000110626221, 0.5742999911308289, 0.4366999864578247, 0.49140000343322754, 0.4611000120639801, 0.36480000615119934, 0.31139999628067017, 0.44369998574256897, 0.40869998931884766, 0.16820000112056732, 0.19059999287128448, 0.1720000058412552, 0.17409999668598175, 0.00139999995008111, 0.3384000062942505, 0.1509999930858612, 0.23829999566078186, 0.11559999734163284, 0.266400009393692, 0.3734999895095825, 0.18559999763965607, 0.3328000009059906, 0.10459999740123749, 0.2102999985218048, 0.28209999203681946, 0.15119999647140503, 0.16200000047683716, 0.33009999990463257, 0.08760000020265579, 0.26820001006126404, 0.07410000264644623, 0.1607999950647354, 0.13120000064373016, 0.15860000252723694, 0.1160999983549118, 0.10819999873638153, 0.1453000009059906, 0.10830000042915344, 0.12630000710487366, 0.16910000145435333, 0.13510000705718994, -0.18950000405311584, -0.06939999759197235, 0.03139999881386757, -0.15360000729560852, -0.2223999947309494, 0.015699999406933784, -0.24230000376701355, 0.021800000220537186, -0.08560000360012054, -0.05790000036358833, -0.06120000034570694, -0.15209999680519104, 1.0611000061035156, 0.9075000286102295, 0.8402000069618225, 0.7979000210762024, 0.7875999808311462, 0.7166000008583069, 0.7142000198364258, 0.7121000289916992, 0.661300003528595, 0.6603999733924866, 0.6359000205993652, 0.6301000118255615, 0.6133000254631042, 0.6096000075340271, 0.607699990272522, 0.6064000129699707, 0.6049000024795532, 0.6000999808311462, 0.5997999906539917, 0.5936999917030334, 0.5893999934196472, 0.5825999975204468, 0.5782999992370605, 0.5741999745368958, 0.5726000070571899, 0.5723999738693237, 0.5683000087738037, 0.5669999718666077, 0.5582000017166138, 0.5564000010490417, 0.5519999861717224, 0.4945000112056732, 0.5067999958992004, 0.5078999996185303, 0.3709000051021576, 0.3930000066757202, 0.34619998931884766, 0.376800000667572, 0.38830000162124634, 0.3675999939441681, 0.3504999876022339, 0.385699987411499, 0.32679998874664307, 0.24979999661445618, 0.26019999384880066, 0.3472000062465668, 0.36809998750686646, 0.4239000082015991, 0.2727000117301941, 0.29739999771118164, -0.018300000578165054, 0.2159000039100647, 0.24449999630451202, 0.2700999975204468, 0.23800000548362732, 0.29170000553131104, 0.2298000007867813, 0.19470000267028809, 0.2567000091075897, 0.0997999981045723, 0.02239999920129776, 0.10090000182390213, 0.19990000128746033, 0.10849999636411667, -0.06599999964237213, 0.021700000390410423, 0.10159999877214432, 0.09939999878406525, 0.0746999979019165, -0.08209999650716782, 0.08630000054836273, 0.05779999867081642, -0.16699999570846558, -0.16850000619888306, 0.06239999830722809, -0.2393999993801117, -0.21080000698566437, -0.13979999721050262, -0.23829999566078186, -0.035100001841783524, 0.07930000126361847, 0.014000000432133675, -0.36800000071525574, -0.05220000073313713, -0.11299999803304672, -0.009999999776482582, 0.8319000005722046, 0.7878999710083008, 0.7800999879837036, 0.7796000242233276, 0.7541999816894531, 0.7440999746322632, 0.7253000140190125, 0.7249000072479248, 0.7202000021934509, 0.7109000086784363, 0.6955000162124634, 0.6937999725341797, 0.6924999952316284, 0.6923999786376953, 0.6894000172615051, 0.6818000078201294, 0.6620000004768372, 0.6520000100135803, 0.6484000086784363, 0.64410001039505, 0.6381000280380249, 0.6247000098228455, 0.6212999820709229, 0.6204000115394592, 0.6176999807357788, 0.6121000051498413, 0.6043000221252441, 0.6007999777793884, 0.6003000140190125, 0.5996999740600586, 0.5983999967575073, 0.5841000080108643, 0.4681999981403351, 0.552299976348877, 0.5735999941825867, 0.4885999858379364, 0.4708999991416931, 0.48030000925064087, 0.32589998841285706, 0.32199999690055847, 0.3375000059604645, 0.3325999975204468, 0.3596999943256378, 0.3359000086784363, 0.4505999982357025, 0.2903999984264374, 0.3314000070095062, 0.3172999918460846, 0.27869999408721924, 0.2386000007390976, 0.37290000915527344, 0.17790000140666962, 0.3398999869823456, 0.3197999894618988, 0.225600004196167, 0.19939999282360077, 0.260699987411499, 0.3889000117778778, 0.46399998664855957, 0.19460000097751617, 0.18150000274181366, 0.34299999475479126, 0.3555999994277954, -0.1826999932527542, 0.14219999313354492, 0.03929999843239784, 0.038100000470876694, 0.1996999979019165, 0.05590000003576279, 0.13930000364780426, 0.006399999838322401, -0.05609999969601631, -0.05400000140070915, -0.012600000016391277, -0.14030000567436218, -0.19200000166893005, -0.008200000040233135, 0.004900000058114529, 0.02850000001490116, 0.045899998396635056, -0.14579999446868896, -0.33889999985694885, -0.03420000150799751, 0.023499999195337296, -0.06239999830722809, -0.08470000326633453], \"logprob\": [30.0, 29.0, 28.0, 27.0, 26.0, 25.0, 24.0, 23.0, 22.0, 21.0, 20.0, 19.0, 18.0, 17.0, 16.0, 15.0, 14.0, 13.0, 12.0, 11.0, 10.0, 9.0, 8.0, 7.0, 6.0, 5.0, 4.0, 3.0, 2.0, 1.0, -11.195799827575684, -11.247300148010254, -11.081100463867188, -11.938300132751465, -11.291099548339844, -11.94379997253418, -10.76669979095459, -11.363300323486328, -10.433600425720215, -12.052000045776367, -11.422499656677246, -11.427300453186035, -11.743499755859375, -11.436599731445312, -10.925299644470215, -12.102100372314453, -6.995100021362305, -11.764100074768066, -11.26729965209961, -10.718700408935547, -11.47089958190918, -11.116299629211426, -10.9822998046875, -12.128600120544434, -11.480600357055664, -11.479399681091309, -10.656100273132324, -12.135899543762207, -12.144800186157227, -11.80739974975586, -7.155900001525879, -8.963299751281738, -7.1666998863220215, -6.855999946594238, -4.622900009155273, -8.633899688720703, -9.20829963684082, -8.13599967956543, -6.235499858856201, -4.537799835205078, -4.486299991607666, -6.633699893951416, -7.03439998626709, -8.410300254821777, -4.991499900817871, -4.424200057983398, -7.659999847412109, -6.744699954986572, -6.646599769592285, -6.392099857330322, -2.9672999382019043, -4.924600124359131, -6.369900226593018, -6.315400123596191, -5.598499774932861, -5.995299816131592, -5.690800189971924, -6.020599842071533, -5.156599998474121, -5.030399799346924, -6.503200054168701, -5.9008002281188965, -6.611100196838379, -6.1869001388549805, -5.788599967956543, -6.243100166320801, -5.305500030517578, -4.912499904632568, -5.099100112915039, -5.8180999755859375, -5.732600212097168, -5.860300064086914, -5.814799785614014, -5.492300033569336, -5.743800163269043, -5.854400157928467, -5.696000099182129, -5.881100177764893, -6.012400150299072, -5.61329984664917, -5.889699935913086, -5.348199844360352, -5.82390022277832, -5.923399925231934, -5.8744001388549805, -5.887599945068359, -11.129199981689453, -11.861700057983398, -10.6673002243042, -11.3149995803833, -11.321399688720703, -11.975700378417969, -11.984700202941895, -11.340200424194336, -12.002099990844727, -11.359800338745117, -12.016200065612793, -12.033699989318848, -10.264200210571289, -11.035900115966797, -11.397600173950195, -10.82859992980957, -10.178600311279297, -10.609800338745117, -9.899499893188477, -11.442099571228027, -11.127400398254395, -10.838700294494629, -11.456600189208984, -11.464099884033203, -11.46619987487793, -10.624799728393555, -12.124300003051758, -10.952699661254883, -12.133000373840332, -12.148099899291992, -11.504799842834473, -6.8557000160217285, -9.064399719238281, -5.913899898529053, -8.778200149536133, -7.468100070953369, -6.233500003814697, -7.707699775695801, -5.769800186157227, -6.873000144958496, -6.129199981689453, -8.06089973449707, -2.9286000728607178, -5.719799995422363, -6.186200141906738, -6.27839994430542, -6.811699867248535, -7.6682000160217285, -4.702499866485596, -4.519100189208984, -4.8831000328063965, -6.191100120544434, -6.1722002029418945, -6.994699954986572, -5.727200031280518, -6.518400192260742, -4.965000152587891, -6.736599922180176, -7.111400127410889, -6.023799896240234, -5.985899925231934, -6.951000213623047, -6.8429999351501465, -6.036900043487549, -5.84119987487793, -5.642899990081787, -5.929500102996826, -5.349800109863281, -4.9918999671936035, -5.669400215148926, -5.248499870300293, -5.019499778747559, -5.648900032043457, -4.923099994659424, -5.156400203704834, -4.903500080108643, -5.3414998054504395, -5.705399990081787, -5.798399925231934, -5.678800106048584, -5.610400199890137, -5.536900043487549, -5.917200088500977, -5.8140997886657715, -5.919300079345703, -5.922699928283691, -8.955499649047852, -10.86359977722168, -11.803400039672852, -11.192700386047363, -11.212900161743164, -10.52750015258789, -10.60509967803955, -11.912400245666504, -11.107600212097168, -11.325599670410156, -11.3326997756958, -11.4173002243042, -10.66569995880127, -12.023300170898438, -12.038599967956543, -11.386300086975098, -10.753199577331543, -11.203399658203125, -12.048500061035156, -11.402099609375, -11.465299606323242, -10.560799598693848, -11.429499626159668, -11.430800437927246, -11.430700302124023, -11.430899620056152, -11.077300071716309, -10.329700469970703, -11.441200256347656, -10.917099952697754, -10.699000358581543, -7.825699806213379, -6.880000114440918, -6.014599800109863, -5.588699817657471, -8.298399925231934, -7.193900108337402, -9.082599639892578, -7.8684000968933105, -6.21589994430542, -7.081399917602539, -7.712100028991699, -7.732100009918213, -5.961999893188477, -6.785900115966797, -7.3277997970581055, -8.258700370788574, -2.9530999660491943, -4.68209981918335, -4.9380998611450195, -4.690400123596191, -6.650899887084961, -5.6940999031066895, -5.703999996185303, -5.891200065612793, -4.866799831390381, -6.038099765777588, -6.432700157165527, -4.715099811553955, -5.145500183105469, -6.893099784851074, -4.998700141906738, -5.658999919891357, -6.213600158691406, -6.505499839782715, -4.706699848175049, -5.777299880981445, -5.663400173187256, -5.8028998374938965, -5.151899814605713, -5.342199802398682, -5.806000232696533, -5.13070011138916, -5.513599872589111, -5.8643999099731445, -5.893799781799316, -5.763999938964844, -5.5279998779296875, -5.708799839019775, -5.524400234222412, -5.839600086212158, -5.877699851989746, -11.077099800109863, -11.567299842834473, -11.292900085449219, -11.310199737548828, -11.617799758911133, -11.984999656677246, -11.35260009765625, -11.37090015411377, -12.023500442504883, -11.382599830627441, -12.04539966583252, -11.399100303649902, -10.877400398254395, -11.715100288391113, -10.539799690246582, -11.410699844360352, -10.88759994506836, -11.224499702453613, -11.476200103759766, -11.435500144958496, -11.437100410461426, -11.443099975585938, -11.446599960327148, -11.45479965209961, -11.763199806213379, -11.269599914550781, -11.144499778747559, -11.465999603271484, -11.114800453186035, -11.524499893188477, -9.068699836730957, -7.110199928283691, -5.428199768066406, -7.308700084686279, -10.39050006866455, -7.032100200653076, -6.938300132751465, -6.716300010681152, -8.800000190734863, -4.737800121307373, -7.464700222015381, -7.5457000732421875, -6.656199932098389, -8.313400268554688, -8.61970043182373, -2.907599925994873, -5.628900051116943, -6.188899993896484, -7.411900043487549, -5.7718000411987305, -6.933000087738037, -7.678999900817871, -5.144599914550781, -5.709799766540527, -6.421500205993652, -7.427800178527832, -6.239099979400635, -5.7006001472473145, -5.595099925994873, -6.013500213623047, -7.411499977111816, -6.027299880981445, -5.980899810791016, -6.486599922180176, -5.5970001220703125, -5.740900039672852, -4.760900020599365, -5.53980016708374, -5.21619987487793, -5.420499801635742, -6.123000144958496, -6.014100074768066, -5.075799942016602, -6.130300045013428, -5.181000232696533, -6.194799900054932, -5.837200164794922, -5.813799858093262, -5.007400035858154, -5.044400215148926, -5.995800018310547, -5.753499984741211, -5.491700172424316, -5.21560001373291, -5.2758002281188965, -4.982600212097168, -5.43310022354126, -5.795599937438965, -5.819799900054932, -5.920199871063232, -5.888599872589111, -10.920700073242188, -10.961000442504883, -11.048199653625488, -10.406399726867676, -11.148799896240234, -10.36299991607666, -11.208900451660156, -11.879199981689453, -11.241900444030762, -11.248000144958496, -11.271599769592285, -11.08240032196045, -10.57610034942627, -11.348999977111816, -10.824299812316895, -11.3548002243042, -10.741800308227539, -11.364399909973145, -11.675000190734863, -10.069499969482422, -11.37090015411377, -11.68220043182373, -11.397500038146973, -11.249300003051758, -11.706600189208984, -11.418399810791016, -11.232399940490723, -11.23330020904541, -11.431699752807617, -11.281000137329102, -6.533299922943115, -10.053600311279297, -6.44290018081665, -8.254799842834473, -7.5894999504089355, -6.434299945831299, -5.701900005340576, -7.973599910736084, -7.491300106048584, -4.4766998291015625, -4.795300006866455, -4.655200004577637, -4.862599849700928, -2.9809000492095947, -6.9532999992370605, -4.94320011138916, -5.928699970245361, -4.729000091552734, -6.411799907684326, -7.407800197601318, -5.726500034332275, -7.063700199127197, -5.145299911499023, -6.013800144195557, -6.648600101470947, -5.623700141906738, -5.815000057220459, -7.071000099182129, -5.400100231170654, -6.6331000328063965, -5.346099853515625, -5.943900108337402, -5.765699863433838, -5.952499866485596, -5.771900177001953, -5.7418999671936035, -6.018899917602539, -5.889599800109863, -5.993599891662598, -6.187900066375732, -6.047699928283691, -4.957200050354004, -5.383800029754639, -5.752200126647949, -5.255099773406982, -5.21589994430542, -5.758500099182129, -5.504499912261963, -5.854700088500977, -5.734399795532227, -5.766499996185303, -5.813300132751465, -5.881199836730957, -10.97189998626709, -11.435099601745605, -11.19480037689209, -10.131799697875977, -11.897600173950195, -11.968199729919434, -10.569899559020996, -11.972800254821777, -11.680999755859375, -11.374799728393555, -12.050200462341309, -11.051300048828125, -12.072400093078613, -10.490900039672852, -11.735699653625488, -11.427599906921387, -10.786100387573242, -11.744199752807617, -10.910300254821777, -10.487199783325195, -11.444700241088867, -10.4197998046875, -11.456299781799316, -10.965499877929688, -12.112899780273438, -9.531000137329102, -10.940500259399414, -11.318699836730957, -9.138199806213379, -11.477700233459473, -10.868300437927246, -7.6234002113342285, -9.114999771118164, -9.343500137329102, -5.944900035858154, -6.5808000564575195, -5.565899848937988, -6.411499977111816, -6.906099796295166, -6.674300193786621, -6.498000144958496, -7.188399791717529, -6.092100143432617, -5.012499809265137, -5.6066999435424805, -6.861999988555908, -7.41510009765625, -8.160499572753906, -6.198400020599365, -6.581699848175049, -3.000499963760376, -5.742700099945068, -6.116700172424316, -6.446100234985352, -6.154300212860107, -6.701300144195557, -6.20389986038208, -5.92519998550415, -6.542399883270264, -5.320400238037109, -4.7453999519348145, -5.3867998123168945, -6.1946001052856445, -5.6656999588012695, -4.710899829864502, -5.2281999588012695, -5.673299789428711, -5.6894001960754395, -5.574100017547607, -5.075699806213379, -5.798099994659424, -5.725800037384033, -4.99429988861084, -5.0131001472473145, -5.8256001472473145, -5.225299835205078, -5.304900169372559, -5.45419979095459, -5.275000095367432, -5.74370002746582, -5.934000015258789, -5.862599849700928, -5.4695000648498535, -5.804299831390381, -5.842100143432617, -5.925099849700928, -11.852100372314453, -11.245100021362305, -11.254599571228027, -11.254199981689453, -11.278400421142578, -11.291299819946289, -10.783900260925293, -11.307999610900879, -11.314200401306152, -11.128600120544434, -10.6943998336792, -11.339500427246094, -10.388299942016602, -11.649100303649902, -11.15410041809082, -10.827799797058105, -11.372200012207031, -5.056700229644775, -11.386300086975098, -11.071900367736816, -11.396200180053711, -11.408499717712402, -11.4128999710083, -11.415800094604492, -8.094099998474121, -9.561100006103516, -11.430999755859375, -9.974499702453613, -11.434399604797363, -11.433899879455566, -10.40310001373291, -9.65999984741211, -6.480599880218506, -9.419400215148926, -10.040300369262695, -8.186699867248535, -7.994500160217285, -8.226200103759766, -5.588600158691406, -5.63670015335083, -5.995999813079834, -5.9832000732421875, -6.596700191497803, -6.344600200653076, -7.995800018310547, -6.002799987792969, -6.559100151062012, -6.398600101470947, -5.966300010681152, -5.513500213623047, -7.157700061798096, -4.923600196838379, -6.813300132751465, -6.636099815368652, -5.697500228881836, -5.575500011444092, -6.173099994659424, -7.442299842834473, -8.320899963378906, -5.954100131988525, -5.862299919128418, -7.300099849700928, -7.404799938201904, -3.164900064468384, -5.724699974060059, -4.997399806976318, -5.056000232696533, -6.196899890899658, -5.258500099182129, -5.80079984664917, -4.987199783325195, -4.900700092315674, -5.039899826049805, -5.274799823760986, -4.908100128173828, -4.836999893188477, -5.428400039672852, -5.482699871063232, -5.620200157165527, -5.68310022354126, -5.395599842071533, -5.166100025177002, -5.8084001541137695, -5.862199783325195, -5.85129976272583, -5.868299961090088]}, \"token.table\": {\"Topic\": [1, 2, 3, 4, 5, 6, 7, 1, 2, 3, 4, 5, 6, 7, 1, 2, 3, 4, 5, 6, 7, 1, 2, 3, 4, 5, 6, 7, 5, 7, 1, 2, 3, 4, 5, 6, 7, 1, 2, 3, 4, 5, 6, 7, 1, 2, 3, 4, 5, 6, 7, 3, 6, 6, 7, 4, 1, 4, 6, 2, 6, 1, 4, 1, 4, 5, 6, 7, 4, 2, 7, 4, 5, 7, 4, 1, 2, 3, 4, 5, 6, 7, 1, 5, 4, 6, 6, 1, 2, 3, 4, 5, 6, 7, 1, 2, 3, 4, 5, 6, 7, 1, 2, 3, 4, 5, 6, 7, 7, 2, 6, 2, 1, 3, 5, 6, 2, 3, 6, 7, 4, 5, 6, 7, 3, 6, 1, 2, 4, 6, 2, 7, 4, 3, 7, 4, 5, 3, 1, 1, 3, 4, 6, 1, 2, 3, 4, 5, 6, 7, 2, 3, 4, 6, 7, 1, 2, 3, 4, 5, 6, 7, 1, 2, 3, 4, 5, 6, 7, 1, 4, 1, 3, 2, 3, 4, 5, 6, 7, 1, 2, 3, 4, 5, 6, 7, 1, 2, 3, 4, 5, 6, 7, 1, 2, 3, 4, 5, 6, 7, 1, 2, 3, 4, 5, 6, 7, 1, 2, 3, 4, 5, 6, 7, 3, 7, 1, 2, 3, 4, 5, 6, 7, 1, 2, 3, 7, 7, 1, 2, 3, 4, 5, 6, 7, 1, 2, 3, 4, 5, 6, 7, 1, 3, 6, 1, 5, 1, 2, 3, 4, 5, 6, 7, 1, 2, 3, 4, 5, 6, 7, 1, 4, 1, 3, 7, 1, 4, 5, 7, 3, 5, 3, 5, 1, 2, 1, 3, 4, 5, 6, 7, 1, 2, 3, 4, 5, 6, 7, 7, 2, 4, 3, 3, 1, 2, 3, 4, 5, 7, 4, 1, 3, 4, 5, 7, 4, 6, 3, 4, 3, 5, 7, 1, 2, 3, 4, 5, 6, 1, 2, 4, 1, 2, 3, 4, 5, 6, 7, 2, 3, 7, 1, 4, 1, 4, 5, 6, 7, 1, 4, 5, 6, 4, 6, 1, 2, 3, 4, 5, 6, 7, 1, 2, 3, 4, 5, 6, 7, 1, 2, 3, 4, 5, 1, 2, 4, 5, 1, 2, 3, 4, 5, 6, 7, 6, 7, 1, 4, 5, 7, 5, 6, 7, 2, 7, 2, 7, 3, 4, 2, 6, 1, 3, 4, 5, 6, 7, 1, 2, 4, 7, 1, 7, 1, 3, 5, 5, 1, 2, 3, 4, 5, 6, 7, 4, 3, 5, 7, 1, 2, 4, 5, 1, 3, 4, 5, 6, 7, 3, 1, 2, 3, 4, 5, 6, 7, 1, 3, 4, 6, 7, 1, 1, 2, 3, 4, 5, 6, 7, 3, 4, 3, 1, 2, 3, 4, 5, 6, 7, 1, 2, 3, 4, 5, 6, 7, 1, 2, 3, 4, 5, 6, 7, 5, 1, 2, 3, 4, 5, 6, 7, 1, 2, 3, 4, 5, 6, 7, 1, 2, 3, 4, 5, 6, 7, 1, 2, 3, 4, 5, 6, 7, 2, 5, 1, 2, 3, 4, 5, 6, 7, 1, 2, 3, 4, 5, 6, 7, 1, 2, 3, 4, 5, 6, 7, 1, 2, 3, 4, 5, 6, 7, 1, 2, 3, 4, 5, 6, 7, 1, 2, 3, 4, 5, 6, 7, 1, 2, 3, 4, 5, 6, 7, 5, 1, 2, 3, 4, 5, 6, 7, 1, 2, 3, 4, 5, 6, 7, 1, 2, 3, 4, 5, 6, 7, 7, 1, 2, 3, 4, 5, 6, 7, 1, 2, 3, 4, 5, 6, 7, 1, 2, 3, 4, 5, 6, 7, 1, 2, 4, 6, 7, 1, 5, 6, 7, 1, 2, 3, 4, 5, 6, 7, 1, 2, 3, 4, 5, 6, 7, 1, 2, 3, 4, 5, 6, 7, 1, 2, 3, 4, 5, 6, 7, 1, 2, 3, 4, 5, 6, 7, 1, 2, 3, 4, 5, 6, 7, 5, 1, 2, 3, 4, 5, 6, 7, 1, 2, 3, 4, 5, 6, 7, 1, 2, 3, 4, 5, 6, 7, 1, 2, 3, 4, 5, 6, 7, 4, 1, 2, 3, 4, 5, 6, 7, 1, 2, 3, 4, 5, 6, 7, 6, 7, 7, 1, 2, 3, 4, 5, 6, 7, 1, 2, 3, 4, 5, 6, 7, 1, 2, 3, 4, 5, 6, 7, 5, 6, 1, 2, 3, 4, 5, 6, 7, 1, 2, 3, 4, 5, 6, 7, 1, 2, 3, 4, 5, 6, 7, 1, 2, 3, 4, 5, 6, 7, 5, 3, 5, 1, 2, 3, 4, 5, 6, 7, 1, 2, 3, 4, 5, 6, 7, 1, 2, 3, 4, 5, 6, 7, 2, 1, 2, 3, 4, 5, 6, 7, 1, 2, 3, 4, 5, 6, 7, 5, 1, 2, 3, 4, 5, 6, 7, 1, 2, 3, 4, 5, 6, 7, 1, 2, 3, 4, 5, 6, 7, 1, 2, 3, 4, 5, 6, 7, 1, 2, 3, 4, 5, 6, 1, 1, 1, 2, 3, 4, 5, 6, 7, 1, 2, 3, 4, 5, 6, 7, 1, 2, 3, 4, 5, 6, 7, 4, 5, 1, 2, 3, 4, 5, 6, 7, 1, 2, 3, 4, 5, 6, 7, 1, 2, 3, 4, 5, 6, 7, 1, 2, 3, 4, 5, 6, 7, 1, 2, 3, 4, 5, 6, 7, 1, 2, 3, 4, 5, 6, 7, 1, 2, 3, 4, 5, 6, 7, 1, 2, 3, 4, 5, 6, 7, 1, 2, 3, 4, 5, 6, 7, 1, 2, 3, 4, 5, 6, 7, 1, 2, 3, 4, 5, 6, 7, 1, 2, 3, 4, 5, 6, 7, 1, 1, 2, 3, 4, 5, 6, 7, 1, 2, 3, 4, 5, 6, 7, 1, 2, 3, 4, 5, 6, 7, 1, 2, 4, 5, 6, 7, 1, 2, 3, 4, 5, 6, 7, 1, 2, 3, 4, 5, 6, 7, 1, 2, 3, 4, 5, 6, 7, 1, 2, 3, 4, 5, 6, 7, 1, 1, 2, 3, 4, 5, 6, 7, 1, 2, 3, 4, 5, 6, 7, 4, 1, 2, 3, 4, 5, 6, 7, 1, 2, 3, 7, 1, 2, 3, 4, 5, 6, 7, 1, 2, 3, 4, 5, 6, 7, 1, 2, 3, 4, 5, 6, 7, 1, 3, 5, 1, 2, 3, 4, 5, 6, 7, 1, 2, 3, 4, 5, 6, 7, 1, 2, 3, 4, 5, 6, 7, 3, 5, 7, 1, 2, 3, 4, 5, 6, 7, 1, 2, 3, 4, 5, 6, 7, 1, 2, 3, 4, 5, 6, 7, 1, 1, 2, 3, 4, 5, 6, 7, 1, 2, 3, 4, 5, 6, 7, 1, 2, 3, 4, 5, 6, 7, 1, 2, 3, 4, 5, 6, 7, 1, 2, 3, 4, 5, 6, 7, 1, 2, 3, 4, 5, 6, 7, 1, 2, 3, 4, 5, 6, 7, 1, 2, 3, 4, 5, 6, 7, 3, 6, 7, 1, 2, 3, 4, 5, 6, 7, 1, 2, 3, 4, 6, 7, 2, 1, 2, 3, 4, 5, 6, 7, 1, 2, 3, 4, 5, 6, 7, 1, 2, 3, 4, 5, 6, 7, 1, 2, 3, 4, 5, 6, 7, 1, 2, 3, 4, 5, 6, 7, 1, 2, 3, 4, 5, 6, 7, 1, 2, 3, 4, 5, 6, 7, 1, 2, 3, 4, 5, 6, 7, 1, 2, 3, 4, 5, 6, 7, 1, 2, 3, 4, 5, 6, 7, 1, 2, 3, 4, 5, 6, 7, 1, 2, 3, 4, 5, 6, 7, 1, 2, 3, 4, 5, 6, 7, 1, 2, 3, 4, 5, 6, 7, 1, 2, 3, 4, 5, 6, 7, 1, 2, 3, 4, 5, 6, 7, 1, 2, 3, 4, 5, 6, 7, 1, 2, 3, 4, 5, 6, 7, 1, 2, 3, 4, 5, 6, 7, 1, 2, 4, 5, 6, 7, 1, 2, 3, 4, 5, 6, 7, 1, 2, 3, 4, 5, 6, 7, 1, 2, 3, 4, 5, 6, 7, 1, 2, 3, 4, 5, 6, 7, 1, 2, 3, 4, 5, 6, 7, 1, 2, 3, 4, 5, 6, 7, 1, 2, 3, 4, 5, 6, 7, 3, 4, 7, 1, 2, 3, 4, 5, 6, 7, 1, 2, 3, 4, 5, 6, 7, 1, 2, 3, 4, 5, 6, 7, 1, 2, 3, 4, 5, 6, 7, 1, 2, 3, 4, 5, 6, 7, 1, 2, 3, 4, 5, 6, 7, 1, 2, 3, 4, 5, 6, 7, 1, 2, 3, 4, 5, 6, 7, 1, 2, 3, 4, 5, 6, 7, 1, 2, 3, 4, 5, 6, 7, 1, 2, 3, 4, 5, 6, 7, 1, 2, 3, 4, 5, 6, 7, 1, 2, 3, 4, 5, 6, 7, 1, 2, 3, 4, 5, 6, 7, 1, 2, 3, 4, 5, 6, 7, 1, 2, 3, 4, 5, 6, 7, 1, 2, 4, 6, 1, 2, 3, 4, 5, 6, 7, 3, 7, 1, 2, 3, 4, 5, 6, 7, 1, 2, 3, 4, 5, 6, 7, 1, 2, 3, 4, 5, 6, 7, 1, 2, 3, 4, 5, 6, 7, 1, 2, 3, 4, 5, 6, 7, 1, 2, 3, 4, 5, 6, 7, 1, 2, 3, 4, 5, 6, 7, 1, 2, 3, 4, 5, 6, 7, 1, 2, 3, 4, 5, 6, 7, 1, 2, 3, 4, 5, 6, 7, 1, 2, 3, 4, 5, 6, 7, 1, 2, 3, 4, 5, 6, 1, 2, 3, 4, 5, 6, 7, 2, 1, 2, 3, 4, 5, 6, 7, 1, 2, 3, 4, 5, 6, 7, 1, 1, 2, 3, 4, 5, 6, 7, 3, 4, 1, 2, 3, 4, 5, 6, 7, 1, 2, 3, 4, 5, 6, 7, 1, 2, 3, 4, 5, 6, 7, 1, 2, 3, 4, 5, 6, 7, 1, 2, 3, 4, 5, 6, 7, 1, 2, 3, 4, 5, 6, 7, 1, 2, 3, 4, 5, 6, 7, 1, 2, 3, 4, 5, 6, 7, 1, 2, 3, 4, 5, 6, 7, 1, 2, 3, 6, 7, 1, 5, 5, 6, 1, 6, 2, 1, 2, 3, 4, 5, 6, 7, 6, 1, 2, 3, 4, 5, 6, 7, 1, 2, 3, 4, 5, 6, 7, 1, 2, 3, 4, 5, 6, 7, 1, 2, 3, 4, 5, 6, 7, 1, 2, 3, 5, 1, 2, 3, 4, 5, 6, 7, 1, 2, 3, 4, 5, 6, 7, 1, 2, 3, 4, 5, 6, 7, 1, 2, 3, 4, 5, 6, 7, 1, 2, 3, 4, 5, 6, 7, 4, 5, 1, 2, 3, 4, 5, 6, 7, 1, 2, 3, 4, 5, 6, 7, 1, 2, 3, 4, 5, 6, 7, 1, 2, 3, 4, 5, 6, 7, 1, 2, 3, 4, 5, 6, 7, 1, 2, 3, 4, 5, 6, 7, 1, 2, 3, 4, 5, 6, 7, 1, 2, 3, 4, 5, 6, 7, 1, 2, 3, 4, 5, 6, 7, 1, 2, 3, 4, 5, 6, 7, 1, 2, 3, 4, 5, 6, 7, 1, 5, 1, 2, 3, 4, 5, 6, 7, 1, 2, 3, 4, 5, 6, 7, 1, 2, 3, 4, 5, 6, 7, 1, 3, 4, 5, 6, 7, 1, 2, 3, 4, 5, 6, 7, 1, 2, 3, 4, 5, 6, 7, 1, 2, 3, 4, 5, 6, 7, 1, 2, 3, 4, 5, 6, 7, 1, 2, 3, 4, 5, 6, 7, 1, 2, 3, 4, 5, 6, 7, 1, 2, 3, 4, 5, 6, 7, 1, 5, 7, 1, 2, 3, 4, 5, 6, 7, 1, 2, 3, 4, 5, 6, 7, 1, 2, 3, 4, 5, 6, 7, 1, 2, 3, 4, 5, 6, 7, 1, 2, 3, 4, 5, 6, 7, 1, 2, 3, 4, 5, 6, 7, 2, 3, 4, 7, 1, 2, 3, 4, 5, 6, 7, 1, 2, 3, 4, 5, 6, 7, 1, 3, 4, 5, 6, 7, 3, 4, 7, 1, 2, 3, 4, 5, 6, 7, 1, 2, 3, 4, 5, 6, 7, 1, 2, 4, 5, 6, 7], \"Freq\": [0.152695894241333, 0.15322621166706085, 0.148150235414505, 0.15254436433315277, 0.14061203598976135, 0.13735432922840118, 0.11542157828807831, 0.13270194828510284, 0.1285260021686554, 0.1401258260011673, 0.15126165747642517, 0.15311762690544128, 0.15450960397720337, 0.13919784128665924, 0.10080799460411072, 0.16381298005580902, 0.23941898345947266, 0.13861098885536194, 0.1260099858045578, 0.10080799460411072, 0.15121199190616608, 0.14113269746303558, 0.14113269746303558, 0.16103601455688477, 0.14837026596069336, 0.10675421357154846, 0.19903327524662018, 0.10313542932271957, 0.323000967502594, 0.323000967502594, 0.10697615891695023, 0.10697615891695023, 0.10697615891695023, 0.21395231783390045, 0.21395231783390045, 0.10697615891695023, 0.10697615891695023, 0.15040479600429535, 0.14570464193820953, 0.14335456490516663, 0.1801724135875702, 0.09948650747537613, 0.13160419464111328, 0.14962144196033478, 0.1191011369228363, 0.19266360998153687, 0.13895133137702942, 0.14245431125164032, 0.1237717717885971, 0.1331130415201187, 0.15062791109085083, 0.32380300760269165, 0.44090378284454346, 0.3232838809490204, 0.3232838809490204, 0.3236154615879059, 0.3241952657699585, 0.3241952657699585, 0.3241952657699585, 0.32512274384498596, 0.32512274384498596, 0.32510221004486084, 0.32510221004486084, 0.23520128428936005, 0.23520128428936005, 0.23520128428936005, 0.23520128428936005, 0.23520128428936005, 0.44007423520088196, 0.32435211539268494, 0.32435211539268494, 0.3233267664909363, 0.3233267664909363, 0.3233267664909363, 0.32338282465934753, 0.13890580832958221, 0.27781161665916443, 0.13890580832958221, 0.13890580832958221, 0.13890580832958221, 0.06945290416479111, 0.06945290416479111, 0.3237159252166748, 0.3237159252166748, 0.3236594796180725, 0.3236594796180725, 0.4400143027305603, 0.17785902321338654, 0.11198531836271286, 0.22397063672542572, 0.11857268959283829, 0.09881056845188141, 0.16468428075313568, 0.11198531836271286, 0.16191929578781128, 0.10794620215892792, 0.10794620215892792, 0.16191929578781128, 0.05397310107946396, 0.10794620215892792, 0.2698655128479004, 0.18213512003421783, 0.12142341583967209, 0.12142341583967209, 0.22260959446430206, 0.08094894140958786, 0.12142341583967209, 0.1416606456041336, 0.6191970109939575, 0.3249973952770233, 0.3249973952770233, 0.324771523475647, 0.3248916268348694, 0.3248916268348694, 0.32293033599853516, 0.32293033599853516, 0.23592723906040192, 0.23592723906040192, 0.23592723906040192, 0.23592723906040192, 0.3227713406085968, 0.3227713406085968, 0.32335272431373596, 0.32335272431373596, 0.2787184417247772, 0.2787184417247772, 0.26715075969696045, 0.26715075969696045, 0.26715075969696045, 0.26715075969696045, 0.3236619830131531, 0.3236619830131531, 0.44022154808044434, 0.3236507475376129, 0.3236507475376129, 0.3237045407295227, 0.3237045407295227, 0.34180736541748047, 0.3249049186706543, 0.22715167701244354, 0.22715167701244354, 0.22715167701244354, 0.22715167701244354, 0.14193467795848846, 0.22264263033866882, 0.14471770823001862, 0.15584984421730042, 0.1280195116996765, 0.10853828489780426, 0.10297221690416336, 0.22745636105537415, 0.22745636105537415, 0.22745636105537415, 0.22745636105537415, 0.22745636105537415, 0.16308845579624176, 0.13799792528152466, 0.1505431979894638, 0.0752715989947319, 0.1505431979894638, 0.100362129509449, 0.2258147895336151, 0.19867274165153503, 0.15390142798423767, 0.15530052781105042, 0.14270859956741333, 0.12591934204101562, 0.10353368520736694, 0.11892382800579071, 0.3243657648563385, 0.3243657648563385, 0.32395872473716736, 0.32395872473716736, 0.3408831059932709, 0.17044155299663544, 0.17044155299663544, 0.17044155299663544, 0.17044155299663544, 0.17044155299663544, 0.13915672898292542, 0.15125730633735657, 0.13915672898292542, 0.20570994913578033, 0.11495555937290192, 0.096804678440094, 0.15730760991573334, 0.12463351339101791, 0.12463351339101791, 0.12463351339101791, 0.12463351339101791, 0.12463351339101791, 0.24926702678203583, 0.12463351339101791, 0.09943842142820358, 0.1325845569372177, 0.11601148545742035, 0.21544989943504333, 0.11601148545742035, 0.21544989943504333, 0.09943842142820358, 0.1246168464422226, 0.1246168464422226, 0.1246168464422226, 0.1246168464422226, 0.1246168464422226, 0.1246168464422226, 0.2492336928844452, 0.13920918107032776, 0.2784183621406555, 0.13920918107032776, 0.13920918107032776, 0.13920918107032776, 0.13920918107032776, 0.13920918107032776, 0.3233964145183563, 0.3233964145183563, 0.1357644498348236, 0.1357644498348236, 0.2715288996696472, 0.1357644498348236, 0.1357644498348236, 0.1357644498348236, 0.1357644498348236, 0.32500386238098145, 0.32500386238098145, 0.32500386238098145, 0.32500386238098145, 0.3233184814453125, 0.25555944442749023, 0.12777972221374512, 0.12777972221374512, 0.12777972221374512, 0.12777972221374512, 0.12777972221374512, 0.12777972221374512, 0.24078015983104706, 0.11236406862735748, 0.12039007991552353, 0.14446809887886047, 0.1163770779967308, 0.10032506287097931, 0.1645331084728241, 0.2670789361000061, 0.2670789361000061, 0.2670789361000061, 0.32388076186180115, 0.32388076186180115, 0.2709139585494995, 0.1542704552412033, 0.07149118930101395, 0.1166435107588768, 0.12416890263557434, 0.13169428706169128, 0.1279315948486328, 0.1422777771949768, 0.2845555543899536, 0.1422777771949768, 0.1422777771949768, 0.1422777771949768, 0.1422777771949768, 0.1422777771949768, 0.3238997459411621, 0.3238997459411621, 0.2675502300262451, 0.2675502300262451, 0.3234902322292328, 0.2666638195514679, 0.2666638195514679, 0.2666638195514679, 0.2666638195514679, 0.4404071271419525, 0.4404071271419525, 0.3229975998401642, 0.3229975998401642, 0.3250831365585327, 0.3250831365585327, 0.19130860269069672, 0.19130860269069672, 0.19130860269069672, 0.19130860269069672, 0.19130860269069672, 0.19130860269069672, 0.1152200698852539, 0.1152200698852539, 0.1152200698852539, 0.1152200698852539, 0.1152200698852539, 0.2304401397705078, 0.1152200698852539, 0.3236931562423706, 0.3418448269367218, 0.3418448269367218, 0.6200914978981018, 0.3410218060016632, 0.1913275569677353, 0.1913275569677353, 0.1913275569677353, 0.1913275569677353, 0.1913275569677353, 0.1913275569677353, 0.3235201835632324, 0.22744432091712952, 0.22744432091712952, 0.22744432091712952, 0.22744432091712952, 0.22744432091712952, 0.3412899971008301, 0.32356730103492737, 0.32386040687561035, 0.32386040687561035, 0.2664071023464203, 0.2664071023464203, 0.2664071023464203, 0.1608472317457199, 0.1608472317457199, 0.3216944634914398, 0.1608472317457199, 0.1608472317457199, 0.1608472317457199, 0.26808175444602966, 0.26808175444602966, 0.26808175444602966, 0.1584496647119522, 0.1584496647119522, 0.0792248323559761, 0.1584496647119522, 0.2376745045185089, 0.0792248323559761, 0.0792248323559761, 0.324605792760849, 0.3234918415546417, 0.3234918415546417, 0.325178325176239, 0.325178325176239, 0.19135485589504242, 0.19135485589504242, 0.19135485589504242, 0.19135485589504242, 0.19135485589504242, 0.23538385331630707, 0.23538385331630707, 0.23538385331630707, 0.23538385331630707, 0.440167099237442, 0.44010892510414124, 0.21146759390830994, 0.3172013759613037, 0.10573379695415497, 0.10573379695415497, 0.10573379695415497, 0.10573379695415497, 0.10573379695415497, 0.18557500839233398, 0.278362512588501, 0.09278750419616699, 0.09278750419616699, 0.18557500839233398, 0.09278750419616699, 0.09278750419616699, 0.19182002544403076, 0.19182002544403076, 0.19182002544403076, 0.19182002544403076, 0.19182002544403076, 0.32453736662864685, 0.26692166924476624, 0.26692166924476624, 0.26692166924476624, 0.12485814094543457, 0.12485814094543457, 0.1560726761817932, 0.12485814094543457, 0.09364360570907593, 0.24971628189086914, 0.1560726761817932, 0.32330429553985596, 0.32330429553985596, 0.19125932455062866, 0.19125932455062866, 0.19125932455062866, 0.19125932455062866, 0.2664889395236969, 0.2664889395236969, 0.2664889395236969, 0.3239733874797821, 0.3239733874797821, 0.32421594858169556, 0.32421594858169556, 0.3236526846885681, 0.3236526846885681, 0.3236498534679413, 0.3236498534679413, 0.19117921590805054, 0.19117921590805054, 0.19117921590805054, 0.19117921590805054, 0.19117921590805054, 0.19117921590805054, 0.2671782672405243, 0.2671782672405243, 0.2671782672405243, 0.2671782672405243, 0.3235073387622833, 0.3235073387622833, 0.4415404498577118, 0.32296788692474365, 0.32296788692474365, 0.323147714138031, 0.1769106686115265, 0.19299346208572388, 0.11752806603908539, 0.11134237796068192, 0.13979654014110565, 0.10763096809387207, 0.15587933361530304, 0.44007858633995056, 0.32399824261665344, 0.32317790389060974, 0.3229275047779083, 0.22733011841773987, 0.22733011841773987, 0.22733011841773987, 0.22733011841773987, 0.19775818288326263, 0.19775818288326263, 0.19775818288326263, 0.19775818288326263, 0.19775818288326263, 0.19775818288326263, 0.6204114556312561, 0.10714415460824966, 0.21428830921649933, 0.10714415460824966, 0.10714415460824966, 0.10714415460824966, 0.3214324712753296, 0.10714415460824966, 0.16056755185127258, 0.32113510370254517, 0.16056755185127258, 0.16056755185127258, 0.16056755185127258, 0.6223196983337402, 0.133383646607399, 0.19599230587482452, 0.182381734251976, 0.1633269190788269, 0.11432884633541107, 0.08982980996370316, 0.11977307498455048, 0.3235880732536316, 0.3235880732536316, 0.3240055441856384, 0.16652381420135498, 0.11621974408626556, 0.14137177169322968, 0.15177951753139496, 0.13703522086143494, 0.15091219544410706, 0.13703522086143494, 0.1501639038324356, 0.156473308801651, 0.1577351987361908, 0.18171094357967377, 0.10852181166410446, 0.12745003402233124, 0.11861686408519745, 0.23929530382156372, 0.12973842024803162, 0.13838765025138855, 0.1614522486925125, 0.10667380690574646, 0.12397226691246033, 0.10090765357017517, 0.43995144963264465, 0.15580438077449799, 0.1394413560628891, 0.17928175628185272, 0.15295863151550293, 0.11738686263561249, 0.13872992992401123, 0.11667542159557343, 0.11422798037528992, 0.21576395630836487, 0.1586499661207199, 0.13326597213745117, 0.13326597213745117, 0.13961197435855865, 0.10788197815418243, 0.11380385607481003, 0.138057142496109, 0.1548478752374649, 0.14365404844284058, 0.14925095438957214, 0.1884293407201767, 0.11007258296012878, 0.12331851571798325, 0.12331851571798325, 0.16442468762397766, 0.12331851571798325, 0.16442468762397766, 0.08221234381198883, 0.2466370314359665, 0.2791011333465576, 0.2791011333465576, 0.13398030400276184, 0.14108532667160034, 0.19589544832706451, 0.10251523554325104, 0.14819033443927765, 0.13499531149864197, 0.1431153267621994, 0.25146564841270447, 0.086570143699646, 0.107182078063488, 0.11954924464225769, 0.14428356289863586, 0.16901789605617523, 0.12367162853479385, 0.20095467567443848, 0.12272041290998459, 0.10738036036491394, 0.12578842043876648, 0.1472644954919815, 0.16260454058647156, 0.13192443549633026, 0.09279291331768036, 0.15078848600387573, 0.09279291331768036, 0.15078848600387573, 0.13918937742710114, 0.13918937742710114, 0.2203831672668457, 0.1523204892873764, 0.14391015470027924, 0.1308274269104004, 0.1738135665655136, 0.09905504435300827, 0.15699289739131927, 0.1411067247390747, 0.20983487367630005, 0.12316394597291946, 0.10263662040233612, 0.1414104551076889, 0.14825288951396942, 0.11632150411605835, 0.15737615525722504, 0.1738216131925583, 0.08691080659627914, 0.11588107794523239, 0.14485134184360504, 0.11588107794523239, 0.23176215589046478, 0.11588107794523239, 0.3231468200683594, 0.19316165149211884, 0.09658082574605942, 0.11589699238538742, 0.15452931821346283, 0.08370338380336761, 0.23179398477077484, 0.12877443432807922, 0.1480104923248291, 0.12200865149497986, 0.17201219499111176, 0.12200865149497986, 0.10200723260641098, 0.11400808393955231, 0.22201575338840485, 0.16720204055309296, 0.10072412341833115, 0.14101377129554749, 0.13497032225131989, 0.12288342416286469, 0.14302824437618256, 0.19137582182884216, 0.4396214783191681, 0.14214812219142914, 0.12437961250543594, 0.20502133667469025, 0.13531407713890076, 0.12437961250543594, 0.15854983031749725, 0.11071152240037918, 0.1345970630645752, 0.1208314523100853, 0.1315380334854126, 0.1514216959476471, 0.1437741369009018, 0.1223609670996666, 0.1942480355501175, 0.09190740436315536, 0.12359961122274399, 0.16796870529651642, 0.17747636139392853, 0.11567655950784683, 0.13469187915325165, 0.19015324115753174, 0.38406482338905334, 0.19203241169452667, 0.19203241169452667, 0.19203241169452667, 0.19203241169452667, 0.19135682284832, 0.19135682284832, 0.19135682284832, 0.19135682284832, 0.12303357571363449, 0.13722975552082062, 0.21649177372455597, 0.11948452889919281, 0.16680513322353363, 0.09109216183423996, 0.1466938704252243, 0.16793537139892578, 0.20206858217716217, 0.1105915829539299, 0.10513027012348175, 0.13789814710617065, 0.15018610656261444, 0.12424486875534058, 0.1397012621164322, 0.12922367453575134, 0.13184306025505066, 0.11263414472341537, 0.15891018509864807, 0.17026092112064362, 0.15629078447818756, 0.12151401489973068, 0.15259899199008942, 0.09042903035879135, 0.14694717526435852, 0.1639026254415512, 0.20629122853279114, 0.12151401489973068, 0.15656207501888275, 0.15656207501888275, 0.15656207501888275, 0.15656207501888275, 0.3131241500377655, 0.15656207501888275, 0.15656207501888275, 0.12436716258525848, 0.1358826458454132, 0.1577620506286621, 0.13473109900951385, 0.14509502053260803, 0.13242800533771515, 0.16927753388881683, 0.3229050934314728, 0.14732812345027924, 0.1535973995923996, 0.18964576721191406, 0.09403922408819199, 0.12852028012275696, 0.14262616634368896, 0.14576080441474915, 0.10806771367788315, 0.20139892399311066, 0.1424528956413269, 0.20631109178066254, 0.06877036392688751, 0.12280421704053879, 0.14736506342887878, 0.11329073458909988, 0.1416134238243103, 0.1416134238243103, 0.22658146917819977, 0.1416134238243103, 0.08496805280447006, 0.1416134238243103, 0.21798644959926605, 0.14551302790641785, 0.1254129856824875, 0.13050876557826996, 0.1123904213309288, 0.12881018221378326, 0.13956795632839203, 0.3236403167247772, 0.25098177790641785, 0.12549088895320892, 0.10039271414279938, 0.12549088895320892, 0.1756872534751892, 0.10039271414279938, 0.10039271414279938, 0.14641734957695007, 0.19292639195919037, 0.0895729660987854, 0.11713387817144394, 0.16192036867141724, 0.1395271271467209, 0.15330758690834045, 0.26614001393318176, 0.26614001393318176, 0.32319390773773193, 0.24712982773780823, 0.12356491386890411, 0.10591278225183487, 0.12356491386890411, 0.14121703803539276, 0.08826065063476562, 0.17652130126953125, 0.18897007405757904, 0.11628927290439606, 0.1327635943889618, 0.10756757855415344, 0.173464834690094, 0.15408329665660858, 0.12694913148880005, 0.1840314269065857, 0.13741013407707214, 0.11532635986804962, 0.11532635986804962, 0.12023386359214783, 0.13250263035297394, 0.1938464343547821, 0.3232845962047577, 0.3232845962047577, 0.1554471254348755, 0.13541172444820404, 0.14024785161018372, 0.16373763978481293, 0.1361026018857956, 0.1271212100982666, 0.14162960648536682, 0.13931117951869965, 0.17284905910491943, 0.1436109095811844, 0.1582299917936325, 0.1651095598936081, 0.12039238214492798, 0.10061363130807877, 0.1151142418384552, 0.1151142418384552, 0.1151142418384552, 0.2302284836769104, 0.1151142418384552, 0.1151142418384552, 0.2302284836769104, 0.15789252519607544, 0.1633685678243637, 0.15059113502502441, 0.1642812341451645, 0.16245588660240173, 0.08579131215810776, 0.11499686539173126, 0.3233621418476105, 0.2664393484592438, 0.2664393484592438, 0.1186961978673935, 0.237392395734787, 0.13847890496253967, 0.13847890496253967, 0.1186961978673935, 0.1186961978673935, 0.13847890496253967, 0.19920942187309265, 0.12933745980262756, 0.1501503884792328, 0.13231073319911957, 0.11893100291490555, 0.13974392414093018, 0.13082410395145416, 0.18843244016170502, 0.16330811381340027, 0.1040864959359169, 0.14356757700443268, 0.17048649489879608, 0.10588108748197556, 0.12382703274488449, 0.32473137974739075, 0.14702634513378143, 0.11833827197551727, 0.17930041253566742, 0.1749972105026245, 0.09538782387971878, 0.11044905334711075, 0.17356279492378235, 0.10620155930519104, 0.13516561686992645, 0.20516209304332733, 0.14964765310287476, 0.16895702481269836, 0.09654686599969864, 0.1375792920589447, 0.3232700526714325, 0.12097170203924179, 0.13052210211753845, 0.12415517121553421, 0.20692528784275055, 0.152806356549263, 0.1687236875295639, 0.0923205092549324, 0.1601833701133728, 0.1389624923467636, 0.12253343313932419, 0.181404247879982, 0.14375430345535278, 0.14170067012310028, 0.11226526647806168, 0.14923694729804993, 0.14381015300750732, 0.11938955634832382, 0.19536472856998444, 0.11667615920305252, 0.18993793427944183, 0.08411537110805511, 0.10516989231109619, 0.14938904345035553, 0.16134017705917358, 0.13385258615016937, 0.09321876615285873, 0.17568151652812958, 0.17926685512065887, 0.18026235699653625, 0.18026235699653625, 0.18026235699653625, 0.18026235699653625, 0.18026235699653625, 0.18026235699653625, 0.3244905471801758, 0.6238380670547485, 0.1377883404493332, 0.20967791974544525, 0.16175153851509094, 0.10184355825185776, 0.11981595307588577, 0.1258067488670349, 0.1377883404493332, 0.16995172202587128, 0.16995172202587128, 0.16995172202587128, 0.16995172202587128, 0.16995172202587128, 0.33990344405174255, 0.16995172202587128, 0.15429094433784485, 0.134382426738739, 0.13367141783237457, 0.12585021555423737, 0.12371715903282166, 0.13651548326015472, 0.19197490811347961, 0.32377228140830994, 0.32377228140830994, 0.10843122750520706, 0.12601467967033386, 0.22565418481826782, 0.14359810948371887, 0.1113618016242981, 0.16118155419826508, 0.1289452463388443, 0.1280284821987152, 0.13966743648052216, 0.22114010155200958, 0.09311162680387497, 0.10475058108568192, 0.174584299325943, 0.13966743648052216, 0.15032202005386353, 0.12884745001792908, 0.12526835501194, 0.12168926000595093, 0.13242654502391815, 0.14316383004188538, 0.20042936503887177, 0.10332078486680984, 0.13087299466133118, 0.11881890147924423, 0.13431701064109802, 0.20147553086280823, 0.18081137537956238, 0.12915097177028656, 0.11268395185470581, 0.1213519424200058, 0.17942751944065094, 0.15949112176895142, 0.14128834009170532, 0.13782113790512085, 0.14822272956371307, 0.13933072984218597, 0.12466433644294739, 0.12533098459243774, 0.21599595248699188, 0.15666373074054718, 0.11466451734304428, 0.12399768084287643, 0.10708789527416229, 0.10708789527416229, 0.21417579054832458, 0.10708789527416229, 0.21417579054832458, 0.10708789527416229, 0.10708789527416229, 0.17840731143951416, 0.13458797335624695, 0.11267830431461334, 0.14084787666797638, 0.19718703627586365, 0.15023773908615112, 0.08763868361711502, 0.08831943571567535, 0.08831943571567535, 0.08831943571567535, 0.08831943571567535, 0.26495829224586487, 0.08831943571567535, 0.1766388714313507, 0.16863912343978882, 0.12366868555545807, 0.12366868555545807, 0.13491129875183105, 0.12366868555545807, 0.10118347406387329, 0.22485215961933136, 0.254010945558548, 0.09525410830974579, 0.15875683724880219, 0.09525410830974579, 0.127005472779274, 0.15875683724880219, 0.09525410830974579, 0.19921888411045074, 0.1267140507698059, 0.15178582072257996, 0.1425250768661499, 0.1160980835556984, 0.1429768204689026, 0.12038964778184891, 0.32472559809684753, 0.18657533824443817, 0.17773756384849548, 0.10212545096874237, 0.11980100721120834, 0.10605335235595703, 0.1463143527507782, 0.1630079299211502, 0.1059550940990448, 0.17266756296157837, 0.14519771933555603, 0.12950067222118378, 0.19150403141975403, 0.15147654712200165, 0.10360053926706314, 0.12890654802322388, 0.18007557094097137, 0.14169880747795105, 0.17515546083450317, 0.10725812613964081, 0.15645909309387207, 0.1111942008137703, 0.1914471536874771, 0.1914471536874771, 0.1914471536874771, 0.1914471536874771, 0.1914471536874771, 0.1914471536874771, 0.16702872514724731, 0.14740008115768433, 0.11073523014783859, 0.1481407880783081, 0.1103648841381073, 0.17962069809436798, 0.137030228972435, 0.11470858752727509, 0.11895705759525299, 0.10090107470750809, 0.149758443236351, 0.12108129262924194, 0.20286425948143005, 0.19330522418022156, 0.1195727214217186, 0.1333695650100708, 0.101176917552948, 0.1885569840669632, 0.202353835105896, 0.1333695650100708, 0.1241716668009758, 0.15299411118030548, 0.15299411118030548, 0.30598822236061096, 0.15299411118030548, 0.15299411118030548, 0.15299411118030548, 0.15299411118030548, 0.44139817357063293, 0.13581056892871857, 0.13581056892871857, 0.13581056892871857, 0.27162113785743713, 0.13581056892871857, 0.13581056892871857, 0.13581056892871857, 0.1946067065000534, 0.1090090200304985, 0.15985551476478577, 0.11778827011585236, 0.15583167970180511, 0.1430286169052124, 0.1196172758936882, 0.3241741955280304, 0.2008868306875229, 0.13208667933940887, 0.16492857038974762, 0.11818282306194305, 0.16684633493423462, 0.11842254549264908, 0.09876536577939987, 0.19224102795124054, 0.19224102795124054, 0.19224102795124054, 0.19224102795124054, 0.2353043407201767, 0.1534593552350998, 0.11253686249256134, 0.11253686249256134, 0.13299810886383057, 0.1534593552350998, 0.10230623930692673, 0.1412821114063263, 0.1693612039089203, 0.14955805242061615, 0.11852328479290009, 0.16699664294719696, 0.11024734377861023, 0.14423781633377075, 0.1336183249950409, 0.07372045516967773, 0.11979573965072632, 0.17969360947608948, 0.16126349568367004, 0.20273125171661377, 0.12901079654693604, 0.32391974329948425, 0.32391974329948425, 0.6203984618186951, 0.19076098501682281, 0.11739137768745422, 0.1369566023349762, 0.1483696550130844, 0.13858704268932343, 0.15978270769119263, 0.10923919826745987, 0.14767812192440033, 0.11293033510446548, 0.10424338281154633, 0.15636508166790009, 0.2171737104654312, 0.12161727994680405, 0.1303042322397232, 0.13235412538051605, 0.1193782314658165, 0.1427348405122757, 0.13494929671287537, 0.12197341024875641, 0.19723358750343323, 0.15052036941051483, 0.2782858610153198, 0.2782858610153198, 0.2782858610153198, 0.13886107504367828, 0.13733512163162231, 0.14801675081253052, 0.13123135268688202, 0.18311350047588348, 0.14801675081253052, 0.11444593966007233, 0.12760622799396515, 0.21875354647636414, 0.08203257620334625, 0.09114731103181839, 0.14583569765090942, 0.10937677323818207, 0.21875354647636414, 0.1378258317708969, 0.1378258317708969, 0.19397710263729095, 0.1403781622648239, 0.1225118488073349, 0.1327211707830429, 0.1352735012769699, 0.4414161145687103, 0.3065398037433624, 0.1532699018716812, 0.1532699018716812, 0.1532699018716812, 0.1532699018716812, 0.1532699018716812, 0.1532699018716812, 0.12703470885753632, 0.19396698474884033, 0.1598178595304489, 0.10244734585285187, 0.14615821838378906, 0.10244734585285187, 0.16937962174415588, 0.14578308165073395, 0.12709294259548187, 0.11214083433151245, 0.15325914323329926, 0.13830702006816864, 0.20559152960777283, 0.11587885767221451, 0.1373344510793686, 0.1373344510793686, 0.1487789899110794, 0.13161218166351318, 0.18311260640621185, 0.12207506597042084, 0.13924187421798706, 0.15429122745990753, 0.19558043777942657, 0.12386760860681534, 0.10213644802570343, 0.18471485376358032, 0.13690629601478577, 0.1043095663189888, 0.14703398942947388, 0.11784341186285019, 0.14595285058021545, 0.12324907630681992, 0.1643320918083191, 0.10811322182416916, 0.1946038007736206, 0.12782271206378937, 0.195351704955101, 0.14470496773719788, 0.12782271206378937, 0.12782271206378937, 0.1519402116537094, 0.12782271206378937, 0.10883419960737228, 0.1269732266664505, 0.19549846649169922, 0.10278785228729248, 0.14712771773338318, 0.1209268867969513, 0.19952936470508575, 0.3230642080307007, 0.3230642080307007, 0.32290035486221313, 0.12709197402000427, 0.12709197402000427, 0.12709197402000427, 0.12709197402000427, 0.12709197402000427, 0.25418394804000854, 0.12709197402000427, 0.17039163410663605, 0.17039163410663605, 0.3407832682132721, 0.17039163410663605, 0.17039163410663605, 0.17039163410663605, 0.32515949010849, 0.1317051649093628, 0.12125237286090851, 0.1609729826450348, 0.10034678876399994, 0.17351633310317993, 0.18815022706985474, 0.12334293127059937, 0.12068549543619156, 0.13275404274463654, 0.13275404274463654, 0.1448225975036621, 0.22930243611335754, 0.12068549543619156, 0.10861694067716599, 0.14150333404541016, 0.12919870018959045, 0.11894483864307404, 0.12919870018959045, 0.12099561095237732, 0.20712807774543762, 0.15380798280239105, 0.1359425038099289, 0.10072103887796402, 0.16127724945545197, 0.16931021213531494, 0.14273963868618011, 0.1557159572839737, 0.13408873975276947, 0.11117378622293472, 0.15951021015644073, 0.07733828574419022, 0.19334571063518524, 0.12084107100963593, 0.13534200191497803, 0.20301300287246704, 0.11697334051132202, 0.1325697898864746, 0.22614845633506775, 0.10137689858675003, 0.12477156519889832, 0.1325697898864746, 0.1637626737356186, 0.07517194747924805, 0.1503438949584961, 0.1503438949584961, 0.1503438949584961, 0.07517194747924805, 0.1503438949584961, 0.22551582753658295, 0.1616862267255783, 0.11413145810365677, 0.15059012174606323, 0.1616862267255783, 0.14424948394298553, 0.18387845158576965, 0.084013432264328, 0.14579719305038452, 0.10934790223836899, 0.10934790223836899, 0.14579719305038452, 0.14579719305038452, 0.21869580447673798, 0.10934790223836899, 0.1606474220752716, 0.11780811101198196, 0.1470167338848114, 0.17525173723697662, 0.1392277628183365, 0.11586086452007294, 0.14312224090099335, 0.17755943536758423, 0.13810178637504578, 0.1211913675069809, 0.13528338074684143, 0.19728825986385345, 0.1268281787633896, 0.10146253556013107, 0.10479017347097397, 0.14046940207481384, 0.16210168600082397, 0.18148645758628845, 0.16996797919273376, 0.1101280078291893, 0.13119842112064362, 0.13414442539215088, 0.152030348777771, 0.14308738708496094, 0.11625850200653076, 0.13414442539215088, 0.09837257862091064, 0.2146310806274414, 0.15605759620666504, 0.10849718749523163, 0.10924032330513, 0.13524992763996124, 0.1263323426246643, 0.17389275133609772, 0.19098477065563202, 0.17819112539291382, 0.15494880080223083, 0.1328132599592209, 0.12285226583480835, 0.1660165786743164, 0.130599707365036, 0.11510482430458069, 0.14558683335781097, 0.18854688107967377, 0.08950010687112808, 0.13962015509605408, 0.16826020181179047, 0.10859345644712448, 0.15871351957321167, 0.14336276054382324, 0.1411823332309723, 0.1357312798500061, 0.15808060765266418, 0.1286449134349823, 0.15099424123764038, 0.1428176611661911, 0.11110837757587433, 0.21183279156684875, 0.09034045785665512, 0.16614337265491486, 0.11318516731262207, 0.1225307360291481, 0.18483449518680573, 0.13703763484954834, 0.1571207344532013, 0.15357665717601776, 0.16125549376010895, 0.12049861252307892, 0.1252240538597107, 0.14530715346336365, 0.14187510311603546, 0.14187510311603546, 0.14187510311603546, 0.2837502062320709, 0.14187510311603546, 0.14187510311603546, 0.13435612618923187, 0.24184101819992065, 0.10748489946126938, 0.13435612618923187, 0.10748489946126938, 0.16122734546661377, 0.10748489946126938, 0.15843717753887177, 0.11073566228151321, 0.10221753269433975, 0.11243928223848343, 0.15502992272377014, 0.2044350653886795, 0.15673354268074036, 0.11812010407447815, 0.15311865508556366, 0.17499274015426636, 0.2143661081790924, 0.13999420404434204, 0.08749637007713318, 0.10937047004699707, 0.1742057204246521, 0.1980695128440857, 0.1121598482131958, 0.13363726437091827, 0.15750105679035187, 0.11693260818719864, 0.10738708823919296, 0.12415683269500732, 0.10813659429550171, 0.14017707109451294, 0.14418213069438934, 0.12816189229488373, 0.15619730949401855, 0.1962478905916214, 0.16987459361553192, 0.1524217277765274, 0.17452870309352875, 0.14544057846069336, 0.1361323893070221, 0.12682418525218964, 0.09308197349309921, 0.17315265536308289, 0.19095338881015778, 0.09224019944667816, 0.1270325481891632, 0.12865079939365387, 0.12055955827236176, 0.1658705323934555, 0.32312503457069397, 0.32312503457069397, 0.32312503457069397, 0.10057275742292404, 0.15085913240909576, 0.15085913240909576, 0.15085913240909576, 0.10057275742292404, 0.10057275742292404, 0.2514318823814392, 0.14929597079753876, 0.1163630336523056, 0.17564231157302856, 0.1163630336523056, 0.1031898632645607, 0.20198866724967957, 0.13612279295921326, 0.14861340820789337, 0.0876438096165657, 0.11050740629434586, 0.2286360263824463, 0.1409922093153, 0.1295604109764099, 0.15242400765419006, 0.10827263444662094, 0.1684240996837616, 0.14436350762844086, 0.21654526889324188, 0.12030293047428131, 0.09624233841896057, 0.13233321905136108, 0.08910765498876572, 0.14659646153450012, 0.13222426176071167, 0.20695970952510834, 0.12647537887096405, 0.16096866130828857, 0.1379731446504593, 0.14917124807834625, 0.14607961475849152, 0.1368047147989273, 0.1221194639801979, 0.15612740814685822, 0.1422150731086731, 0.1468525230884552, 0.18184801936149597, 0.11851474642753601, 0.14735960960388184, 0.14046192169189453, 0.12666654586791992, 0.15425728261470795, 0.13042892515659332, 0.13083244860172272, 0.1559925377368927, 0.1801462173461914, 0.12580043077468872, 0.12781323492527008, 0.12580043077468872, 0.15397973358631134, 0.15593461692333221, 0.09830661118030548, 0.21356263756752014, 0.13898520171642303, 0.12542568147182465, 0.12203579396009445, 0.14237509667873383, 0.13398151099681854, 0.15473920106887817, 0.1679486483335495, 0.13398151099681854, 0.09246610850095749, 0.12454618513584137, 0.19248047471046448, 0.17944419384002686, 0.13750028610229492, 0.1693524271249771, 0.1308775693178177, 0.12047044187784195, 0.09681786596775055, 0.165568009018898, 0.16227537393569946, 0.13973712921142578, 0.10367593169212341, 0.20284421741962433, 0.13522948324680328, 0.1262141764163971, 0.1307218223810196, 0.13060030341148376, 0.12159337848424911, 0.14411067962646484, 0.13960722088813782, 0.12609684467315674, 0.13960722088813782, 0.19815218448638916, 0.15880230069160461, 0.1364707350730896, 0.15259909629821777, 0.12654559314250946, 0.12654559314250946, 0.18361516296863556, 0.11413915455341339, 0.13547629117965698, 0.15439756214618683, 0.15666811168193817, 0.14985644817352295, 0.16499346494674683, 0.11579816788434982, 0.12336667627096176, 0.17833325266838074, 0.15967047214508057, 0.1057557612657547, 0.1969960331916809, 0.1161239743232727, 0.15344953536987305, 0.08916662633419037, 0.2272147834300995, 0.2272147834300995, 0.2272147834300995, 0.2272147834300995, 0.18757498264312744, 0.09378749132156372, 0.14068123698234558, 0.14068123698234558, 0.09378749132156372, 0.2344687134027481, 0.09378749132156372, 0.3236279785633087, 0.3236279785633087, 0.21550552546977997, 0.1338106095790863, 0.11409115791320801, 0.13240207731723785, 0.1591642051935196, 0.1281764805316925, 0.11690822243690491, 0.1875799298286438, 0.16460686922073364, 0.1352413296699524, 0.10108140856027603, 0.1662050038576126, 0.13084648549556732, 0.11446570605039597, 0.18776381015777588, 0.2034107893705368, 0.10692105442285538, 0.1408228576183319, 0.12517587840557098, 0.11735238134860992, 0.11735238134860992, 0.16254088282585144, 0.1143806204199791, 0.10234054923057556, 0.10836058109998703, 0.22274120151996613, 0.1685609072446823, 0.12642067670822144, 0.15910066664218903, 0.13193713128566742, 0.21730822324752808, 0.13969814777374268, 0.12417612969875336, 0.1280566304922104, 0.10089310258626938, 0.14722207188606262, 0.13802069425582886, 0.17022553086280823, 0.2024303525686264, 0.11501725018024445, 0.09201379865407944, 0.13342000544071198, 0.14947541058063507, 0.12248679250478745, 0.16089366376399994, 0.1681598275899887, 0.1422092318534851, 0.1245628371834755, 0.1328670233488083, 0.15172213315963745, 0.15232659876346588, 0.13177460432052612, 0.12331201136112213, 0.13237906992435455, 0.13298353552818298, 0.17590095102787018, 0.18177929520606995, 0.13366124033927917, 0.13366124033927917, 0.20851154625415802, 0.13366124033927917, 0.1069289967417717, 0.10158254206180573, 0.13701198995113373, 0.1327303647994995, 0.2097996026277542, 0.14129361510276794, 0.10275898873806, 0.11988548189401627, 0.1541384756565094, 0.11381125450134277, 0.10711647570133209, 0.22092773020267487, 0.15397992730140686, 0.13389559090137482, 0.15397992730140686, 0.11381125450134277, 0.17500527203083038, 0.17500527203083038, 0.17500527203083038, 0.17500527203083038, 0.17500527203083038, 0.17500527203083038, 0.12369827181100845, 0.18592225015163422, 0.2099122256040573, 0.12669701874256134, 0.11470203846693039, 0.11095360666513443, 0.12819638848304749, 0.32497426867485046, 0.13535746932029724, 0.16716960072517395, 0.1309911012649536, 0.14596150815486908, 0.14471398293972015, 0.14845657348632812, 0.12724849581718445, 0.15742135047912598, 0.15397416055202484, 0.11835327744483948, 0.16891194880008698, 0.12294951826334, 0.17121008038520813, 0.10801172256469727, 0.324436217546463, 0.1454549878835678, 0.13160212337970734, 0.16029733419418335, 0.13852855563163757, 0.09993845969438553, 0.14248651266098022, 0.1830555945634842, 0.3237234652042389, 0.3237234652042389, 0.16436393558979034, 0.178452268242836, 0.13149115443229675, 0.16060703992843628, 0.11364591866731644, 0.11364591866731644, 0.13806571066379547, 0.1462658941745758, 0.08684537559747696, 0.12798266112804413, 0.20568640530109406, 0.1462658941745758, 0.1416950821876526, 0.1462658941745758, 0.1405516415834427, 0.21584714949131012, 0.13051223754882812, 0.13051223754882812, 0.12047283351421356, 0.11545313149690628, 0.14557133615016937, 0.18290434777736664, 0.10451676696538925, 0.13251233100891113, 0.11384861916303635, 0.21649901568889618, 0.13624507188796997, 0.11384861916303635, 0.15823356807231903, 0.11810186505317688, 0.1341545432806015, 0.13874103128910065, 0.14906060695648193, 0.17772610485553741, 0.1249815821647644, 0.1308494657278061, 0.15525661408901215, 0.15729054808616638, 0.11864588409662247, 0.09627266228199005, 0.18169769644737244, 0.1600024551153183, 0.13161250948905945, 0.14732743799686432, 0.12179068475961685, 0.143398717045784, 0.1866147667169571, 0.13554124534130096, 0.13161250948905945, 0.11136817932128906, 0.17571423947811127, 0.12250499427318573, 0.18685105443000793, 0.11508045345544815, 0.12250499427318573, 0.1670522689819336, 0.16027480363845825, 0.16528338193893433, 0.1358579397201538, 0.11801484227180481, 0.1634051650762558, 0.1133192926645279, 0.14399689435958862, 0.3252304196357727, 0.3252304196357727, 0.3252304196357727, 0.3228117823600769, 0.3228117823600769, 0.3236159384250641, 0.3236159384250641, 0.323432981967926, 0.323432981967926, 0.3247011601924896, 0.3247011601924896, 0.6222356557846069, 0.16002580523490906, 0.15022830665111542, 0.18288663029670715, 0.12900039553642273, 0.1436966359615326, 0.0963420644402504, 0.13879789412021637, 0.4405035972595215, 0.14055998623371124, 0.19678397476673126, 0.2530079782009125, 0.08433599025011063, 0.14055998623371124, 0.11244798451662064, 0.08433599025011063, 0.21723532676696777, 0.12865392863750458, 0.10756312310695648, 0.12654484808444977, 0.1560719758272171, 0.14130841195583344, 0.12021760642528534, 0.09857579320669174, 0.20005087554454803, 0.1362665444612503, 0.1362665444612503, 0.15076297521591187, 0.12756867706775665, 0.14786368608474731, 0.2091013342142105, 0.13530085980892181, 0.12710081040859222, 0.09840063005685806, 0.12915082275867462, 0.12710081040859222, 0.17425110936164856, 0.19226613640785217, 0.19226613640785217, 0.19226613640785217, 0.19226613640785217, 0.13973604142665863, 0.14044536650180817, 0.14186400175094604, 0.13831740617752075, 0.1688181608915329, 0.19790028035640717, 0.07305996119976044, 0.15894058346748352, 0.14115701615810394, 0.15671764314174652, 0.10670137405395508, 0.12781934440135956, 0.1789470911026001, 0.13004229962825775, 0.1282697319984436, 0.10494795441627502, 0.1282697319984436, 0.10494795441627502, 0.09328707307577133, 0.18657414615154266, 0.2565394639968872, 0.10789471119642258, 0.11463813483715057, 0.14947913587093353, 0.16858549416065216, 0.1404879093170166, 0.1674615889787674, 0.14947913587093353, 0.09556887298822403, 0.09556887298822403, 0.13557444512844086, 0.1466871052980423, 0.23558838665485382, 0.14224204421043396, 0.15113216638565063, 0.44018757343292236, 0.44018757343292236, 0.1391226053237915, 0.11349475383758545, 0.12813924252986908, 0.15651293098926544, 0.1784796565771103, 0.14278371632099152, 0.14278371632099152, 0.16268090903759003, 0.17945966124534607, 0.1553858071565628, 0.09045933932065964, 0.11088564246892929, 0.14152508974075317, 0.15903335809707642, 0.07812545448541641, 0.15625090897083282, 0.15625090897083282, 0.07812545448541641, 0.15625090897083282, 0.07812545448541641, 0.23437635600566864, 0.14712773263454437, 0.13414587080478668, 0.130684033036232, 0.14193499088287354, 0.16443687677383423, 0.15058955550193787, 0.130684033036232, 0.174704909324646, 0.174704909324646, 0.174704909324646, 0.174704909324646, 0.349409818649292, 0.174704909324646, 0.174704909324646, 0.16766972839832306, 0.14182065427303314, 0.11597156524658203, 0.17256009578704834, 0.15998487174510956, 0.11317706853151321, 0.1285467892885208, 0.22472555935382843, 0.13362060487270355, 0.12754693627357483, 0.0971786230802536, 0.10325228422880173, 0.15791526436805725, 0.15791526436805725, 0.09705689549446106, 0.16625486314296722, 0.14378799498081207, 0.1455853432416916, 0.15007871389389038, 0.12940919399261475, 0.16805221140384674, 0.16133888065814972, 0.11425285786390305, 0.15649180114269257, 0.1287941336631775, 0.15787668526172638, 0.1488749384880066, 0.13225634396076202, 0.14048998057842255, 0.1673196703195572, 0.16927091777324677, 0.11585545539855957, 0.15756341814994812, 0.11829451471567154, 0.13097763061523438, 0.23015473783016205, 0.12184662371873856, 0.06769257038831711, 0.12184662371873856, 0.1760006844997406, 0.16246217489242554, 0.12184662371873856, 0.3235161304473877, 0.3235161304473877, 0.13834592700004578, 0.15092283487319946, 0.11633634567260742, 0.14463438093662262, 0.19494198262691498, 0.17607663571834564, 0.08174986392259598, 0.13345105946063995, 0.17451292276382446, 0.12318559736013412, 0.12318559736013412, 0.1129201278090477, 0.21557480096817017, 0.1129201278090477, 0.14009414613246918, 0.15570834279060364, 0.12925094366073608, 0.13185331225395203, 0.1513710618019104, 0.15440715849399567, 0.13749177753925323, 0.19719216227531433, 0.19719216227531433, 0.19719216227531433, 0.19719216227531433, 0.19719216227531433, 0.19719216227531433, 0.2848942279815674, 0.1424471139907837, 0.1424471139907837, 0.1424471139907837, 0.1424471139907837, 0.1424471139907837, 0.1424471139907837, 0.14418800175189972, 0.19225066900253296, 0.240313321352005, 0.09612533450126648, 0.13617755472660065, 0.09612533450126648, 0.10413577407598495, 0.1752544343471527, 0.1752544343471527, 0.1752544343471527, 0.1752544343471527, 0.1752544343471527, 0.1752544343471527, 0.1752544343471527, 0.17897216975688934, 0.10126056522130966, 0.11068015545606613, 0.13776147365570068, 0.15306830406188965, 0.1942790001630783, 0.12363208830356598, 0.1570739597082138, 0.16140276193618774, 0.08595779538154602, 0.10822024941444397, 0.16325797140598297, 0.1546003520488739, 0.16944198310375214, 0.14315466582775116, 0.20171794295310974, 0.12688709795475006, 0.09760545939207077, 0.14640818536281586, 0.12363357841968536, 0.16267576813697815, 0.15909381210803986, 0.1896887868642807, 0.10524667799472809, 0.150527223944664, 0.09423249214887619, 0.15297482907772064, 0.14930342137813568, 0.3230339586734772, 0.3230339586734772, 0.3230339586734772, 0.10764552652835846, 0.13079510629177094, 0.10127939283847809, 0.12674392759799957, 0.1325313150882721, 0.1348462849855423, 0.2662201225757599, 0.14599482715129852, 0.14320510625839233, 0.15250414609909058, 0.1283266544342041, 0.16087327897548676, 0.1255369484424591, 0.14506492018699646, 0.12491104006767273, 0.1589776873588562, 0.12653325498104095, 0.18168878555297852, 0.17519989609718323, 0.13302214443683624, 0.10057771950960159, 0.15177614986896515, 0.14124155044555664, 0.1400710493326187, 0.16777311265468597, 0.13109713792800903, 0.12173305451869965, 0.14670392870903015, 0.22158823907375336, 0.16057118773460388, 0.10276556015014648, 0.1284569501876831, 0.10918840765953064, 0.11882267892360687, 0.1573597639799118, 0.17048732936382294, 0.11593137681484222, 0.1477556824684143, 0.20231162011623383, 0.11365821212530136, 0.12275087088346481, 0.12729720771312714, 0.16975609958171844, 0.3395121991634369, 0.16975609958171844, 0.3395121991634369, 0.18284787237644196, 0.12902849912643433, 0.15593817830085754, 0.15179823338985443, 0.10763874650001526, 0.15248823165893555, 0.1207485944032669, 0.11308346688747406, 0.10843619704246521, 0.15955612063407898, 0.18589062988758087, 0.14716340601444244, 0.16575247049331665, 0.11927981674671173, 0.15271244943141937, 0.15271244943141937, 0.15271244943141937, 0.15271244943141937, 0.30542489886283875, 0.15271244943141937, 0.3234129250049591, 0.3234129250049591, 0.3234129250049591, 0.12155783176422119, 0.04051927849650383, 0.4051927626132965, 0.08103855699300766, 0.04051927849650383, 0.16207711398601532, 0.16207711398601532, 0.13464142382144928, 0.1501769721508026, 0.13464142382144928, 0.1501769721508026, 0.21231918036937714, 0.10874884575605392, 0.10874884575605392, 0.1564997434616089, 0.1564997434616089, 0.1564997434616089, 0.3129994869232178, 0.1564997434616089, 0.1564997434616089], \"Term\": [\"\", \"\", \"\", \"\", \"\", \"\", \"\", \"$\", \"$\", \"$\", \"$\", \"$\", \"$\", \"$\", \"1/2\", \"1/2\", \"1/2\", \"1/2\", \"1/2\", \"1/2\", \"1/2\", \"10\", \"10\", \"10\", \"10\", \"10\", \"10\", \"10\", \"12:45pm\", \"12:45pm\", \"170\", \"170\", \"170\", \"170\", \"170\", \"170\", \"170\", \"2\", \"2\", \"2\", \"2\", \"2\", \"2\", \"2\", \"3\", \"3\", \"3\", \"3\", \"3\", \"3\", \"3\", \"40mins\", \"Ally\", \"Antony\", \"Antony\", \"Apache\", \"Aptive\", \"Aptive\", \"Aptive\", \"Aryon\", \"Aryon\", \"BB\", \"BB\", \"Bed\", \"Bed\", \"Bed\", \"Bed\", \"Bed\", \"Brianna\", \"Brookline\", \"Brookline\", \"CHOP\", \"CHOP\", \"CHOP\", \"CUTEST\", \"Cali\", \"Cali\", \"Cali\", \"Cali\", \"Cali\", \"Cali\", \"Cali\", \"Chair\", \"Chair\", \"Char\", \"Char\", \"Checkout\", \"Chinese\", \"Chinese\", \"Chinese\", \"Chinese\", \"Chinese\", \"Chinese\", \"Chinese\", \"Christina\", \"Christina\", \"Christina\", \"Christina\", \"Christina\", \"Christina\", \"Christina\", \"Cleveland\", \"Cleveland\", \"Cleveland\", \"Cleveland\", \"Cleveland\", \"Cleveland\", \"Cleveland\", \"Convent\", \"Courteous\", \"Courteous\", \"Cure\", \"Daaayyuuummm\", \"Daaayyuuummm\", \"Darlene\", \"Darlene\", \"Death\", \"Death\", \"Death\", \"Death\", \"Delivary\", \"Delivary\", \"Deliverance\", \"Deliverance\", \"Detailz\", \"Detailz\", \"Devin\", \"Devin\", \"Devin\", \"Devin\", \"Dots\", \"Dots\", \"Elaine\", \"Erika\", \"Erika\", \"F&C\", \"F&C\", \"FAKE\", \"Falcon\", \"Fatty\", \"Fatty\", \"Fatty\", \"Fatty\", \"Food\", \"Food\", \"Food\", \"Food\", \"Food\", \"Food\", \"Food\", \"Foot\", \"Foot\", \"Foot\", \"Foot\", \"Foot\", \"Friendly\", \"Friendly\", \"Friendly\", \"Friendly\", \"Friendly\", \"Friendly\", \"Friendly\", \"Great\", \"Great\", \"Great\", \"Great\", \"Great\", \"Great\", \"Great\", \"Greater\", \"Greater\", \"Greulich\", \"Greulich\", \"Ihop\", \"Ihop\", \"Ihop\", \"Ihop\", \"Ihop\", \"Ihop\", \"Italian\", \"Italian\", \"Italian\", \"Italian\", \"Italian\", \"Italian\", \"Italian\", \"Ivan\", \"Ivan\", \"Ivan\", \"Ivan\", \"Ivan\", \"Ivan\", \"Ivan\", \"Joe\", \"Joe\", \"Joe\", \"Joe\", \"Joe\", \"Joe\", \"Joe\", \"Joy\", \"Joy\", \"Joy\", \"Joy\", \"Joy\", \"Joy\", \"Joy\", \"Kabab\", \"Kabab\", \"Kabab\", \"Kabab\", \"Kabab\", \"Kabab\", \"Kabab\", \"Kendel\", \"Kendel\", \"Keri\", \"Keri\", \"Keri\", \"Keri\", \"Keri\", \"Keri\", \"Keri\", \"Kitsch\", \"Kitsch\", \"Kitsch\", \"Kitsch\", \"Klavon\", \"LOTS\", \"LOTS\", \"LOTS\", \"LOTS\", \"LOTS\", \"LOTS\", \"LOTS\", \"Las\", \"Las\", \"Las\", \"Las\", \"Las\", \"Las\", \"Las\", \"Lexus\", \"Lexus\", \"Lexus\", \"Londres\", \"Londres\", \"Love\", \"Love\", \"Love\", \"Love\", \"Love\", \"Love\", \"Love\", \"Low\", \"Low\", \"Low\", \"Low\", \"Low\", \"Low\", \"Low\", \"Lupies\", \"Lupies\", \"Male\", \"Male\", \"Manchego\", \"Matthew\", \"Matthew\", \"Matthew\", \"Matthew\", \"Melinda\", \"Melinda\", \"Merest\", \"Merest\", \"Mmmmmm\", \"Mmmmmm\", \"Motorsports\", \"Motorsports\", \"Motorsports\", \"Motorsports\", \"Motorsports\", \"Motorsports\", \"Mystere\", \"Mystere\", \"Mystere\", \"Mystere\", \"Mystere\", \"Mystere\", \"Mystere\", \"Nationwide\", \"Nicest\", \"Nicest\", \"PNW\", \"Parsanko\", \"Pavers\", \"Pavers\", \"Pavers\", \"Pavers\", \"Pavers\", \"Pavers\", \"Pimpin\", \"Pittsburg\", \"Pittsburg\", \"Pittsburg\", \"Pittsburg\", \"Pittsburg\", \"Pound\", \"Ppl\", \"Prompt\", \"Prompt\", \"Purolator\", \"Purolator\", \"Purolator\", \"RAC\", \"RAC\", \"RAC\", \"RAC\", \"RAC\", \"RAC\", \"Rating\", \"Rating\", \"Rating\", \"Resort\", \"Resort\", \"Resort\", \"Resort\", \"Resort\", \"Resort\", \"Resort\", \"Riaz\", \"Ricketts\", \"Ricketts\", \"Roomtastic\", \"Roomtastic\", \"Root\", \"Root\", \"Root\", \"Root\", \"Root\", \"Rudy\", \"Rudy\", \"Rudy\", \"Rudy\", \"SAUCE\", \"SLOW\", \"Schwarts\", \"Schwarts\", \"Schwarts\", \"Schwarts\", \"Schwarts\", \"Schwarts\", \"Schwarts\", \"Schwartz\", \"Schwartz\", \"Schwartz\", \"Schwartz\", \"Schwartz\", \"Schwartz\", \"Schwartz\", \"Serenity\", \"Serenity\", \"Serenity\", \"Serenity\", \"Serenity\", \"Shakshuka\", \"Stampede\", \"Stampede\", \"Stampede\", \"Stay\", \"Stay\", \"Stay\", \"Stay\", \"Stay\", \"Stay\", \"Stay\", \"Stope\", \"Stope\", \"Styles\", \"Styles\", \"Styles\", \"Styles\", \"Supper\", \"Supper\", \"Supper\", \"TACOS\", \"TACOS\", \"TOWN\", \"TOWN\", \"Talia\", \"Talia\", \"Telling\", \"Telling\", \"Theater\", \"Theater\", \"Theater\", \"Theater\", \"Theater\", \"Theater\", \"Thoroughly\", \"Thoroughly\", \"Thoroughly\", \"Thoroughly\", \"UMAMI\", \"UMAMI\", \"Uncomfortable\", \"Underrated\", \"Underrated\", \"Unpleasant\", \"Vegas\", \"Vegas\", \"Vegas\", \"Vegas\", \"Vegas\", \"Vegas\", \"Vegas\", \"Vetter\", \"Victor\", \"Volcom\", \"Whimsical\", \"Wor\", \"Wor\", \"Wor\", \"Wor\", \"Wtf\", \"Wtf\", \"Wtf\", \"Wtf\", \"Wtf\", \"Wtf\", \"YC\", \"Yo\", \"Yo\", \"Yo\", \"Yo\", \"Yo\", \"Yo\", \"Yo\", \"Yuk\", \"Yuk\", \"Yuk\", \"Yuk\", \"Yuk\", \"abiance\", \"add\", \"add\", \"add\", \"add\", \"add\", \"add\", \"add\", \"ahve\", \"ahve\", \"alpine\", \"amaze\", \"amaze\", \"amaze\", \"amaze\", \"amaze\", \"amaze\", \"amaze\", \"area\", \"area\", \"area\", \"area\", \"area\", \"area\", \"area\", \"arrive\", \"arrive\", \"arrive\", \"arrive\", \"arrive\", \"arrive\", \"arrive\", \"arse\", \"ask\", \"ask\", \"ask\", \"ask\", \"ask\", \"ask\", \"ask\", \"authentic\", \"authentic\", \"authentic\", \"authentic\", \"authentic\", \"authentic\", \"authentic\", \"awesome\", \"awesome\", \"awesome\", \"awesome\", \"awesome\", \"awesome\", \"awesome\", \"backyard\", \"backyard\", \"backyard\", \"backyard\", \"backyard\", \"backyard\", \"backyard\", \"bahn\", \"bahn\", \"bar\", \"bar\", \"bar\", \"bar\", \"bar\", \"bar\", \"bar\", \"beautiful\", \"beautiful\", \"beautiful\", \"beautiful\", \"beautiful\", \"beautiful\", \"beautiful\", \"big\", \"big\", \"big\", \"big\", \"big\", \"big\", \"big\", \"bike\", \"bike\", \"bike\", \"bike\", \"bike\", \"bike\", \"bike\", \"bite\", \"bite\", \"bite\", \"bite\", \"bite\", \"bite\", \"bite\", \"breakfast\", \"breakfast\", \"breakfast\", \"breakfast\", \"breakfast\", \"breakfast\", \"breakfast\", \"breath\", \"breath\", \"breath\", \"breath\", \"breath\", \"breath\", \"breath\", \"browbeat\", \"burgers\", \"burgers\", \"burgers\", \"burgers\", \"burgers\", \"burgers\", \"burgers\", \"business\", \"business\", \"business\", \"business\", \"business\", \"business\", \"business\", \"busy\", \"busy\", \"busy\", \"busy\", \"busy\", \"busy\", \"busy\", \"cage\", \"call\", \"call\", \"call\", \"call\", \"call\", \"call\", \"call\", \"car\", \"car\", \"car\", \"car\", \"car\", \"car\", \"car\", \"care\", \"care\", \"care\", \"care\", \"care\", \"care\", \"care\", \"cartridge\", \"cartridge\", \"cartridge\", \"cartridge\", \"cartridge\", \"ceux\", \"ceux\", \"ceux\", \"ceux\", \"check\", \"check\", \"check\", \"check\", \"check\", \"check\", \"check\", \"cheese\", \"cheese\", \"cheese\", \"cheese\", \"cheese\", \"cheese\", \"cheese\", \"chicken\", \"chicken\", \"chicken\", \"chicken\", \"chicken\", \"chicken\", \"chicken\", \"choose\", \"choose\", \"choose\", \"choose\", \"choose\", \"choose\", \"choose\", \"chore\", \"chore\", \"chore\", \"chore\", \"chore\", \"chore\", \"chore\", \"clean\", \"clean\", \"clean\", \"clean\", \"clean\", \"clean\", \"clean\", \"clinical\", \"close\", \"close\", \"close\", \"close\", \"close\", \"close\", \"close\", \"cocktail\", \"cocktail\", \"cocktail\", \"cocktail\", \"cocktail\", \"cocktail\", \"cocktail\", \"collection\", \"collection\", \"collection\", \"collection\", \"collection\", \"collection\", \"collection\", \"come\", \"come\", \"come\", \"come\", \"come\", \"come\", \"come\", \"conception\", \"consist\", \"consist\", \"consist\", \"consist\", \"consist\", \"consist\", \"consist\", \"cook\", \"cook\", \"cook\", \"cook\", \"cook\", \"cook\", \"cook\", \"costumers\", \"costumers\", \"couture\", \"cupcake\", \"cupcake\", \"cupcake\", \"cupcake\", \"cupcake\", \"cupcake\", \"cupcake\", \"customer\", \"customer\", \"customer\", \"customer\", \"customer\", \"customer\", \"customer\", \"cut\", \"cut\", \"cut\", \"cut\", \"cut\", \"cut\", \"cut\", \"dahl\", \"dahl\", \"day\", \"day\", \"day\", \"day\", \"day\", \"day\", \"day\", \"definitely\", \"definitely\", \"definitely\", \"definitely\", \"definitely\", \"definitely\", \"definitely\", \"del\", \"del\", \"del\", \"del\", \"del\", \"del\", \"del\", \"delicious\", \"delicious\", \"delicious\", \"delicious\", \"delicious\", \"delicious\", \"delicious\", \"delicious\\u200b\", \"diesel\", \"diesel\", \"diner\", \"diner\", \"diner\", \"diner\", \"diner\", \"diner\", \"diner\", \"dinner\", \"dinner\", \"dinner\", \"dinner\", \"dinner\", \"dinner\", \"dinner\", \"disappoint\", \"disappoint\", \"disappoint\", \"disappoint\", \"disappoint\", \"disappoint\", \"disappoint\", \"donts\", \"drink\", \"drink\", \"drink\", \"drink\", \"drink\", \"drink\", \"drink\", \"drive\", \"drive\", \"drive\", \"drive\", \"drive\", \"drive\", \"drive\", \"drizzly\", \"dry\", \"dry\", \"dry\", \"dry\", \"dry\", \"dry\", \"dry\", \"eat\", \"eat\", \"eat\", \"eat\", \"eat\", \"eat\", \"eat\", \"egg\", \"egg\", \"egg\", \"egg\", \"egg\", \"egg\", \"egg\", \"enjoy\", \"enjoy\", \"enjoy\", \"enjoy\", \"enjoy\", \"enjoy\", \"enjoy\", \"escrow\", \"escrow\", \"escrow\", \"escrow\", \"escrow\", \"escrow\", \"essay\", \"everrrrr\", \"exactly\", \"exactly\", \"exactly\", \"exactly\", \"exactly\", \"exactly\", \"exactly\", \"exhibition\", \"exhibition\", \"exhibition\", \"exhibition\", \"exhibition\", \"exhibition\", \"exhibition\", \"experience\", \"experience\", \"experience\", \"experience\", \"experience\", \"experience\", \"experience\", \"extreamly\", \"extreamly\", \"extremely\", \"extremely\", \"extremely\", \"extremely\", \"extremely\", \"extremely\", \"extremely\", \"fabulous\", \"fabulous\", \"fabulous\", \"fabulous\", \"fabulous\", \"fabulous\", \"fabulous\", \"fan\", \"fan\", \"fan\", \"fan\", \"fan\", \"fan\", \"fan\", \"favorite\", \"favorite\", \"favorite\", \"favorite\", \"favorite\", \"favorite\", \"favorite\", \"feel\", \"feel\", \"feel\", \"feel\", \"feel\", \"feel\", \"feel\", \"find\", \"find\", \"find\", \"find\", \"find\", \"find\", \"find\", \"fingernail\", \"fingernail\", \"fingernail\", \"fingernail\", \"fingernail\", \"fingernail\", \"fingernail\", \"finish\", \"finish\", \"finish\", \"finish\", \"finish\", \"finish\", \"finish\", \"flair\", \"flair\", \"flair\", \"flair\", \"flair\", \"flair\", \"flair\", \"flight\", \"flight\", \"flight\", \"flight\", \"flight\", \"flight\", \"flight\", \"flower\", \"flower\", \"flower\", \"flower\", \"flower\", \"flower\", \"flower\", \"food\", \"food\", \"food\", \"food\", \"food\", \"food\", \"food\", \"fridendly\", \"friend\", \"friend\", \"friend\", \"friend\", \"friend\", \"friend\", \"friend\", \"friendly\", \"friendly\", \"friendly\", \"friendly\", \"friendly\", \"friendly\", \"friendly\", \"fry\", \"fry\", \"fry\", \"fry\", \"fry\", \"fry\", \"fry\", \"fukien\", \"fukien\", \"fukien\", \"fukien\", \"fukien\", \"fukien\", \"get\", \"get\", \"get\", \"get\", \"get\", \"get\", \"get\", \"give\", \"give\", \"give\", \"give\", \"give\", \"give\", \"give\", \"glad\", \"glad\", \"glad\", \"glad\", \"glad\", \"glad\", \"glad\", \"glorify\", \"glorify\", \"glorify\", \"glorify\", \"glorify\", \"glorify\", \"glorify\", \"glutinous\", \"gnat\", \"gnat\", \"gnat\", \"gnat\", \"gnat\", \"gnat\", \"gnat\", \"go\", \"go\", \"go\", \"go\", \"go\", \"go\", \"go\", \"golfweek.com\", \"good\", \"good\", \"good\", \"good\", \"good\", \"good\", \"good\", \"gps\", \"gps\", \"gps\", \"gps\", \"greasy\", \"greasy\", \"greasy\", \"greasy\", \"greasy\", \"greasy\", \"greasy\", \"great\", \"great\", \"great\", \"great\", \"great\", \"great\", \"great\", \"grill\", \"grill\", \"grill\", \"grill\", \"grill\", \"grill\", \"grill\", \"grump\", \"grump\", \"guacamolie\", \"guy\", \"guy\", \"guy\", \"guy\", \"guy\", \"guy\", \"guy\", \"gym\", \"gym\", \"gym\", \"gym\", \"gym\", \"gym\", \"gym\", \"half\", \"half\", \"half\", \"half\", \"half\", \"half\", \"half\", \"halo\", \"halo\", \"halo\", \"happy\", \"happy\", \"happy\", \"happy\", \"happy\", \"happy\", \"happy\", \"heat\", \"heat\", \"heat\", \"heat\", \"heat\", \"heat\", \"heat\", \"helpful\", \"helpful\", \"helpful\", \"helpful\", \"helpful\", \"helpful\", \"helpful\", \"helpless\", \"hk\", \"hk\", \"hk\", \"hk\", \"hk\", \"hk\", \"hk\", \"home\", \"home\", \"home\", \"home\", \"home\", \"home\", \"home\", \"hope\", \"hope\", \"hope\", \"hope\", \"hope\", \"hope\", \"hope\", \"hot\", \"hot\", \"hot\", \"hot\", \"hot\", \"hot\", \"hot\", \"hotel\", \"hotel\", \"hotel\", \"hotel\", \"hotel\", \"hotel\", \"hotel\", \"hour\", \"hour\", \"hour\", \"hour\", \"hour\", \"hour\", \"hour\", \"huge\", \"huge\", \"huge\", \"huge\", \"huge\", \"huge\", \"huge\", \"ice\", \"ice\", \"ice\", \"ice\", \"ice\", \"ice\", \"ice\", \"imcomplete\", \"imcomplete\", \"insectarium\", \"institution\", \"institution\", \"institution\", \"institution\", \"institution\", \"institution\", \"institution\", \"intelligent\", \"intelligent\", \"intelligent\", \"intelligent\", \"intelligent\", \"intelligent\", \"intelligently\", \"job\", \"job\", \"job\", \"job\", \"job\", \"job\", \"job\", \"kick\", \"kick\", \"kick\", \"kick\", \"kick\", \"kick\", \"kick\", \"kind\", \"kind\", \"kind\", \"kind\", \"kind\", \"kind\", \"kind\", \"know\", \"know\", \"know\", \"know\", \"know\", \"know\", \"know\", \"lack\", \"lack\", \"lack\", \"lack\", \"lack\", \"lack\", \"lack\", \"lamb\", \"lamb\", \"lamb\", \"lamb\", \"lamb\", \"lamb\", \"lamb\", \"lap\", \"lap\", \"lap\", \"lap\", \"lap\", \"lap\", \"lap\", \"late\", \"late\", \"late\", \"late\", \"late\", \"late\", \"late\", \"layout\", \"layout\", \"layout\", \"layout\", \"layout\", \"layout\", \"layout\", \"leave\", \"leave\", \"leave\", \"leave\", \"leave\", \"leave\", \"leave\", \"light\", \"light\", \"light\", \"light\", \"light\", \"light\", \"light\", \"like\", \"like\", \"like\", \"like\", \"like\", \"like\", \"like\", \"limit\", \"limit\", \"limit\", \"limit\", \"limit\", \"limit\", \"limit\", \"little\", \"little\", \"little\", \"little\", \"little\", \"little\", \"little\", \"location\", \"location\", \"location\", \"location\", \"location\", \"location\", \"location\", \"long\", \"long\", \"long\", \"long\", \"long\", \"long\", \"long\", \"look\", \"look\", \"look\", \"look\", \"look\", \"look\", \"look\", \"lot\", \"lot\", \"lot\", \"lot\", \"lot\", \"lot\", \"lot\", \"love\", \"love\", \"love\", \"love\", \"love\", \"love\", \"love\", \"machaca\", \"machaca\", \"machaca\", \"machaca\", \"machaca\", \"machaca\", \"maintain\", \"maintain\", \"maintain\", \"maintain\", \"maintain\", \"maintain\", \"maintain\", \"make\", \"make\", \"make\", \"make\", \"make\", \"make\", \"make\", \"man\", \"man\", \"man\", \"man\", \"man\", \"man\", \"man\", \"manager\", \"manager\", \"manager\", \"manager\", \"manager\", \"manager\", \"manager\", \"maybe\", \"maybe\", \"maybe\", \"maybe\", \"maybe\", \"maybe\", \"maybe\", \"meal\", \"meal\", \"meal\", \"meal\", \"meal\", \"meal\", \"meal\", \"menu\", \"menu\", \"menu\", \"menu\", \"menu\", \"menu\", \"menu\", \"menudazo\", \"menudazo\", \"menudazo\", \"military\", \"military\", \"military\", \"military\", \"military\", \"military\", \"military\", \"money\", \"money\", \"money\", \"money\", \"money\", \"money\", \"money\", \"move\", \"move\", \"move\", \"move\", \"move\", \"move\", \"move\", \"n\", \"n\", \"n\", \"n\", \"n\", \"n\", \"n\", \"nail\", \"nail\", \"nail\", \"nail\", \"nail\", \"nail\", \"nail\", \"need\", \"need\", \"need\", \"need\", \"need\", \"need\", \"need\", \"nice\", \"nice\", \"nice\", \"nice\", \"nice\", \"nice\", \"nice\", \"night\", \"night\", \"night\", \"night\", \"night\", \"night\", \"night\", \"office\", \"office\", \"office\", \"office\", \"office\", \"office\", \"office\", \"old\", \"old\", \"old\", \"old\", \"old\", \"old\", \"old\", \"order\", \"order\", \"order\", \"order\", \"order\", \"order\", \"order\", \"past\", \"past\", \"past\", \"past\", \"past\", \"past\", \"past\", \"patio\", \"patio\", \"patio\", \"patio\", \"patio\", \"patio\", \"patio\", \"pay\", \"pay\", \"pay\", \"pay\", \"pay\", \"pay\", \"pay\", \"people\", \"people\", \"people\", \"people\", \"people\", \"people\", \"people\", \"perfect\", \"perfect\", \"perfect\", \"perfect\", \"perfect\", \"perfect\", \"perfect\", \"pesky\", \"pesky\", \"pesky\", \"pesky\", \"physician\", \"physician\", \"physician\", \"physician\", \"physician\", \"physician\", \"physician\", \"picante\", \"picante\", \"pizza\", \"pizza\", \"pizza\", \"pizza\", \"pizza\", \"pizza\", \"pizza\", \"place\", \"place\", \"place\", \"place\", \"place\", \"place\", \"place\", \"plate\", \"plate\", \"plate\", \"plate\", \"plate\", \"plate\", \"plate\", \"pleasant\", \"pleasant\", \"pleasant\", \"pleasant\", \"pleasant\", \"pleasant\", \"pleasant\", \"pool\", \"pool\", \"pool\", \"pool\", \"pool\", \"pool\", \"pool\", \"prepare\", \"prepare\", \"prepare\", \"prepare\", \"prepare\", \"prepare\", \"prepare\", \"pretty\", \"pretty\", \"pretty\", \"pretty\", \"pretty\", \"pretty\", \"pretty\", \"price\", \"price\", \"price\", \"price\", \"price\", \"price\", \"price\", \"rate\", \"rate\", \"rate\", \"rate\", \"rate\", \"rate\", \"rate\", \"ready\", \"ready\", \"ready\", \"ready\", \"ready\", \"ready\", \"ready\", \"recently\", \"recently\", \"recently\", \"recently\", \"recently\", \"recently\", \"recently\", \"recomend\", \"recomend\", \"recomend\", \"recomend\", \"recomend\", \"recomend\", \"recommend\", \"recommend\", \"recommend\", \"recommend\", \"recommend\", \"recommend\", \"recommend\", \"rendevouz\", \"restaurant\", \"restaurant\", \"restaurant\", \"restaurant\", \"restaurant\", \"restaurant\", \"restaurant\", \"review\", \"review\", \"review\", \"review\", \"review\", \"review\", \"review\", \"ridgeville\", \"right\", \"right\", \"right\", \"right\", \"right\", \"right\", \"right\", \"romper\", \"romper\", \"room\", \"room\", \"room\", \"room\", \"room\", \"room\", \"room\", \"salon\", \"salon\", \"salon\", \"salon\", \"salon\", \"salon\", \"salon\", \"salsa\", \"salsa\", \"salsa\", \"salsa\", \"salsa\", \"salsa\", \"salsa\", \"sandwich\", \"sandwich\", \"sandwich\", \"sandwich\", \"sandwich\", \"sandwich\", \"sandwich\", \"sauce\", \"sauce\", \"sauce\", \"sauce\", \"sauce\", \"sauce\", \"sauce\", \"say\", \"say\", \"say\", \"say\", \"say\", \"say\", \"say\", \"selection\", \"selection\", \"selection\", \"selection\", \"selection\", \"selection\", \"selection\", \"server\", \"server\", \"server\", \"server\", \"server\", \"server\", \"server\", \"service\", \"service\", \"service\", \"service\", \"service\", \"service\", \"service\", \"service.don't\", \"service.don't\", \"service.don't\", \"service.maybe\", \"service.maybe\", \"servis\", \"servis\", \"shameless\", \"shameless\", \"shipper\", \"shipper\", \"shoooz\", \"shop\", \"shop\", \"shop\", \"shop\", \"shop\", \"shop\", \"shop\", \"shore\", \"signature\", \"signature\", \"signature\", \"signature\", \"signature\", \"signature\", \"signature\", \"soup\", \"soup\", \"soup\", \"soup\", \"soup\", \"soup\", \"soup\", \"spend\", \"spend\", \"spend\", \"spend\", \"spend\", \"spend\", \"spend\", \"spot\", \"spot\", \"spot\", \"spot\", \"spot\", \"spot\", \"spot\", \"squishies\", \"squishies\", \"squishies\", \"squishies\", \"staff\", \"staff\", \"staff\", \"staff\", \"staff\", \"staff\", \"staff\", \"star\", \"star\", \"star\", \"star\", \"star\", \"star\", \"star\", \"strawberry\", \"strawberry\", \"strawberry\", \"strawberry\", \"strawberry\", \"strawberry\", \"strawberry\", \"sure\", \"sure\", \"sure\", \"sure\", \"sure\", \"sure\", \"sure\", \"sushi\", \"sushi\", \"sushi\", \"sushi\", \"sushi\", \"sushi\", \"sushi\", \"swordfish\", \"swordfish\", \"table\", \"table\", \"table\", \"table\", \"table\", \"table\", \"table\", \"take\", \"take\", \"take\", \"take\", \"take\", \"take\", \"take\", \"tapioca\", \"tapioca\", \"tapioca\", \"tapioca\", \"tapioca\", \"tapioca\", \"tapioca\", \"taste\", \"taste\", \"taste\", \"taste\", \"taste\", \"taste\", \"taste\", \"tataki\", \"tataki\", \"tataki\", \"tataki\", \"tataki\", \"tataki\", \"tataki\", \"tell\", \"tell\", \"tell\", \"tell\", \"tell\", \"tell\", \"tell\", \"terrible\", \"terrible\", \"terrible\", \"terrible\", \"terrible\", \"terrible\", \"terrible\", \"thing\", \"thing\", \"thing\", \"thing\", \"thing\", \"thing\", \"thing\", \"think\", \"think\", \"think\", \"think\", \"think\", \"think\", \"think\", \"time\", \"time\", \"time\", \"time\", \"time\", \"time\", \"time\", \"tough\", \"tough\", \"tough\", \"tough\", \"tough\", \"tough\", \"tough\", \"translucide\", \"translucide\", \"treat\", \"treat\", \"treat\", \"treat\", \"treat\", \"treat\", \"treat\", \"truck\", \"truck\", \"truck\", \"truck\", \"truck\", \"truck\", \"truck\", \"try\", \"try\", \"try\", \"try\", \"try\", \"try\", \"try\", \"ummm\", \"ummm\", \"ummm\", \"ummm\", \"ummm\", \"ummm\", \"unimpressed\", \"unimpressed\", \"unimpressed\", \"unimpressed\", \"unimpressed\", \"unimpressed\", \"unimpressed\", \"vegetarian\", \"vegetarian\", \"vegetarian\", \"vegetarian\", \"vegetarian\", \"vegetarian\", \"vegetarian\", \"vend\", \"vend\", \"vend\", \"vend\", \"vend\", \"vend\", \"vend\", \"visit\", \"visit\", \"visit\", \"visit\", \"visit\", \"visit\", \"visit\", \"wait\", \"wait\", \"wait\", \"wait\", \"wait\", \"wait\", \"wait\", \"waiter\", \"waiter\", \"waiter\", \"waiter\", \"waiter\", \"waiter\", \"waiter\", \"walk\", \"walk\", \"walk\", \"walk\", \"walk\", \"walk\", \"walk\", \"walkthrough\", \"walkthrough\", \"walkthrough\", \"want\", \"want\", \"want\", \"want\", \"want\", \"want\", \"want\", \"way\", \"way\", \"way\", \"way\", \"way\", \"way\", \"way\", \"week\", \"week\", \"week\", \"week\", \"week\", \"week\", \"week\", \"well\", \"well\", \"well\", \"well\", \"well\", \"well\", \"well\", \"wife\", \"wife\", \"wife\", \"wife\", \"wife\", \"wife\", \"wife\", \"will\", \"will\", \"will\", \"will\", \"will\", \"will\", \"will\", \"woot\", \"woot\", \"woot\", \"woot\", \"work\", \"work\", \"work\", \"work\", \"work\", \"work\", \"work\", \"wrong\", \"wrong\", \"wrong\", \"wrong\", \"wrong\", \"wrong\", \"wrong\", \"wtf\", \"wtf\", \"wtf\", \"wtf\", \"wtf\", \"wtf\", \"xi\", \"xi\", \"xi\", \"yuk\", \"yuk\", \"yuk\", \"yuk\", \"yuk\", \"yuk\", \"yuk\", \"yummy\", \"yummy\", \"yummy\", \"yummy\", \"yummy\", \"yummy\", \"yummy\", \"zombie\", \"zombie\", \"zombie\", \"zombie\", \"zombie\", \"zombie\"]}, \"R\": 30, \"lambda.step\": 0.01, \"plot.opts\": {\"xlab\": \"PC1\", \"ylab\": \"PC2\"}, \"topic.order\": [1, 2, 7, 5, 6, 4, 3]};\n",
       "\n",
       "function LDAvis_load_lib(url, callback){\n",
       "  var s = document.createElement('script');\n",
       "  s.src = url;\n",
       "  s.async = true;\n",
       "  s.onreadystatechange = s.onload = callback;\n",
       "  s.onerror = function(){console.warn(\"failed to load library \" + url);};\n",
       "  document.getElementsByTagName(\"head\")[0].appendChild(s);\n",
       "}\n",
       "\n",
       "if(typeof(LDAvis) !== \"undefined\"){\n",
       "   // already loaded: just create the visualization\n",
       "   !function(LDAvis){\n",
       "       new LDAvis(\"#\" + \"ldavis_el558028305057797123207197105\", ldavis_el558028305057797123207197105_data);\n",
       "   }(LDAvis);\n",
       "}else if(typeof define === \"function\" && define.amd){\n",
       "   // require.js is available: use it to load d3/LDAvis\n",
       "   require.config({paths: {d3: \"https://cdnjs.cloudflare.com/ajax/libs/d3/3.5.5/d3.min\"}});\n",
       "   require([\"d3\"], function(d3){\n",
       "      window.d3 = d3;\n",
       "      LDAvis_load_lib(\"https://cdn.rawgit.com/bmabey/pyLDAvis/files/ldavis.v1.0.0.js\", function(){\n",
       "        new LDAvis(\"#\" + \"ldavis_el558028305057797123207197105\", ldavis_el558028305057797123207197105_data);\n",
       "      });\n",
       "    });\n",
       "}else{\n",
       "    // require.js not available: dynamically load d3 & LDAvis\n",
       "    LDAvis_load_lib(\"https://cdnjs.cloudflare.com/ajax/libs/d3/3.5.5/d3.min.js\", function(){\n",
       "         LDAvis_load_lib(\"https://cdn.rawgit.com/bmabey/pyLDAvis/files/ldavis.v1.0.0.js\", function(){\n",
       "                 new LDAvis(\"#\" + \"ldavis_el558028305057797123207197105\", ldavis_el558028305057797123207197105_data);\n",
       "            })\n",
       "         });\n",
       "}\n",
       "</script>"
      ],
      "text/plain": [
       "PreparedData(topic_coordinates=              x         y  topics  cluster       Freq\n",
       "topic                                                \n",
       "0     -0.003668  0.003291       1        1  15.041788\n",
       "1      0.000559  0.001410       2        1  14.523438\n",
       "6     -0.000017 -0.003735       3        1  14.390011\n",
       "4      0.000299 -0.002858       4        1  14.156954\n",
       "5     -0.001889 -0.000423       5        1  14.042290\n",
       "3     -0.000772  0.000228       6        1  13.987473\n",
       "2      0.005489  0.002086       7        1  13.858053, topic_info=    Category          Freq        Term         Total  loglift  logprob\n",
       "307  Default   1727.000000        want   1727.000000  30.0000  30.0000\n",
       "24   Default   3559.000000        like   3559.000000  29.0000  29.0000\n",
       "50   Default   4171.000000        good   4171.000000  28.0000  28.0000\n",
       "130  Default   5005.000000       place   5005.000000  27.0000  27.0000\n",
       "0    Default  26398.000000              26398.000000  26.0000  26.0000\n",
       "..       ...           ...         ...           ...      ...      ...\n",
       "50    Topic7    411.934875        good   4171.502930  -0.3389  -5.1661\n",
       "473   Topic7    216.725433        know   1618.331177  -0.0342  -5.8084\n",
       "448   Topic7    205.360947         day   1447.437500   0.0235  -5.8622\n",
       "98    Topic7    207.626770        nice   1594.738281  -0.0624  -5.8513\n",
       "106   Topic7    204.117264  restaurant   1603.162354  -0.0847  -5.8683\n",
       "\n",
       "[630 rows x 6 columns], token_table=       Topic      Freq    Term\n",
       "term                          \n",
       "0          1  0.152696        \n",
       "0          2  0.153226        \n",
       "0          3  0.148150        \n",
       "0          4  0.152544        \n",
       "0          5  0.140612        \n",
       "...      ...       ...     ...\n",
       "14202      2  0.156500  zombie\n",
       "14202      4  0.156500  zombie\n",
       "14202      5  0.312999  zombie\n",
       "14202      6  0.156500  zombie\n",
       "14202      7  0.156500  zombie\n",
       "\n",
       "[1986 rows x 3 columns], R=30, lambda_step=0.01, plot_opts={'xlab': 'PC1', 'ylab': 'PC2'}, topic_order=[1, 2, 7, 5, 6, 4, 3])"
      ]
     },
     "execution_count": 80,
     "metadata": {},
     "output_type": "execute_result"
    }
   ],
   "source": [
    "%%time\n",
    "pyLDAvis.gensim.prepare(lda, corpus, dictionary=id2word)"
   ]
  },
  {
   "cell_type": "markdown",
   "metadata": {},
   "source": [
    "**Conclusion**:\n",
    "\n",
    "It looks like for the majority of topics in the bag of words, things were either talking about places, food, time, or service. This would make sense because this is a Yelp dataset, after all. The majority of topics are going to be about that.\n",
    "\n",
    "There seems to be a positive association in general, but since this is a BoW model, we can't be too sure. This would indicate that most reviews are positive, or at the very least, most reviews mention some positive aspect of the place they are reviewing.\n",
    "\n",
    "However, there is so much overlap between the topics, that further data cleaning and removal would probably be the best route to go with before further analysis."
   ]
  },
  {
   "cell_type": "markdown",
   "metadata": {},
   "source": [
    "## Stretch Goals\n",
    "\n",
    "Complete one of more of these to push your score towards a three: \n",
    "* Incorporate named entity recognition into your analysis\n",
    "* Compare vectorization methods in the classification section\n",
    "* Analyze more (or all) of the yelp dataset - this one is v. hard. \n",
    "* Use a generator object on the reviews file - this would help you with the analyzing the whole dataset.\n",
    "* Incorporate any of the other yelp dataset entities in your analysis (business, users, etc.)"
   ]
  }
 ],
 "metadata": {
  "kernel_info": {
   "name": "u4-s1-nlp"
  },
  "kernelspec": {
   "display_name": "Python 3",
   "language": "python",
   "name": "python3"
  },
  "language_info": {
   "codemirror_mode": {
    "name": "ipython",
    "version": 3
   },
   "file_extension": ".py",
   "mimetype": "text/x-python",
   "name": "python",
   "nbconvert_exporter": "python",
   "pygments_lexer": "ipython3",
   "version": "3.8.1"
  },
  "nteract": {
   "version": "0.14.5"
  },
  "toc-autonumbering": false
 },
 "nbformat": 4,
 "nbformat_minor": 4
}
